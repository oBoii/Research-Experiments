{
 "cells": [
  {
   "cell_type": "code",
   "execution_count": 47,
   "id": "initial_id",
   "metadata": {
    "collapsed": true,
    "ExecuteTime": {
     "end_time": "2024-05-07T12:33:07.115252Z",
     "start_time": "2024-05-07T12:33:07.080529900Z"
    }
   },
   "outputs": [
    {
     "name": "stdout",
     "output_type": "stream",
     "text": [
      "Variance of distances: 20019.16\n"
     ]
    }
   ],
   "source": [
    "import numpy as np\n",
    "import torch\n",
    "from torch.utils.data import Dataset\n",
    "\n",
    "# Step 1: Generate a distance matrix\n",
    "n = 50\n",
    "# distance_matrix = np.random.rand(n, n)\n",
    "# values between 0 and 100\n",
    "distance_matrix = np.random.randint(0, 100, (n, n)).astype(float)\n",
    "# Make the matrix symmetric and zero diagonal\n",
    "distance_matrix = (distance_matrix + distance_matrix.T) / 2\n",
    "np.fill_diagonal(distance_matrix, 0)\n",
    "\n",
    "\n",
    "# Step 2: Generate a dataset of possible routes\n",
    "class RoutesDataset(Dataset):\n",
    "    def __init__(self, distance_matrix, num_routes):\n",
    "        self.distance_matrix = distance_matrix\n",
    "        self.num_routes = num_routes\n",
    "\n",
    "    def __len__(self):\n",
    "        return self.num_routes\n",
    "\n",
    "    def __getitem__(self, idx):\n",
    "        route1 = np.random.permutation(len(self.distance_matrix))\n",
    "        distance1 = sum(self.distance_matrix[route1[i - 1], route1[i]] for i in range(len(route1)))\n",
    "        \n",
    "        # normalize route\n",
    "        route1 = torch.tensor(route1, dtype=torch.float) / (len(route1) - 1)\n",
    "\n",
    "        return (route1, distance1)\n",
    "\n",
    "\n",
    "routes_dataset = RoutesDataset(distance_matrix, 1_000)\n",
    "\n",
    "# Compute variance of the distances\n",
    "distances = [routes_dataset[i][1] for i in range(len(routes_dataset))]\n",
    "print(f\"Variance of distances: {np.var(distances):.2f}\")"
   ]
  },
  {
   "cell_type": "code",
   "execution_count": 48,
   "outputs": [],
   "source": [
    "import torch.nn as nn\n",
    "\n",
    "\n",
    "class RouteRegressor(nn.Module):\n",
    "    def __init__(self):\n",
    "        super(RouteRegressor, self).__init__()\n",
    "        self.fc1 = nn.Linear(n, 128)\n",
    "        self.fc2 = nn.Linear(128, 64)\n",
    "        self.fc3 = nn.Linear(64, 1)\n",
    "\n",
    "    def forward(self, route):\n",
    "        x = torch.relu(self.fc1(route))\n",
    "        x = torch.relu(self.fc2(x))\n",
    "        return self.fc3(x)  # output is a single continuous value\n",
    "\n",
    "\n",
    "class RouteRegressorCNN(nn.Module):\n",
    "    def __init__(self):\n",
    "        super(RouteRegressorCNN, self).__init__()\n",
    "        self.conv1 = nn.Conv1d(1, 64, kernel_size=3, stride=1, padding=1)\n",
    "        self.conv2 = nn.Conv1d(64, 128, kernel_size=3, stride=1, padding=1)\n",
    "        self.fc1 = nn.Linear(128 * n, 64)\n",
    "        self.fc2 = nn.Linear(64, 1)\n",
    "\n",
    "    def forward(self, route):\n",
    "        route = route.unsqueeze(1)  # add an extra dimension for the channels\n",
    "        x = torch.relu(self.conv1(route))\n",
    "        x = torch.relu(self.conv2(x))\n",
    "        x = x.view(x.size(0), -1)  # flatten the tensor\n",
    "        x = torch.relu(self.fc1(x))\n",
    "        return self.fc2(x)\n",
    "\n",
    "\n",
    "regressor = RouteRegressor()\n",
    "route1 = torch.randn(32, n)\n",
    "output = regressor(route1)"
   ],
   "metadata": {
    "collapsed": false,
    "ExecuteTime": {
     "end_time": "2024-05-07T12:33:08.574616600Z",
     "start_time": "2024-05-07T12:33:08.557691100Z"
    }
   },
   "id": "d83f0c0e5c37d75a"
  },
  {
   "cell_type": "code",
   "execution_count": 49,
   "outputs": [
    {
     "name": "stdout",
     "output_type": "stream",
     "text": [
      "Epoch 0 - Loss: 5_475_197.78\n",
      "Epoch 100 - Loss: 19_944.78\n",
      "Epoch 200 - Loss: 20_576.76\n",
      "Epoch 300 - Loss: 19_860.32\n",
      "Epoch 400 - Loss: 19_128.95\n",
      "Epoch 500 - Loss: 18_915.35\n",
      "Epoch 600 - Loss: 20_017.52\n",
      "Epoch 700 - Loss: 19_161.52\n",
      "Epoch 800 - Loss: 18_314.53\n",
      "Epoch 900 - Loss: 19_683.40\n"
     ]
    }
   ],
   "source": [
    "from torch.utils.data import DataLoader\n",
    "from torch.optim import Adam\n",
    "\n",
    "# Prepare the data\n",
    "data_loader = DataLoader(routes_dataset, batch_size=32, shuffle=True)\n",
    "\n",
    "# Initialize the classifier and the optimizer\n",
    "# regressor = RouteRegressor()\n",
    "regressor = RouteRegressorCNN()\n",
    "optimizer = Adam(regressor.parameters(), lr=0.001)\n",
    "\n",
    "# Train the classifier\n",
    "for epoch in range(1_000):  # number of epochs\n",
    "\n",
    "    loss_sum = 0\n",
    "    correct_predictions = 0\n",
    "    total_predictions = 0\n",
    "    for (route, distance) in data_loader:\n",
    "        # Forward pass\n",
    "        output = regressor(route.float())\n",
    "        predictions = output.round()  # compute the predictions\n",
    "        loss = torch.mean((output - distance.float()) ** 2)  # compute the loss\n",
    "\n",
    "        # Backward pass and optimization\n",
    "        optimizer.zero_grad()\n",
    "        loss.backward()\n",
    "        optimizer.step()\n",
    "\n",
    "        loss_sum += loss.item()\n",
    "    if epoch % 100 == 0:\n",
    "        print(f\"Epoch {epoch} - Loss: {loss_sum / len(data_loader):_.2f}\")"
   ],
   "metadata": {
    "collapsed": false,
    "ExecuteTime": {
     "end_time": "2024-05-07T12:40:38.826677900Z",
     "start_time": "2024-05-07T12:33:09.144666700Z"
    }
   },
   "id": "15d056735c5b065b"
  },
  {
   "cell_type": "code",
   "execution_count": 49,
   "outputs": [],
   "source": [],
   "metadata": {
    "collapsed": false,
    "ExecuteTime": {
     "end_time": "2024-05-07T12:40:38.838627800Z",
     "start_time": "2024-05-07T12:40:38.838627800Z"
    }
   },
   "id": "192bcdc36a98cd4d"
  },
  {
   "cell_type": "code",
   "execution_count": null,
   "outputs": [],
   "source": [],
   "metadata": {
    "collapsed": false
   },
   "id": "9b3c73bf910b9304"
  }
 ],
 "metadata": {
  "kernelspec": {
   "display_name": "Python 3",
   "language": "python",
   "name": "python3"
  },
  "language_info": {
   "codemirror_mode": {
    "name": "ipython",
    "version": 2
   },
   "file_extension": ".py",
   "mimetype": "text/x-python",
   "name": "python",
   "nbconvert_exporter": "python",
   "pygments_lexer": "ipython2",
   "version": "2.7.6"
  }
 },
 "nbformat": 4,
 "nbformat_minor": 5
}
