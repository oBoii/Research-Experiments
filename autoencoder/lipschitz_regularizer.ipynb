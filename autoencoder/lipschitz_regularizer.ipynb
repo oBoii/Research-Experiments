{
 "cells": [
  {
   "cell_type": "code",
   "execution_count": 13,
   "id": "initial_id",
   "metadata": {
    "collapsed": true,
    "ExecuteTime": {
     "end_time": "2024-05-23T09:51:04.347196900Z",
     "start_time": "2024-05-23T09:51:04.310805900Z"
    }
   },
   "outputs": [
    {
     "name": "stdout",
     "output_type": "stream",
     "text": [
      "torch.Size([10, 40])\n"
     ]
    }
   ],
   "source": [
    "import torch\n",
    "import math\n",
    "\n",
    "\n",
    "class LipschitzLinear(torch.nn.Module):\n",
    "    def __init__(self, in_features, out_features):\n",
    "        super().__init__()\n",
    "        self.in_features = in_features\n",
    "        self.out_features = out_features\n",
    "        self.weight = torch.nn.Parameter(torch.empty((out_features, in_features), requires_grad=True))\n",
    "        self.bias = torch.nn.Parameter(torch.empty((out_features), requires_grad=True))\n",
    "        self.c = torch.nn.Parameter(torch.empty((1), requires_grad=True))\n",
    "        self.softplus = torch.nn.Softplus()\n",
    "        self.initialize_parameters()\n",
    "\n",
    "    def initialize_parameters(self):\n",
    "        stdv = 1. / math.sqrt(self.weight.size(1))\n",
    "        self.weight.data.uniform_(-stdv, stdv)\n",
    "        self.bias.data.uniform_(-stdv, stdv)\n",
    "\n",
    "        # compute lipschitz constant of initial weight to initialize self.c\n",
    "        W = self.weight.data\n",
    "        W_abs_row_sum = torch.abs(W).sum(1)\n",
    "        self.c.data = W_abs_row_sum.max()  # just a rough initialization\n",
    "\n",
    "    def get_lipschitz_constant(self):\n",
    "        return self.softplus(self.c)\n",
    "\n",
    "    def forward(self, input):\n",
    "        lipc = self.softplus(self.c)\n",
    "        scale = lipc / torch.abs(self.weight).sum(1)\n",
    "        scale = torch.clamp(scale, max=1.0)\n",
    "        return torch.nn.functional.linear(input, self.weight * scale.unsqueeze(1), self.bias)\n",
    "\n",
    "\n",
    "class lipmlp(torch.nn.Module):\n",
    "    def __init__(self, dims):\n",
    "        \"\"\"\n",
    "        dim[0]: input dim\n",
    "        dim[1:-1]: hidden dims\n",
    "        dim[-1]: out dim\n",
    "\n",
    "        assume len(dims) >= 3\n",
    "        \"\"\"\n",
    "        super().__init__()\n",
    "\n",
    "        self.layers = torch.nn.ModuleList()\n",
    "        for ii in range(len(dims) - 2):\n",
    "            self.layers.append(LipschitzLinear(dims[ii], dims[ii + 1]))\n",
    "\n",
    "        self.layer_output = LipschitzLinear(dims[-2], dims[-1])\n",
    "        self.relu = torch.nn.ReLU()\n",
    "\n",
    "    def get_lipschitz_loss(self):\n",
    "        loss_lipc = 1.0\n",
    "        for ii in range(len(self.layers)):\n",
    "            loss_lipc = loss_lipc * self.layers[ii].get_lipschitz_constant()\n",
    "        loss_lipc = loss_lipc * self.layer_output.get_lipschitz_constant()\n",
    "        return loss_lipc\n",
    "\n",
    "    def forward(self, x):\n",
    "        for ii in range(len(self.layers)):\n",
    "            x = self.layers[ii](x)\n",
    "            x = self.relu(x)\n",
    "        return self.layer_output(x)\n",
    "\n",
    "\n",
    "# Example forward pass\n",
    "model = lipmlp([10, 20, 30, 40])\n",
    "x = torch.randn(10, 10)\n",
    "y = model(x)\n",
    "print(y.shape)\n",
    "\n",
    "# Example loss computation\n",
    "# compute loss\n",
    "# loss_sdf = loss_func(sdf0, gt0) + loss_func(sdf1, gt1) \n",
    "# loss_lipschitz = lam * model.get_lipschitz_loss()\n",
    "# loss = loss_sdf + loss_lipschitz"
   ]
  },
  {
   "cell_type": "markdown",
   "source": [
    "INFO-VAE"
   ],
   "metadata": {
    "collapsed": false
   },
   "id": "6900385d22ab8f7f"
  },
  {
   "cell_type": "code",
   "execution_count": 14,
   "outputs": [],
   "source": [
    "import argparse\n",
    "from argparse import Namespace\n",
    "\n",
    "import lightning as L\n",
    "import torch\n",
    "from lightning.pytorch.callbacks import ModelCheckpoint\n",
    "from lightning.pytorch.loggers import WandbLogger\n",
    "\n",
    "import wandb\n",
    "from utility import Utility\n",
    "from torch import optim\n",
    "from datasettype import DatasetType\n",
    "from callbacks import CustomCallbacks\n",
    "import sys\n",
    "\n",
    "\n",
    "def parse_args():\n",
    "    if 'ipykernel' not in sys.modules:\n",
    "        parser = argparse.ArgumentParser(description='Train an autoencoder')\n",
    "        parser.add_argument('--z', type=int, default=32, help='Latent dimension size')\n",
    "        parser.add_argument('--dataset', type=int, default=1, help='Database to use')\n",
    "        parser.add_argument('--epochs', type=int, default=10, help='Number of epochs to train')\n",
    "        parser.add_argument('--batch_size', type=int, default=32, help='Batch size')\n",
    "        parser.add_argument('--num_workers', type=int, default=1, help='Number of workers for dataloader')\n",
    "        parser.add_argument('--lr', type=float, default=1e-3, help='Learning rate')\n",
    "        parser.add_argument('--limit_train_batches', type=float, default=1.0,\n",
    "                            help='Fraction of training data to use per epoch')\n",
    "        parser.add_argument('--loss', type=str, default=\"mse_mdd_lipschitz\",\n",
    "                            help='Loss function to use: mse_mdd or mse_mmd_lipschitz')\n",
    "        return parser.parse_args()\n",
    "    else:\n",
    "        return Namespace(z=32, dataset=1, epochs=100, batch_size=32, num_workers=8, lr=1e-3, limit_train_batches=0.1,\n",
    "                         loss=\"mse_mmd\")\n",
    "\n",
    "\n",
    "class MSE_MMD(torch.nn.Module):\n",
    "    def __init__(self, beta, z_dim):\n",
    "        super().__init__()\n",
    "        self.beta = beta\n",
    "        self.z_dim = z_dim\n",
    "\n",
    "    def forward(self, input, target, z):\n",
    "        if self.beta == 0:\n",
    "            return torch.mean((input - target) ** 2)\n",
    "        else:\n",
    "            true_samples = torch.randn((200, self.z_dim), requires_grad=False, device=input.device)\n",
    "            mmd = self.beta * compute_mmd(true_samples, z)\n",
    "            return torch.mean((input - target) ** 2) + mmd\n",
    "\n",
    "\n",
    "class MSE_MMD_Lipschitz(torch.nn.Module):\n",
    "    def __init__(self, beta, z_dim, lamb, encoder):\n",
    "        super().__init__()\n",
    "        self.MSE_MMD = MSE_MMD(beta, z_dim)\n",
    "        self.model = encoder\n",
    "        self.lamb = lamb\n",
    "\n",
    "    def forward(self, input, target, z):\n",
    "        loss = self.MSE_MMD(input, target, z)\n",
    "        loss_lipc = self.model.get_lipschitz_loss()\n",
    "\n",
    "        # MSE + beta*MMD + lamb*Lipschitz regularizer\n",
    "        return loss + self.lamb * loss_lipc\n",
    "\n"
   ],
   "metadata": {
    "collapsed": false,
    "ExecuteTime": {
     "end_time": "2024-05-23T09:51:04.410783500Z",
     "start_time": "2024-05-23T09:51:04.320969800Z"
    }
   },
   "id": "1b140b9a57bb53eb"
  },
  {
   "cell_type": "code",
   "execution_count": 15,
   "outputs": [],
   "source": [
    "# class Encoder(torch.nn.Module):\n",
    "#     def __init__(self, img_size: tuple, latent_dim: int = 10):\n",
    "#         channels, height, width = img_size\n",
    "#         z_dim = latent_dim\n",
    "# \n",
    "#         super(Encoder, self).__init__()\n",
    "#         self.model = torch.nn.ModuleList([\n",
    "#             torch.nn.Conv2d(channels, 64, 4, 2, padding=1),\n",
    "#             torch.nn.LeakyReLU(),\n",
    "#             torch.nn.Conv2d(64, 128, 4, 2, padding=1),\n",
    "#             torch.nn.LeakyReLU(),\n",
    "#             torch.nn.Flatten(),\n",
    "#             torch.nn.Linear(128 * (height // 4) * (height // 4), 1024),  # if h=64 -> 32768\n",
    "#             torch.nn.LeakyReLU(),\n",
    "#             torch.nn.Linear(1024, z_dim)\n",
    "#         ])\n",
    "\n",
    "class Encoder(torch.nn.Module):\n",
    "    def __init__(self, img_size: tuple, latent_dim: int = 10):\n",
    "        channels, height, width = img_size\n",
    "        z_dim = latent_dim\n",
    "\n",
    "        super(Encoder, self).__init__()\n",
    "        self.model = torch.nn.ModuleList([\n",
    "            torch.nn.Conv2d(channels, 64, 4, 2, padding=1),\n",
    "            torch.nn.LeakyReLU(),\n",
    "            torch.nn.Conv2d(64, 128, 4, 2, padding=1),\n",
    "            torch.nn.LeakyReLU(),\n",
    "            torch.nn.Flatten(),\n",
    "            torch.nn.Linear(128 * (height // 4) * (height // 4), 1024),  # if h=64 -> 32768\n",
    "            torch.nn.LeakyReLU(),\n",
    "            LipschitzLinear(1024, z_dim)  # Apply Lipschitz regularizer to the bottleneck layer\n",
    "        ])\n",
    "\n",
    "    def get_lipschitz_loss(self):\n",
    "        return self.model[-1].get_lipschitz_constant()\n",
    "\n",
    "    def forward(self, x):\n",
    "        for layer in self.model:\n",
    "            x = layer(x)\n",
    "        return x\n",
    "\n",
    "\n",
    "class Decoder(torch.nn.Module):\n",
    "    def __init__(self, img_size: tuple, latent_dim: int = 10):\n",
    "        channels, height, width = img_size\n",
    "        z_dim = latent_dim\n",
    "\n",
    "        super(Decoder, self).__init__()\n",
    "        self.model = torch.nn.ModuleList([\n",
    "            torch.nn.Linear(z_dim, 1024),\n",
    "            torch.nn.ReLU(),\n",
    "            torch.nn.Linear(1024, 128 * (height // 4) * (height // 4)),\n",
    "            torch.nn.ReLU(),\n",
    "            torch.nn.Unflatten(1, (128, height // 4, height // 4)),\n",
    "            torch.nn.ConvTranspose2d(128, 64, 4, 2, padding=1),\n",
    "            torch.nn.ReLU(),\n",
    "            torch.nn.ConvTranspose2d(64, channels, 4, 2, padding=1),\n",
    "            torch.nn.Sigmoid()\n",
    "        ])\n",
    "\n",
    "    def forward(self, x):\n",
    "        for layer in self.model:\n",
    "            x = layer(x)\n",
    "        return x\n",
    "\n",
    "\n",
    "def compute_kernel(x, y):\n",
    "    x_size = x.size(0)\n",
    "    y_size = y.size(0)\n",
    "    dim = x.size(1)\n",
    "    x = x.unsqueeze(1)  # (x_size, 1, dim)\n",
    "    y = y.unsqueeze(0)  # (1, y_size, dim)\n",
    "    tiled_x = x.expand(x_size, y_size, dim)\n",
    "    tiled_y = y.expand(x_size, y_size, dim)\n",
    "    kernel_input = (tiled_x - tiled_y).pow(2).mean(2) / torch.tensor(dim, dtype=torch.float32)\n",
    "\n",
    "    return torch.exp(-kernel_input)  # (x_size, y_size)\n",
    "\n",
    "\n",
    "def compute_mmd(x, y):\n",
    "    x_kernel = compute_kernel(x, x)\n",
    "    y_kernel = compute_kernel(y, y)\n",
    "    xy_kernel = compute_kernel(x, y)\n",
    "    mmd = x_kernel.mean() + y_kernel.mean() - 2 * xy_kernel.mean()\n",
    "    return mmd\n",
    "\n"
   ],
   "metadata": {
    "collapsed": false,
    "ExecuteTime": {
     "end_time": "2024-05-23T09:51:04.410783500Z",
     "start_time": "2024-05-23T09:51:04.340622900Z"
    }
   },
   "id": "d5d77437ceaf030f"
  },
  {
   "cell_type": "code",
   "execution_count": 16,
   "outputs": [],
   "source": [
    "class AutoEncoder(L.LightningModule):\n",
    "    def __init__(self, encoder: Encoder, decoder: Decoder, z_dim: int, lr: float, loss_func: str,\n",
    "                 beta: float = 1.0, lamb=0.01):\n",
    "        super().__init__()\n",
    "        self.encoder = encoder\n",
    "        self.decoder = decoder\n",
    "        if loss_func == \"mse_mmd\":\n",
    "            self.loss_func = MSE_MMD(beta, z_dim)\n",
    "        elif loss_func == \"mse_mmd_lipschitz\":\n",
    "            self.loss_func = MSE_MMD_Lipschitz(beta, z_dim, lamb, encoder)\n",
    "        else:\n",
    "            raise ValueError(\"Invalid loss function\")\n",
    "        self.lr = lr\n",
    "        self.test_losses = []\n",
    "\n",
    "    def training_step(self, batch, batch_idx):\n",
    "        x, y = batch  # x.shape: (200, 1, 64, 64), y.shape: (200, 1, 6)\n",
    "        z = self.encoder(x)\n",
    "        x_reconstructed = self.decoder(z)\n",
    "\n",
    "        loss = self.loss_func(x_reconstructed, x, z)\n",
    "\n",
    "        self.log(\"train_loss\", loss)\n",
    "        return loss\n",
    "\n",
    "    def validation_step(self, batch, batch_idx):\n",
    "        x, y = batch\n",
    "        z = self.encoder(x)\n",
    "        x_reconstructed = self.decoder(z)\n",
    "        loss = self.loss_func(x_reconstructed, x, z)\n",
    "        self.log(\"val_loss\", loss)\n",
    "        return loss\n",
    "\n",
    "    def configure_optimizers(self):\n",
    "        optimizer = optim.Adam(self.parameters(), lr=self.lr)\n",
    "        return optimizer\n",
    "\n",
    "    def test_step(self, batch, batch_idx):\n",
    "        x, y = batch\n",
    "        z = self.encoder(x)\n",
    "        x_reconstructed = self.decoder(z)\n",
    "        loss = self.loss_func(x_reconstructed, x, z)\n",
    "        self.test_losses.append(loss)\n",
    "        return {\"test_loss\": loss}\n",
    "\n",
    "    def on_test_epoch_end(self):\n",
    "        avg_loss = torch.stack(self.test_losses).mean()\n",
    "        self.log(\"avg_test_loss\", avg_loss)\n",
    "        self.test_losses = []  # reset for the next epoch\n"
   ],
   "metadata": {
    "collapsed": false,
    "ExecuteTime": {
     "end_time": "2024-05-23T09:51:04.418234Z",
     "start_time": "2024-05-23T09:51:04.347196900Z"
    }
   },
   "id": "29ad9203b3f58141"
  },
  {
   "cell_type": "code",
   "execution_count": 17,
   "outputs": [
    {
     "data": {
      "text/plain": "<IPython.core.display.HTML object>",
      "text/html": "Tracking run with wandb version 0.17.0"
     },
     "metadata": {},
     "output_type": "display_data"
    },
    {
     "data": {
      "text/plain": "<IPython.core.display.HTML object>",
      "text/html": "Run data is saved locally in <code>C:\\GitHub\\Research-Experiments\\autoencoder\\wandb\\run-20240523_115104-4n6dwinj</code>"
     },
     "metadata": {},
     "output_type": "display_data"
    },
    {
     "data": {
      "text/plain": "<IPython.core.display.HTML object>",
      "text/html": "Syncing run <strong><a href='https://wandb.ai/oboii/info-vae/runs/4n6dwinj' target=\"_blank\">l=mse_mmd_z=32_lr=0.001_batch_size=32_ygcpldu6</a></strong> to <a href='https://wandb.ai/oboii/info-vae' target=\"_blank\">Weights & Biases</a> (<a href='https://wandb.me/run' target=\"_blank\">docs</a>)<br/>"
     },
     "metadata": {},
     "output_type": "display_data"
    },
    {
     "data": {
      "text/plain": "<IPython.core.display.HTML object>",
      "text/html": " View project at <a href='https://wandb.ai/oboii/info-vae' target=\"_blank\">https://wandb.ai/oboii/info-vae</a>"
     },
     "metadata": {},
     "output_type": "display_data"
    },
    {
     "data": {
      "text/plain": "<IPython.core.display.HTML object>",
      "text/html": " View run at <a href='https://wandb.ai/oboii/info-vae/runs/4n6dwinj' target=\"_blank\">https://wandb.ai/oboii/info-vae/runs/4n6dwinj</a>"
     },
     "metadata": {},
     "output_type": "display_data"
    },
    {
     "name": "stderr",
     "output_type": "stream",
     "text": [
      "GPU available: True (cuda), used: True\n",
      "TPU available: False, using: 0 TPU cores\n",
      "IPU available: False, using: 0 IPUs\n",
      "HPU available: False, using: 0 HPUs\n",
      "LOCAL_RANK: 0 - CUDA_VISIBLE_DEVICES: [0]\n",
      "\n",
      "  | Name      | Type    | Params\n",
      "--------------------------------------\n",
      "0 | encoder   | Encoder | 6.6 M \n",
      "1 | decoder   | Decoder | 6.6 M \n",
      "2 | loss_func | MSE_MMD | 0     \n",
      "--------------------------------------\n",
      "13.2 M    Trainable params\n",
      "0         Non-trainable params\n",
      "13.2 M    Total params\n",
      "52.734    Total estimated model params size (MB)\n"
     ]
    },
    {
     "data": {
      "text/plain": "Sanity Checking: |          | 0/? [00:00<?, ?it/s]",
      "application/vnd.jupyter.widget-view+json": {
       "version_major": 2,
       "version_minor": 0,
       "model_id": "6c15ff598a054051862b8f2e1f418761"
      }
     },
     "metadata": {},
     "output_type": "display_data"
    },
    {
     "data": {
      "text/plain": "Training: |          | 0/? [00:00<?, ?it/s]",
      "application/vnd.jupyter.widget-view+json": {
       "version_major": 2,
       "version_minor": 0,
       "model_id": "209e3e43c60c4ff48ff4810529a607c8"
      }
     },
     "metadata": {},
     "output_type": "display_data"
    },
    {
     "data": {
      "text/plain": "Validation: |          | 0/? [00:00<?, ?it/s]",
      "application/vnd.jupyter.widget-view+json": {
       "version_major": 2,
       "version_minor": 0,
       "model_id": "c6bca4f23a114a3fa47a5efa7509cf2f"
      }
     },
     "metadata": {},
     "output_type": "display_data"
    },
    {
     "name": "stderr",
     "output_type": "stream",
     "text": [
      "Epoch 0, global step 150: 'val_loss' reached 0.03252 (best 0.03252), saving model to 'C:\\\\GitHub\\\\Research-Experiments\\\\autoencoder\\\\wandb\\\\run-20240523_115104-4n6dwinj\\\\files\\\\checkpoints\\\\epoch=0-step=150.ckpt' as top 1\n"
     ]
    },
    {
     "data": {
      "text/plain": "Validation: |          | 0/? [00:00<?, ?it/s]",
      "application/vnd.jupyter.widget-view+json": {
       "version_major": 2,
       "version_minor": 0,
       "model_id": "3eadc02d08b645e49e7ef2d009a6cfd2"
      }
     },
     "metadata": {},
     "output_type": "display_data"
    },
    {
     "name": "stderr",
     "output_type": "stream",
     "text": [
      "Epoch 1, global step 300: 'val_loss' reached 0.02195 (best 0.02195), saving model to 'C:\\\\GitHub\\\\Research-Experiments\\\\autoencoder\\\\wandb\\\\run-20240523_115104-4n6dwinj\\\\files\\\\checkpoints\\\\epoch=1-step=300.ckpt' as top 1\n"
     ]
    },
    {
     "data": {
      "text/plain": "Validation: |          | 0/? [00:00<?, ?it/s]",
      "application/vnd.jupyter.widget-view+json": {
       "version_major": 2,
       "version_minor": 0,
       "model_id": "3818f99b160842d9bb0d9e3ffa672177"
      }
     },
     "metadata": {},
     "output_type": "display_data"
    },
    {
     "name": "stderr",
     "output_type": "stream",
     "text": [
      "Epoch 2, global step 450: 'val_loss' reached 0.01694 (best 0.01694), saving model to 'C:\\\\GitHub\\\\Research-Experiments\\\\autoencoder\\\\wandb\\\\run-20240523_115104-4n6dwinj\\\\files\\\\checkpoints\\\\epoch=2-step=450.ckpt' as top 1\n"
     ]
    },
    {
     "data": {
      "text/plain": "Validation: |          | 0/? [00:00<?, ?it/s]",
      "application/vnd.jupyter.widget-view+json": {
       "version_major": 2,
       "version_minor": 0,
       "model_id": "9e27444b9b33477a840cfacad5d6f194"
      }
     },
     "metadata": {},
     "output_type": "display_data"
    },
    {
     "name": "stderr",
     "output_type": "stream",
     "text": [
      "Epoch 3, global step 600: 'val_loss' reached 0.01427 (best 0.01427), saving model to 'C:\\\\GitHub\\\\Research-Experiments\\\\autoencoder\\\\wandb\\\\run-20240523_115104-4n6dwinj\\\\files\\\\checkpoints\\\\epoch=3-step=600.ckpt' as top 1\n"
     ]
    },
    {
     "data": {
      "text/plain": "Validation: |          | 0/? [00:00<?, ?it/s]",
      "application/vnd.jupyter.widget-view+json": {
       "version_major": 2,
       "version_minor": 0,
       "model_id": "aabbed92657b473cbc89f64a146173cb"
      }
     },
     "metadata": {},
     "output_type": "display_data"
    },
    {
     "name": "stderr",
     "output_type": "stream",
     "text": [
      "Epoch 4, global step 750: 'val_loss' reached 0.01247 (best 0.01247), saving model to 'C:\\\\GitHub\\\\Research-Experiments\\\\autoencoder\\\\wandb\\\\run-20240523_115104-4n6dwinj\\\\files\\\\checkpoints\\\\epoch=4-step=750.ckpt' as top 1\n"
     ]
    },
    {
     "data": {
      "text/plain": "Validation: |          | 0/? [00:00<?, ?it/s]",
      "application/vnd.jupyter.widget-view+json": {
       "version_major": 2,
       "version_minor": 0,
       "model_id": "10078c0508004f809e89d0374cffa3b5"
      }
     },
     "metadata": {},
     "output_type": "display_data"
    },
    {
     "name": "stderr",
     "output_type": "stream",
     "text": [
      "Epoch 5, global step 900: 'val_loss' reached 0.01140 (best 0.01140), saving model to 'C:\\\\GitHub\\\\Research-Experiments\\\\autoencoder\\\\wandb\\\\run-20240523_115104-4n6dwinj\\\\files\\\\checkpoints\\\\epoch=5-step=900.ckpt' as top 1\n"
     ]
    },
    {
     "data": {
      "text/plain": "Validation: |          | 0/? [00:00<?, ?it/s]",
      "application/vnd.jupyter.widget-view+json": {
       "version_major": 2,
       "version_minor": 0,
       "model_id": "e5bf718a69c74b77a24a5b0418b643d0"
      }
     },
     "metadata": {},
     "output_type": "display_data"
    },
    {
     "name": "stderr",
     "output_type": "stream",
     "text": [
      "Epoch 6, global step 1050: 'val_loss' reached 0.01037 (best 0.01037), saving model to 'C:\\\\GitHub\\\\Research-Experiments\\\\autoencoder\\\\wandb\\\\run-20240523_115104-4n6dwinj\\\\files\\\\checkpoints\\\\epoch=6-step=1050.ckpt' as top 1\n"
     ]
    },
    {
     "data": {
      "text/plain": "Validation: |          | 0/? [00:00<?, ?it/s]",
      "application/vnd.jupyter.widget-view+json": {
       "version_major": 2,
       "version_minor": 0,
       "model_id": "a0abc9827b3f444dafc2ff1e9ae22109"
      }
     },
     "metadata": {},
     "output_type": "display_data"
    },
    {
     "name": "stderr",
     "output_type": "stream",
     "text": [
      "Epoch 7, global step 1200: 'val_loss' reached 0.01020 (best 0.01020), saving model to 'C:\\\\GitHub\\\\Research-Experiments\\\\autoencoder\\\\wandb\\\\run-20240523_115104-4n6dwinj\\\\files\\\\checkpoints\\\\epoch=7-step=1200.ckpt' as top 1\n"
     ]
    },
    {
     "data": {
      "text/plain": "Validation: |          | 0/? [00:00<?, ?it/s]",
      "application/vnd.jupyter.widget-view+json": {
       "version_major": 2,
       "version_minor": 0,
       "model_id": "abd27a4a74384037974ab0c63c6ec9c9"
      }
     },
     "metadata": {},
     "output_type": "display_data"
    },
    {
     "name": "stderr",
     "output_type": "stream",
     "text": [
      "Epoch 8, global step 1350: 'val_loss' reached 0.00930 (best 0.00930), saving model to 'C:\\\\GitHub\\\\Research-Experiments\\\\autoencoder\\\\wandb\\\\run-20240523_115104-4n6dwinj\\\\files\\\\checkpoints\\\\epoch=8-step=1350.ckpt' as top 1\n"
     ]
    },
    {
     "data": {
      "text/plain": "Validation: |          | 0/? [00:00<?, ?it/s]",
      "application/vnd.jupyter.widget-view+json": {
       "version_major": 2,
       "version_minor": 0,
       "model_id": "728bcee5dea1446bbd032c8545f1cf90"
      }
     },
     "metadata": {},
     "output_type": "display_data"
    },
    {
     "name": "stderr",
     "output_type": "stream",
     "text": [
      "Epoch 9, global step 1500: 'val_loss' reached 0.00895 (best 0.00895), saving model to 'C:\\\\GitHub\\\\Research-Experiments\\\\autoencoder\\\\wandb\\\\run-20240523_115104-4n6dwinj\\\\files\\\\checkpoints\\\\epoch=9-step=1500.ckpt' as top 1\n"
     ]
    },
    {
     "data": {
      "text/plain": "Validation: |          | 0/? [00:00<?, ?it/s]",
      "application/vnd.jupyter.widget-view+json": {
       "version_major": 2,
       "version_minor": 0,
       "model_id": "d30a59e871384c24af2b527dbd48b507"
      }
     },
     "metadata": {},
     "output_type": "display_data"
    },
    {
     "name": "stderr",
     "output_type": "stream",
     "text": [
      "Epoch 10, global step 1650: 'val_loss' reached 0.00857 (best 0.00857), saving model to 'C:\\\\GitHub\\\\Research-Experiments\\\\autoencoder\\\\wandb\\\\run-20240523_115104-4n6dwinj\\\\files\\\\checkpoints\\\\epoch=10-step=1650.ckpt' as top 1\n"
     ]
    },
    {
     "data": {
      "text/plain": "Validation: |          | 0/? [00:00<?, ?it/s]",
      "application/vnd.jupyter.widget-view+json": {
       "version_major": 2,
       "version_minor": 0,
       "model_id": "22a12e7cb9a14737ac2bf291961cd1ff"
      }
     },
     "metadata": {},
     "output_type": "display_data"
    },
    {
     "name": "stderr",
     "output_type": "stream",
     "text": [
      "Epoch 11, global step 1800: 'val_loss' reached 0.00828 (best 0.00828), saving model to 'C:\\\\GitHub\\\\Research-Experiments\\\\autoencoder\\\\wandb\\\\run-20240523_115104-4n6dwinj\\\\files\\\\checkpoints\\\\epoch=11-step=1800.ckpt' as top 1\n"
     ]
    },
    {
     "data": {
      "text/plain": "Validation: |          | 0/? [00:00<?, ?it/s]",
      "application/vnd.jupyter.widget-view+json": {
       "version_major": 2,
       "version_minor": 0,
       "model_id": "f6d55499b5a143b29c339c654387cc72"
      }
     },
     "metadata": {},
     "output_type": "display_data"
    },
    {
     "name": "stderr",
     "output_type": "stream",
     "text": [
      "Epoch 12, global step 1950: 'val_loss' reached 0.00818 (best 0.00818), saving model to 'C:\\\\GitHub\\\\Research-Experiments\\\\autoencoder\\\\wandb\\\\run-20240523_115104-4n6dwinj\\\\files\\\\checkpoints\\\\epoch=12-step=1950.ckpt' as top 1\n"
     ]
    },
    {
     "data": {
      "text/plain": "Validation: |          | 0/? [00:00<?, ?it/s]",
      "application/vnd.jupyter.widget-view+json": {
       "version_major": 2,
       "version_minor": 0,
       "model_id": "6c566bf7e7e348c8bcd0219d7caf0477"
      }
     },
     "metadata": {},
     "output_type": "display_data"
    },
    {
     "name": "stderr",
     "output_type": "stream",
     "text": [
      "Epoch 13, global step 2100: 'val_loss' reached 0.00789 (best 0.00789), saving model to 'C:\\\\GitHub\\\\Research-Experiments\\\\autoencoder\\\\wandb\\\\run-20240523_115104-4n6dwinj\\\\files\\\\checkpoints\\\\epoch=13-step=2100.ckpt' as top 1\n"
     ]
    },
    {
     "data": {
      "text/plain": "Validation: |          | 0/? [00:00<?, ?it/s]",
      "application/vnd.jupyter.widget-view+json": {
       "version_major": 2,
       "version_minor": 0,
       "model_id": "63d934fa3c3d46f9b40392e04d166d15"
      }
     },
     "metadata": {},
     "output_type": "display_data"
    },
    {
     "name": "stderr",
     "output_type": "stream",
     "text": [
      "Epoch 14, global step 2250: 'val_loss' reached 0.00774 (best 0.00774), saving model to 'C:\\\\GitHub\\\\Research-Experiments\\\\autoencoder\\\\wandb\\\\run-20240523_115104-4n6dwinj\\\\files\\\\checkpoints\\\\epoch=14-step=2250.ckpt' as top 1\n"
     ]
    },
    {
     "data": {
      "text/plain": "Validation: |          | 0/? [00:00<?, ?it/s]",
      "application/vnd.jupyter.widget-view+json": {
       "version_major": 2,
       "version_minor": 0,
       "model_id": "ceeef86e306a4958939b92e31f0adb1c"
      }
     },
     "metadata": {},
     "output_type": "display_data"
    },
    {
     "name": "stderr",
     "output_type": "stream",
     "text": [
      "Epoch 15, global step 2400: 'val_loss' reached 0.00761 (best 0.00761), saving model to 'C:\\\\GitHub\\\\Research-Experiments\\\\autoencoder\\\\wandb\\\\run-20240523_115104-4n6dwinj\\\\files\\\\checkpoints\\\\epoch=15-step=2400.ckpt' as top 1\n"
     ]
    },
    {
     "data": {
      "text/plain": "Validation: |          | 0/? [00:00<?, ?it/s]",
      "application/vnd.jupyter.widget-view+json": {
       "version_major": 2,
       "version_minor": 0,
       "model_id": "91981066a18e4508bdfd7d91e0c43029"
      }
     },
     "metadata": {},
     "output_type": "display_data"
    },
    {
     "name": "stderr",
     "output_type": "stream",
     "text": [
      "Epoch 16, global step 2550: 'val_loss' reached 0.00744 (best 0.00744), saving model to 'C:\\\\GitHub\\\\Research-Experiments\\\\autoencoder\\\\wandb\\\\run-20240523_115104-4n6dwinj\\\\files\\\\checkpoints\\\\epoch=16-step=2550.ckpt' as top 1\n"
     ]
    },
    {
     "data": {
      "text/plain": "Validation: |          | 0/? [00:00<?, ?it/s]",
      "application/vnd.jupyter.widget-view+json": {
       "version_major": 2,
       "version_minor": 0,
       "model_id": "d0f752d1366b46d282e038919ceb7fdc"
      }
     },
     "metadata": {},
     "output_type": "display_data"
    },
    {
     "name": "stderr",
     "output_type": "stream",
     "text": [
      "Epoch 17, global step 2700: 'val_loss' reached 0.00728 (best 0.00728), saving model to 'C:\\\\GitHub\\\\Research-Experiments\\\\autoencoder\\\\wandb\\\\run-20240523_115104-4n6dwinj\\\\files\\\\checkpoints\\\\epoch=17-step=2700.ckpt' as top 1\n"
     ]
    },
    {
     "data": {
      "text/plain": "Validation: |          | 0/? [00:00<?, ?it/s]",
      "application/vnd.jupyter.widget-view+json": {
       "version_major": 2,
       "version_minor": 0,
       "model_id": "abeb817c9e414194b379fad365fea09f"
      }
     },
     "metadata": {},
     "output_type": "display_data"
    },
    {
     "name": "stderr",
     "output_type": "stream",
     "text": [
      "Epoch 18, global step 2850: 'val_loss' reached 0.00717 (best 0.00717), saving model to 'C:\\\\GitHub\\\\Research-Experiments\\\\autoencoder\\\\wandb\\\\run-20240523_115104-4n6dwinj\\\\files\\\\checkpoints\\\\epoch=18-step=2850.ckpt' as top 1\n"
     ]
    },
    {
     "data": {
      "text/plain": "Validation: |          | 0/? [00:00<?, ?it/s]",
      "application/vnd.jupyter.widget-view+json": {
       "version_major": 2,
       "version_minor": 0,
       "model_id": "728d583b7a4d4579ba518b256aadec8f"
      }
     },
     "metadata": {},
     "output_type": "display_data"
    },
    {
     "name": "stderr",
     "output_type": "stream",
     "text": [
      "Epoch 19, global step 3000: 'val_loss' reached 0.00703 (best 0.00703), saving model to 'C:\\\\GitHub\\\\Research-Experiments\\\\autoencoder\\\\wandb\\\\run-20240523_115104-4n6dwinj\\\\files\\\\checkpoints\\\\epoch=19-step=3000.ckpt' as top 1\n"
     ]
    },
    {
     "data": {
      "text/plain": "Validation: |          | 0/? [00:00<?, ?it/s]",
      "application/vnd.jupyter.widget-view+json": {
       "version_major": 2,
       "version_minor": 0,
       "model_id": "21819fdaabd34ae9ac2f6b4bf8b8ad52"
      }
     },
     "metadata": {},
     "output_type": "display_data"
    },
    {
     "name": "stderr",
     "output_type": "stream",
     "text": [
      "Epoch 20, global step 3150: 'val_loss' was not in top 1\n"
     ]
    },
    {
     "data": {
      "text/plain": "Validation: |          | 0/? [00:00<?, ?it/s]",
      "application/vnd.jupyter.widget-view+json": {
       "version_major": 2,
       "version_minor": 0,
       "model_id": "ad224e3881664aedb46f6d815c1f7937"
      }
     },
     "metadata": {},
     "output_type": "display_data"
    },
    {
     "name": "stderr",
     "output_type": "stream",
     "text": [
      "Epoch 21, global step 3300: 'val_loss' reached 0.00689 (best 0.00689), saving model to 'C:\\\\GitHub\\\\Research-Experiments\\\\autoencoder\\\\wandb\\\\run-20240523_115104-4n6dwinj\\\\files\\\\checkpoints\\\\epoch=21-step=3300.ckpt' as top 1\n"
     ]
    },
    {
     "data": {
      "text/plain": "Validation: |          | 0/? [00:00<?, ?it/s]",
      "application/vnd.jupyter.widget-view+json": {
       "version_major": 2,
       "version_minor": 0,
       "model_id": "c667c453ffe64cdc96d75465df627509"
      }
     },
     "metadata": {},
     "output_type": "display_data"
    },
    {
     "name": "stderr",
     "output_type": "stream",
     "text": [
      "Epoch 22, global step 3450: 'val_loss' reached 0.00688 (best 0.00688), saving model to 'C:\\\\GitHub\\\\Research-Experiments\\\\autoencoder\\\\wandb\\\\run-20240523_115104-4n6dwinj\\\\files\\\\checkpoints\\\\epoch=22-step=3450.ckpt' as top 1\n"
     ]
    },
    {
     "data": {
      "text/plain": "Validation: |          | 0/? [00:00<?, ?it/s]",
      "application/vnd.jupyter.widget-view+json": {
       "version_major": 2,
       "version_minor": 0,
       "model_id": "48bfa18d58384b5a9809558ffd2ee295"
      }
     },
     "metadata": {},
     "output_type": "display_data"
    },
    {
     "name": "stderr",
     "output_type": "stream",
     "text": [
      "Epoch 23, global step 3600: 'val_loss' reached 0.00669 (best 0.00669), saving model to 'C:\\\\GitHub\\\\Research-Experiments\\\\autoencoder\\\\wandb\\\\run-20240523_115104-4n6dwinj\\\\files\\\\checkpoints\\\\epoch=23-step=3600.ckpt' as top 1\n"
     ]
    },
    {
     "data": {
      "text/plain": "Validation: |          | 0/? [00:00<?, ?it/s]",
      "application/vnd.jupyter.widget-view+json": {
       "version_major": 2,
       "version_minor": 0,
       "model_id": "bdd9b7c24246457e8d3932265da57cdf"
      }
     },
     "metadata": {},
     "output_type": "display_data"
    },
    {
     "name": "stderr",
     "output_type": "stream",
     "text": [
      "Epoch 24, global step 3750: 'val_loss' reached 0.00662 (best 0.00662), saving model to 'C:\\\\GitHub\\\\Research-Experiments\\\\autoencoder\\\\wandb\\\\run-20240523_115104-4n6dwinj\\\\files\\\\checkpoints\\\\epoch=24-step=3750.ckpt' as top 1\n"
     ]
    },
    {
     "data": {
      "text/plain": "Validation: |          | 0/? [00:00<?, ?it/s]",
      "application/vnd.jupyter.widget-view+json": {
       "version_major": 2,
       "version_minor": 0,
       "model_id": "4af1718185a64684aaf704d3b4940b66"
      }
     },
     "metadata": {},
     "output_type": "display_data"
    },
    {
     "name": "stderr",
     "output_type": "stream",
     "text": [
      "Epoch 25, global step 3900: 'val_loss' reached 0.00639 (best 0.00639), saving model to 'C:\\\\GitHub\\\\Research-Experiments\\\\autoencoder\\\\wandb\\\\run-20240523_115104-4n6dwinj\\\\files\\\\checkpoints\\\\epoch=25-step=3900.ckpt' as top 1\n"
     ]
    },
    {
     "data": {
      "text/plain": "Validation: |          | 0/? [00:00<?, ?it/s]",
      "application/vnd.jupyter.widget-view+json": {
       "version_major": 2,
       "version_minor": 0,
       "model_id": "6434c3e1b70c4b5581f466750b2fd590"
      }
     },
     "metadata": {},
     "output_type": "display_data"
    },
    {
     "name": "stderr",
     "output_type": "stream",
     "text": [
      "Epoch 26, global step 4050: 'val_loss' was not in top 1\n"
     ]
    },
    {
     "data": {
      "text/plain": "Validation: |          | 0/? [00:00<?, ?it/s]",
      "application/vnd.jupyter.widget-view+json": {
       "version_major": 2,
       "version_minor": 0,
       "model_id": "ad60666605bf49b7b85d50c2ca097cc2"
      }
     },
     "metadata": {},
     "output_type": "display_data"
    },
    {
     "name": "stderr",
     "output_type": "stream",
     "text": [
      "Epoch 27, global step 4200: 'val_loss' reached 0.00633 (best 0.00633), saving model to 'C:\\\\GitHub\\\\Research-Experiments\\\\autoencoder\\\\wandb\\\\run-20240523_115104-4n6dwinj\\\\files\\\\checkpoints\\\\epoch=27-step=4200.ckpt' as top 1\n"
     ]
    },
    {
     "data": {
      "text/plain": "Validation: |          | 0/? [00:00<?, ?it/s]",
      "application/vnd.jupyter.widget-view+json": {
       "version_major": 2,
       "version_minor": 0,
       "model_id": "ee7857c7f38d43a89de22a8ab8ccd7bc"
      }
     },
     "metadata": {},
     "output_type": "display_data"
    },
    {
     "name": "stderr",
     "output_type": "stream",
     "text": [
      "Epoch 28, global step 4350: 'val_loss' was not in top 1\n"
     ]
    },
    {
     "data": {
      "text/plain": "Validation: |          | 0/? [00:00<?, ?it/s]",
      "application/vnd.jupyter.widget-view+json": {
       "version_major": 2,
       "version_minor": 0,
       "model_id": "b47649ebe3b64895919caf396cc54201"
      }
     },
     "metadata": {},
     "output_type": "display_data"
    },
    {
     "name": "stderr",
     "output_type": "stream",
     "text": [
      "Epoch 29, global step 4500: 'val_loss' was not in top 1\n"
     ]
    },
    {
     "data": {
      "text/plain": "Validation: |          | 0/? [00:00<?, ?it/s]",
      "application/vnd.jupyter.widget-view+json": {
       "version_major": 2,
       "version_minor": 0,
       "model_id": "ac4a366e0c2241fd99f9e154c0c3f172"
      }
     },
     "metadata": {},
     "output_type": "display_data"
    },
    {
     "name": "stderr",
     "output_type": "stream",
     "text": [
      "Epoch 30, global step 4650: 'val_loss' reached 0.00618 (best 0.00618), saving model to 'C:\\\\GitHub\\\\Research-Experiments\\\\autoencoder\\\\wandb\\\\run-20240523_115104-4n6dwinj\\\\files\\\\checkpoints\\\\epoch=30-step=4650.ckpt' as top 1\n"
     ]
    },
    {
     "data": {
      "text/plain": "Validation: |          | 0/? [00:00<?, ?it/s]",
      "application/vnd.jupyter.widget-view+json": {
       "version_major": 2,
       "version_minor": 0,
       "model_id": "2cd99eac5eb3426bb9299539b954e908"
      }
     },
     "metadata": {},
     "output_type": "display_data"
    },
    {
     "name": "stderr",
     "output_type": "stream",
     "text": [
      "Epoch 31, global step 4800: 'val_loss' was not in top 1\n"
     ]
    },
    {
     "data": {
      "text/plain": "Validation: |          | 0/? [00:00<?, ?it/s]",
      "application/vnd.jupyter.widget-view+json": {
       "version_major": 2,
       "version_minor": 0,
       "model_id": "08058885fb7245568f6a1c6ef68239d7"
      }
     },
     "metadata": {},
     "output_type": "display_data"
    },
    {
     "name": "stderr",
     "output_type": "stream",
     "text": [
      "Epoch 32, global step 4950: 'val_loss' reached 0.00612 (best 0.00612), saving model to 'C:\\\\GitHub\\\\Research-Experiments\\\\autoencoder\\\\wandb\\\\run-20240523_115104-4n6dwinj\\\\files\\\\checkpoints\\\\epoch=32-step=4950.ckpt' as top 1\n"
     ]
    },
    {
     "data": {
      "text/plain": "Validation: |          | 0/? [00:00<?, ?it/s]",
      "application/vnd.jupyter.widget-view+json": {
       "version_major": 2,
       "version_minor": 0,
       "model_id": "f37aedc4135849f98def37ef01b02f32"
      }
     },
     "metadata": {},
     "output_type": "display_data"
    },
    {
     "name": "stderr",
     "output_type": "stream",
     "text": [
      "Epoch 33, global step 5100: 'val_loss' was not in top 1\n"
     ]
    },
    {
     "data": {
      "text/plain": "Validation: |          | 0/? [00:00<?, ?it/s]",
      "application/vnd.jupyter.widget-view+json": {
       "version_major": 2,
       "version_minor": 0,
       "model_id": "795e329fa3ae48a794e6f30e5faef712"
      }
     },
     "metadata": {},
     "output_type": "display_data"
    },
    {
     "name": "stderr",
     "output_type": "stream",
     "text": [
      "Epoch 34, global step 5250: 'val_loss' reached 0.00604 (best 0.00604), saving model to 'C:\\\\GitHub\\\\Research-Experiments\\\\autoencoder\\\\wandb\\\\run-20240523_115104-4n6dwinj\\\\files\\\\checkpoints\\\\epoch=34-step=5250.ckpt' as top 1\n"
     ]
    },
    {
     "data": {
      "text/plain": "Validation: |          | 0/? [00:00<?, ?it/s]",
      "application/vnd.jupyter.widget-view+json": {
       "version_major": 2,
       "version_minor": 0,
       "model_id": "819b6bd46c69416898aaf80259e6fb83"
      }
     },
     "metadata": {},
     "output_type": "display_data"
    },
    {
     "name": "stderr",
     "output_type": "stream",
     "text": [
      "Epoch 35, global step 5400: 'val_loss' reached 0.00586 (best 0.00586), saving model to 'C:\\\\GitHub\\\\Research-Experiments\\\\autoencoder\\\\wandb\\\\run-20240523_115104-4n6dwinj\\\\files\\\\checkpoints\\\\epoch=35-step=5400.ckpt' as top 1\n"
     ]
    },
    {
     "data": {
      "text/plain": "Validation: |          | 0/? [00:00<?, ?it/s]",
      "application/vnd.jupyter.widget-view+json": {
       "version_major": 2,
       "version_minor": 0,
       "model_id": "a0e5ae8dcd8441139a6eb9ab26bae179"
      }
     },
     "metadata": {},
     "output_type": "display_data"
    },
    {
     "name": "stderr",
     "output_type": "stream",
     "text": [
      "Epoch 36, global step 5550: 'val_loss' was not in top 1\n"
     ]
    },
    {
     "data": {
      "text/plain": "Validation: |          | 0/? [00:00<?, ?it/s]",
      "application/vnd.jupyter.widget-view+json": {
       "version_major": 2,
       "version_minor": 0,
       "model_id": "5cfbc6e5c53b430aa67b3afc09c8e6b2"
      }
     },
     "metadata": {},
     "output_type": "display_data"
    },
    {
     "name": "stderr",
     "output_type": "stream",
     "text": [
      "Epoch 37, global step 5700: 'val_loss' reached 0.00585 (best 0.00585), saving model to 'C:\\\\GitHub\\\\Research-Experiments\\\\autoencoder\\\\wandb\\\\run-20240523_115104-4n6dwinj\\\\files\\\\checkpoints\\\\epoch=37-step=5700.ckpt' as top 1\n"
     ]
    },
    {
     "data": {
      "text/plain": "Validation: |          | 0/? [00:00<?, ?it/s]",
      "application/vnd.jupyter.widget-view+json": {
       "version_major": 2,
       "version_minor": 0,
       "model_id": "4fe3d257d1b140e8b509cc49bba53853"
      }
     },
     "metadata": {},
     "output_type": "display_data"
    },
    {
     "name": "stderr",
     "output_type": "stream",
     "text": [
      "Epoch 38, global step 5850: 'val_loss' reached 0.00576 (best 0.00576), saving model to 'C:\\\\GitHub\\\\Research-Experiments\\\\autoencoder\\\\wandb\\\\run-20240523_115104-4n6dwinj\\\\files\\\\checkpoints\\\\epoch=38-step=5850.ckpt' as top 1\n"
     ]
    },
    {
     "data": {
      "text/plain": "Validation: |          | 0/? [00:00<?, ?it/s]",
      "application/vnd.jupyter.widget-view+json": {
       "version_major": 2,
       "version_minor": 0,
       "model_id": "ebeeb581cdda41ba9044a5648d7b4932"
      }
     },
     "metadata": {},
     "output_type": "display_data"
    },
    {
     "name": "stderr",
     "output_type": "stream",
     "text": [
      "Epoch 39, global step 6000: 'val_loss' reached 0.00576 (best 0.00576), saving model to 'C:\\\\GitHub\\\\Research-Experiments\\\\autoencoder\\\\wandb\\\\run-20240523_115104-4n6dwinj\\\\files\\\\checkpoints\\\\epoch=39-step=6000.ckpt' as top 1\n"
     ]
    },
    {
     "data": {
      "text/plain": "Validation: |          | 0/? [00:00<?, ?it/s]",
      "application/vnd.jupyter.widget-view+json": {
       "version_major": 2,
       "version_minor": 0,
       "model_id": "ee390942270f4118bff240f6c89b73be"
      }
     },
     "metadata": {},
     "output_type": "display_data"
    },
    {
     "name": "stderr",
     "output_type": "stream",
     "text": [
      "Epoch 40, global step 6150: 'val_loss' reached 0.00574 (best 0.00574), saving model to 'C:\\\\GitHub\\\\Research-Experiments\\\\autoencoder\\\\wandb\\\\run-20240523_115104-4n6dwinj\\\\files\\\\checkpoints\\\\epoch=40-step=6150.ckpt' as top 1\n"
     ]
    },
    {
     "data": {
      "text/plain": "Validation: |          | 0/? [00:00<?, ?it/s]",
      "application/vnd.jupyter.widget-view+json": {
       "version_major": 2,
       "version_minor": 0,
       "model_id": "927acd55638d47fa8d6afe6c1d2bbeeb"
      }
     },
     "metadata": {},
     "output_type": "display_data"
    },
    {
     "name": "stderr",
     "output_type": "stream",
     "text": [
      "Epoch 41, global step 6300: 'val_loss' was not in top 1\n"
     ]
    },
    {
     "data": {
      "text/plain": "Validation: |          | 0/? [00:00<?, ?it/s]",
      "application/vnd.jupyter.widget-view+json": {
       "version_major": 2,
       "version_minor": 0,
       "model_id": "a9aad553338a468eb3de7dffdd5dc5a9"
      }
     },
     "metadata": {},
     "output_type": "display_data"
    },
    {
     "name": "stderr",
     "output_type": "stream",
     "text": [
      "Epoch 42, global step 6450: 'val_loss' was not in top 1\n"
     ]
    },
    {
     "data": {
      "text/plain": "Validation: |          | 0/? [00:00<?, ?it/s]",
      "application/vnd.jupyter.widget-view+json": {
       "version_major": 2,
       "version_minor": 0,
       "model_id": "a021e7062c2d4ffe982593d087b83ad0"
      }
     },
     "metadata": {},
     "output_type": "display_data"
    },
    {
     "name": "stderr",
     "output_type": "stream",
     "text": [
      "Epoch 43, global step 6600: 'val_loss' reached 0.00567 (best 0.00567), saving model to 'C:\\\\GitHub\\\\Research-Experiments\\\\autoencoder\\\\wandb\\\\run-20240523_115104-4n6dwinj\\\\files\\\\checkpoints\\\\epoch=43-step=6600.ckpt' as top 1\n"
     ]
    },
    {
     "data": {
      "text/plain": "Validation: |          | 0/? [00:00<?, ?it/s]",
      "application/vnd.jupyter.widget-view+json": {
       "version_major": 2,
       "version_minor": 0,
       "model_id": "6d9144deb9cf46adbf057d5b2d9d2b58"
      }
     },
     "metadata": {},
     "output_type": "display_data"
    },
    {
     "name": "stderr",
     "output_type": "stream",
     "text": [
      "Epoch 44, global step 6750: 'val_loss' was not in top 1\n"
     ]
    },
    {
     "data": {
      "text/plain": "Validation: |          | 0/? [00:00<?, ?it/s]",
      "application/vnd.jupyter.widget-view+json": {
       "version_major": 2,
       "version_minor": 0,
       "model_id": "913b3be29b3a400d9adfe2654572762a"
      }
     },
     "metadata": {},
     "output_type": "display_data"
    },
    {
     "name": "stderr",
     "output_type": "stream",
     "text": [
      "Epoch 45, global step 6900: 'val_loss' reached 0.00561 (best 0.00561), saving model to 'C:\\\\GitHub\\\\Research-Experiments\\\\autoencoder\\\\wandb\\\\run-20240523_115104-4n6dwinj\\\\files\\\\checkpoints\\\\epoch=45-step=6900.ckpt' as top 1\n"
     ]
    },
    {
     "data": {
      "text/plain": "Validation: |          | 0/? [00:00<?, ?it/s]",
      "application/vnd.jupyter.widget-view+json": {
       "version_major": 2,
       "version_minor": 0,
       "model_id": "35f23ed85adb41bfa30af57acab9bfb7"
      }
     },
     "metadata": {},
     "output_type": "display_data"
    },
    {
     "name": "stderr",
     "output_type": "stream",
     "text": [
      "Epoch 46, global step 7050: 'val_loss' was not in top 1\n"
     ]
    },
    {
     "data": {
      "text/plain": "Validation: |          | 0/? [00:00<?, ?it/s]",
      "application/vnd.jupyter.widget-view+json": {
       "version_major": 2,
       "version_minor": 0,
       "model_id": "e38ea10a4b0d4bf4aaf445f60ed4015f"
      }
     },
     "metadata": {},
     "output_type": "display_data"
    },
    {
     "name": "stderr",
     "output_type": "stream",
     "text": [
      "Epoch 47, global step 7200: 'val_loss' reached 0.00557 (best 0.00557), saving model to 'C:\\\\GitHub\\\\Research-Experiments\\\\autoencoder\\\\wandb\\\\run-20240523_115104-4n6dwinj\\\\files\\\\checkpoints\\\\epoch=47-step=7200.ckpt' as top 1\n"
     ]
    },
    {
     "data": {
      "text/plain": "Validation: |          | 0/? [00:00<?, ?it/s]",
      "application/vnd.jupyter.widget-view+json": {
       "version_major": 2,
       "version_minor": 0,
       "model_id": "4ec1796c8e3e483ca98c792345d8ed51"
      }
     },
     "metadata": {},
     "output_type": "display_data"
    },
    {
     "name": "stderr",
     "output_type": "stream",
     "text": [
      "Epoch 48, global step 7350: 'val_loss' reached 0.00553 (best 0.00553), saving model to 'C:\\\\GitHub\\\\Research-Experiments\\\\autoencoder\\\\wandb\\\\run-20240523_115104-4n6dwinj\\\\files\\\\checkpoints\\\\epoch=48-step=7350.ckpt' as top 1\n"
     ]
    },
    {
     "data": {
      "text/plain": "Validation: |          | 0/? [00:00<?, ?it/s]",
      "application/vnd.jupyter.widget-view+json": {
       "version_major": 2,
       "version_minor": 0,
       "model_id": "3708935e3a36480e8adaa4a9f8e585cb"
      }
     },
     "metadata": {},
     "output_type": "display_data"
    },
    {
     "name": "stderr",
     "output_type": "stream",
     "text": [
      "Epoch 49, global step 7500: 'val_loss' was not in top 1\n"
     ]
    },
    {
     "data": {
      "text/plain": "Validation: |          | 0/? [00:00<?, ?it/s]",
      "application/vnd.jupyter.widget-view+json": {
       "version_major": 2,
       "version_minor": 0,
       "model_id": "88e3e8e79f724f7c9d77c4b51501b43d"
      }
     },
     "metadata": {},
     "output_type": "display_data"
    },
    {
     "name": "stderr",
     "output_type": "stream",
     "text": [
      "Epoch 50, global step 7650: 'val_loss' reached 0.00542 (best 0.00542), saving model to 'C:\\\\GitHub\\\\Research-Experiments\\\\autoencoder\\\\wandb\\\\run-20240523_115104-4n6dwinj\\\\files\\\\checkpoints\\\\epoch=50-step=7650.ckpt' as top 1\n"
     ]
    },
    {
     "data": {
      "text/plain": "Validation: |          | 0/? [00:00<?, ?it/s]",
      "application/vnd.jupyter.widget-view+json": {
       "version_major": 2,
       "version_minor": 0,
       "model_id": "9be7ec7130a6496aa358deaf9a11e084"
      }
     },
     "metadata": {},
     "output_type": "display_data"
    },
    {
     "name": "stderr",
     "output_type": "stream",
     "text": [
      "Epoch 51, global step 7800: 'val_loss' reached 0.00541 (best 0.00541), saving model to 'C:\\\\GitHub\\\\Research-Experiments\\\\autoencoder\\\\wandb\\\\run-20240523_115104-4n6dwinj\\\\files\\\\checkpoints\\\\epoch=51-step=7800.ckpt' as top 1\n"
     ]
    },
    {
     "data": {
      "text/plain": "Validation: |          | 0/? [00:00<?, ?it/s]",
      "application/vnd.jupyter.widget-view+json": {
       "version_major": 2,
       "version_minor": 0,
       "model_id": "d671cc4bff974d1d937c2838b7484be6"
      }
     },
     "metadata": {},
     "output_type": "display_data"
    },
    {
     "name": "stderr",
     "output_type": "stream",
     "text": [
      "Epoch 52, global step 7950: 'val_loss' was not in top 1\n"
     ]
    },
    {
     "data": {
      "text/plain": "Validation: |          | 0/? [00:00<?, ?it/s]",
      "application/vnd.jupyter.widget-view+json": {
       "version_major": 2,
       "version_minor": 0,
       "model_id": "62f4c8f7c4ec48d2a3d270570a8db375"
      }
     },
     "metadata": {},
     "output_type": "display_data"
    },
    {
     "name": "stderr",
     "output_type": "stream",
     "text": [
      "Epoch 53, global step 8100: 'val_loss' was not in top 1\n"
     ]
    },
    {
     "data": {
      "text/plain": "Validation: |          | 0/? [00:00<?, ?it/s]",
      "application/vnd.jupyter.widget-view+json": {
       "version_major": 2,
       "version_minor": 0,
       "model_id": "ac282b597dcc4100bd32ea037c26526f"
      }
     },
     "metadata": {},
     "output_type": "display_data"
    },
    {
     "name": "stderr",
     "output_type": "stream",
     "text": [
      "Epoch 54, global step 8250: 'val_loss' was not in top 1\n"
     ]
    },
    {
     "data": {
      "text/plain": "Validation: |          | 0/? [00:00<?, ?it/s]",
      "application/vnd.jupyter.widget-view+json": {
       "version_major": 2,
       "version_minor": 0,
       "model_id": "26fd1507889444259f8960f856b71901"
      }
     },
     "metadata": {},
     "output_type": "display_data"
    },
    {
     "name": "stderr",
     "output_type": "stream",
     "text": [
      "Epoch 55, global step 8400: 'val_loss' reached 0.00538 (best 0.00538), saving model to 'C:\\\\GitHub\\\\Research-Experiments\\\\autoencoder\\\\wandb\\\\run-20240523_115104-4n6dwinj\\\\files\\\\checkpoints\\\\epoch=55-step=8400.ckpt' as top 1\n"
     ]
    },
    {
     "data": {
      "text/plain": "Validation: |          | 0/? [00:00<?, ?it/s]",
      "application/vnd.jupyter.widget-view+json": {
       "version_major": 2,
       "version_minor": 0,
       "model_id": "f72d364655884f84a054ca9c8eeb3bc5"
      }
     },
     "metadata": {},
     "output_type": "display_data"
    },
    {
     "name": "stderr",
     "output_type": "stream",
     "text": [
      "Epoch 56, global step 8550: 'val_loss' was not in top 1\n"
     ]
    },
    {
     "data": {
      "text/plain": "Validation: |          | 0/? [00:00<?, ?it/s]",
      "application/vnd.jupyter.widget-view+json": {
       "version_major": 2,
       "version_minor": 0,
       "model_id": "e3a87ccee4b04635a19f3a06ed4bec0a"
      }
     },
     "metadata": {},
     "output_type": "display_data"
    },
    {
     "name": "stderr",
     "output_type": "stream",
     "text": [
      "Epoch 57, global step 8700: 'val_loss' reached 0.00530 (best 0.00530), saving model to 'C:\\\\GitHub\\\\Research-Experiments\\\\autoencoder\\\\wandb\\\\run-20240523_115104-4n6dwinj\\\\files\\\\checkpoints\\\\epoch=57-step=8700.ckpt' as top 1\n"
     ]
    },
    {
     "data": {
      "text/plain": "Validation: |          | 0/? [00:00<?, ?it/s]",
      "application/vnd.jupyter.widget-view+json": {
       "version_major": 2,
       "version_minor": 0,
       "model_id": "9247347e541640039946f32a0920cd61"
      }
     },
     "metadata": {},
     "output_type": "display_data"
    },
    {
     "name": "stderr",
     "output_type": "stream",
     "text": [
      "Epoch 58, global step 8850: 'val_loss' reached 0.00525 (best 0.00525), saving model to 'C:\\\\GitHub\\\\Research-Experiments\\\\autoencoder\\\\wandb\\\\run-20240523_115104-4n6dwinj\\\\files\\\\checkpoints\\\\epoch=58-step=8850.ckpt' as top 1\n"
     ]
    },
    {
     "data": {
      "text/plain": "Validation: |          | 0/? [00:00<?, ?it/s]",
      "application/vnd.jupyter.widget-view+json": {
       "version_major": 2,
       "version_minor": 0,
       "model_id": "4f097eb485c54c088d33caca8015d03b"
      }
     },
     "metadata": {},
     "output_type": "display_data"
    },
    {
     "name": "stderr",
     "output_type": "stream",
     "text": [
      "Epoch 59, global step 9000: 'val_loss' was not in top 1\n"
     ]
    },
    {
     "data": {
      "text/plain": "Validation: |          | 0/? [00:00<?, ?it/s]",
      "application/vnd.jupyter.widget-view+json": {
       "version_major": 2,
       "version_minor": 0,
       "model_id": "171c68f3db8b4bc092163913f03aa11d"
      }
     },
     "metadata": {},
     "output_type": "display_data"
    },
    {
     "name": "stderr",
     "output_type": "stream",
     "text": [
      "Epoch 60, global step 9150: 'val_loss' was not in top 1\n"
     ]
    },
    {
     "data": {
      "text/plain": "Validation: |          | 0/? [00:00<?, ?it/s]",
      "application/vnd.jupyter.widget-view+json": {
       "version_major": 2,
       "version_minor": 0,
       "model_id": "3e941cea12ee4dc3b1a8577ce88bbb48"
      }
     },
     "metadata": {},
     "output_type": "display_data"
    },
    {
     "name": "stderr",
     "output_type": "stream",
     "text": [
      "Epoch 61, global step 9300: 'val_loss' was not in top 1\n"
     ]
    },
    {
     "data": {
      "text/plain": "Validation: |          | 0/? [00:00<?, ?it/s]",
      "application/vnd.jupyter.widget-view+json": {
       "version_major": 2,
       "version_minor": 0,
       "model_id": "0763e23a41e949d1960d63079cba47cb"
      }
     },
     "metadata": {},
     "output_type": "display_data"
    },
    {
     "name": "stderr",
     "output_type": "stream",
     "text": [
      "Epoch 62, global step 9450: 'val_loss' reached 0.00523 (best 0.00523), saving model to 'C:\\\\GitHub\\\\Research-Experiments\\\\autoencoder\\\\wandb\\\\run-20240523_115104-4n6dwinj\\\\files\\\\checkpoints\\\\epoch=62-step=9450.ckpt' as top 1\n"
     ]
    },
    {
     "data": {
      "text/plain": "Validation: |          | 0/? [00:00<?, ?it/s]",
      "application/vnd.jupyter.widget-view+json": {
       "version_major": 2,
       "version_minor": 0,
       "model_id": "ded8c8ac4b48499e80ebe0cc24f7f73b"
      }
     },
     "metadata": {},
     "output_type": "display_data"
    },
    {
     "name": "stderr",
     "output_type": "stream",
     "text": [
      "Epoch 63, global step 9600: 'val_loss' reached 0.00518 (best 0.00518), saving model to 'C:\\\\GitHub\\\\Research-Experiments\\\\autoencoder\\\\wandb\\\\run-20240523_115104-4n6dwinj\\\\files\\\\checkpoints\\\\epoch=63-step=9600.ckpt' as top 1\n"
     ]
    },
    {
     "data": {
      "text/plain": "Validation: |          | 0/? [00:00<?, ?it/s]",
      "application/vnd.jupyter.widget-view+json": {
       "version_major": 2,
       "version_minor": 0,
       "model_id": "c99e85b8b6b04b38862b3ab041cb5ce9"
      }
     },
     "metadata": {},
     "output_type": "display_data"
    },
    {
     "name": "stderr",
     "output_type": "stream",
     "text": [
      "Epoch 64, global step 9750: 'val_loss' was not in top 1\n"
     ]
    },
    {
     "data": {
      "text/plain": "Validation: |          | 0/? [00:00<?, ?it/s]",
      "application/vnd.jupyter.widget-view+json": {
       "version_major": 2,
       "version_minor": 0,
       "model_id": "a36c4438dea141ad82fa49a8bd442dd9"
      }
     },
     "metadata": {},
     "output_type": "display_data"
    },
    {
     "name": "stderr",
     "output_type": "stream",
     "text": [
      "Epoch 65, global step 9900: 'val_loss' was not in top 1\n"
     ]
    },
    {
     "data": {
      "text/plain": "Validation: |          | 0/? [00:00<?, ?it/s]",
      "application/vnd.jupyter.widget-view+json": {
       "version_major": 2,
       "version_minor": 0,
       "model_id": "4d8ccc6659b14eb897926ce663436979"
      }
     },
     "metadata": {},
     "output_type": "display_data"
    },
    {
     "name": "stderr",
     "output_type": "stream",
     "text": [
      "Epoch 66, global step 10050: 'val_loss' was not in top 1\n"
     ]
    },
    {
     "data": {
      "text/plain": "Validation: |          | 0/? [00:00<?, ?it/s]",
      "application/vnd.jupyter.widget-view+json": {
       "version_major": 2,
       "version_minor": 0,
       "model_id": "a934326d12514637ad9881d96fb1cf10"
      }
     },
     "metadata": {},
     "output_type": "display_data"
    },
    {
     "name": "stderr",
     "output_type": "stream",
     "text": [
      "Epoch 67, global step 10200: 'val_loss' reached 0.00515 (best 0.00515), saving model to 'C:\\\\GitHub\\\\Research-Experiments\\\\autoencoder\\\\wandb\\\\run-20240523_115104-4n6dwinj\\\\files\\\\checkpoints\\\\epoch=67-step=10200.ckpt' as top 1\n"
     ]
    },
    {
     "data": {
      "text/plain": "Validation: |          | 0/? [00:00<?, ?it/s]",
      "application/vnd.jupyter.widget-view+json": {
       "version_major": 2,
       "version_minor": 0,
       "model_id": "6b06bc84f6c54c92ab792b674b96c6e8"
      }
     },
     "metadata": {},
     "output_type": "display_data"
    },
    {
     "name": "stderr",
     "output_type": "stream",
     "text": [
      "Epoch 68, global step 10350: 'val_loss' was not in top 1\n"
     ]
    },
    {
     "data": {
      "text/plain": "Validation: |          | 0/? [00:00<?, ?it/s]",
      "application/vnd.jupyter.widget-view+json": {
       "version_major": 2,
       "version_minor": 0,
       "model_id": "1d91708775dd4f60bebfd7ecb2e164c5"
      }
     },
     "metadata": {},
     "output_type": "display_data"
    },
    {
     "name": "stderr",
     "output_type": "stream",
     "text": [
      "Epoch 69, global step 10500: 'val_loss' was not in top 1\n"
     ]
    },
    {
     "data": {
      "text/plain": "Validation: |          | 0/? [00:00<?, ?it/s]",
      "application/vnd.jupyter.widget-view+json": {
       "version_major": 2,
       "version_minor": 0,
       "model_id": "cb9923719f874ac5b2e9ec91d473bcf7"
      }
     },
     "metadata": {},
     "output_type": "display_data"
    },
    {
     "name": "stderr",
     "output_type": "stream",
     "text": [
      "Epoch 70, global step 10650: 'val_loss' was not in top 1\n"
     ]
    },
    {
     "data": {
      "text/plain": "Validation: |          | 0/? [00:00<?, ?it/s]",
      "application/vnd.jupyter.widget-view+json": {
       "version_major": 2,
       "version_minor": 0,
       "model_id": "1bf42a619ba54731ba52cef6c39326a4"
      }
     },
     "metadata": {},
     "output_type": "display_data"
    },
    {
     "name": "stderr",
     "output_type": "stream",
     "text": [
      "Epoch 71, global step 10800: 'val_loss' reached 0.00512 (best 0.00512), saving model to 'C:\\\\GitHub\\\\Research-Experiments\\\\autoencoder\\\\wandb\\\\run-20240523_115104-4n6dwinj\\\\files\\\\checkpoints\\\\epoch=71-step=10800.ckpt' as top 1\n"
     ]
    },
    {
     "data": {
      "text/plain": "Validation: |          | 0/? [00:00<?, ?it/s]",
      "application/vnd.jupyter.widget-view+json": {
       "version_major": 2,
       "version_minor": 0,
       "model_id": "77984e3c055f4a228525d5de61410f53"
      }
     },
     "metadata": {},
     "output_type": "display_data"
    },
    {
     "name": "stderr",
     "output_type": "stream",
     "text": [
      "Epoch 72, global step 10950: 'val_loss' was not in top 1\n"
     ]
    },
    {
     "data": {
      "text/plain": "Validation: |          | 0/? [00:00<?, ?it/s]",
      "application/vnd.jupyter.widget-view+json": {
       "version_major": 2,
       "version_minor": 0,
       "model_id": "5903b1c9f2254ae0b301f2744ce95303"
      }
     },
     "metadata": {},
     "output_type": "display_data"
    },
    {
     "name": "stderr",
     "output_type": "stream",
     "text": [
      "Epoch 73, global step 11100: 'val_loss' was not in top 1\n"
     ]
    },
    {
     "data": {
      "text/plain": "Validation: |          | 0/? [00:00<?, ?it/s]",
      "application/vnd.jupyter.widget-view+json": {
       "version_major": 2,
       "version_minor": 0,
       "model_id": "a3a23ccd74e3422c9dec91261a292553"
      }
     },
     "metadata": {},
     "output_type": "display_data"
    },
    {
     "name": "stderr",
     "output_type": "stream",
     "text": [
      "Epoch 74, global step 11250: 'val_loss' reached 0.00505 (best 0.00505), saving model to 'C:\\\\GitHub\\\\Research-Experiments\\\\autoencoder\\\\wandb\\\\run-20240523_115104-4n6dwinj\\\\files\\\\checkpoints\\\\epoch=74-step=11250.ckpt' as top 1\n"
     ]
    },
    {
     "data": {
      "text/plain": "Validation: |          | 0/? [00:00<?, ?it/s]",
      "application/vnd.jupyter.widget-view+json": {
       "version_major": 2,
       "version_minor": 0,
       "model_id": "3fbacddbd6574fd9a45e4dc70da32de3"
      }
     },
     "metadata": {},
     "output_type": "display_data"
    },
    {
     "name": "stderr",
     "output_type": "stream",
     "text": [
      "Epoch 75, global step 11400: 'val_loss' was not in top 1\n"
     ]
    },
    {
     "data": {
      "text/plain": "Validation: |          | 0/? [00:00<?, ?it/s]",
      "application/vnd.jupyter.widget-view+json": {
       "version_major": 2,
       "version_minor": 0,
       "model_id": "12475264ac8c4db9a1e9083cbbe4d757"
      }
     },
     "metadata": {},
     "output_type": "display_data"
    },
    {
     "name": "stderr",
     "output_type": "stream",
     "text": [
      "Epoch 76, global step 11550: 'val_loss' was not in top 1\n"
     ]
    },
    {
     "data": {
      "text/plain": "Validation: |          | 0/? [00:00<?, ?it/s]",
      "application/vnd.jupyter.widget-view+json": {
       "version_major": 2,
       "version_minor": 0,
       "model_id": "eedeb698f53646139ada6c391684633a"
      }
     },
     "metadata": {},
     "output_type": "display_data"
    },
    {
     "name": "stderr",
     "output_type": "stream",
     "text": [
      "Epoch 77, global step 11700: 'val_loss' was not in top 1\n"
     ]
    },
    {
     "data": {
      "text/plain": "Validation: |          | 0/? [00:00<?, ?it/s]",
      "application/vnd.jupyter.widget-view+json": {
       "version_major": 2,
       "version_minor": 0,
       "model_id": "fe8a0e224f0d4f8dbaa41d85a73254f0"
      }
     },
     "metadata": {},
     "output_type": "display_data"
    },
    {
     "name": "stderr",
     "output_type": "stream",
     "text": [
      "Epoch 78, global step 11850: 'val_loss' reached 0.00504 (best 0.00504), saving model to 'C:\\\\GitHub\\\\Research-Experiments\\\\autoencoder\\\\wandb\\\\run-20240523_115104-4n6dwinj\\\\files\\\\checkpoints\\\\epoch=78-step=11850.ckpt' as top 1\n"
     ]
    },
    {
     "data": {
      "text/plain": "Validation: |          | 0/? [00:00<?, ?it/s]",
      "application/vnd.jupyter.widget-view+json": {
       "version_major": 2,
       "version_minor": 0,
       "model_id": "bdc833bcce2a45598095fa6c953bb1a9"
      }
     },
     "metadata": {},
     "output_type": "display_data"
    },
    {
     "name": "stderr",
     "output_type": "stream",
     "text": [
      "Epoch 79, global step 12000: 'val_loss' was not in top 1\n"
     ]
    },
    {
     "data": {
      "text/plain": "Validation: |          | 0/? [00:00<?, ?it/s]",
      "application/vnd.jupyter.widget-view+json": {
       "version_major": 2,
       "version_minor": 0,
       "model_id": "e0cf160a327a44599d5a2eefe4f54af0"
      }
     },
     "metadata": {},
     "output_type": "display_data"
    },
    {
     "name": "stderr",
     "output_type": "stream",
     "text": [
      "Epoch 80, global step 12150: 'val_loss' was not in top 1\n"
     ]
    },
    {
     "data": {
      "text/plain": "Validation: |          | 0/? [00:00<?, ?it/s]",
      "application/vnd.jupyter.widget-view+json": {
       "version_major": 2,
       "version_minor": 0,
       "model_id": "f5575c4c40294cc29d5374c42211a73a"
      }
     },
     "metadata": {},
     "output_type": "display_data"
    },
    {
     "name": "stderr",
     "output_type": "stream",
     "text": [
      "Epoch 81, global step 12300: 'val_loss' was not in top 1\n"
     ]
    },
    {
     "data": {
      "text/plain": "Validation: |          | 0/? [00:00<?, ?it/s]",
      "application/vnd.jupyter.widget-view+json": {
       "version_major": 2,
       "version_minor": 0,
       "model_id": "4fb63d3882e7425cb209f686afe021da"
      }
     },
     "metadata": {},
     "output_type": "display_data"
    },
    {
     "name": "stderr",
     "output_type": "stream",
     "text": [
      "Epoch 82, global step 12450: 'val_loss' reached 0.00504 (best 0.00504), saving model to 'C:\\\\GitHub\\\\Research-Experiments\\\\autoencoder\\\\wandb\\\\run-20240523_115104-4n6dwinj\\\\files\\\\checkpoints\\\\epoch=82-step=12450.ckpt' as top 1\n"
     ]
    },
    {
     "data": {
      "text/plain": "Validation: |          | 0/? [00:00<?, ?it/s]",
      "application/vnd.jupyter.widget-view+json": {
       "version_major": 2,
       "version_minor": 0,
       "model_id": "b541a32b2a3d4374834b0b707561a2f6"
      }
     },
     "metadata": {},
     "output_type": "display_data"
    },
    {
     "name": "stderr",
     "output_type": "stream",
     "text": [
      "Epoch 83, global step 12600: 'val_loss' reached 0.00495 (best 0.00495), saving model to 'C:\\\\GitHub\\\\Research-Experiments\\\\autoencoder\\\\wandb\\\\run-20240523_115104-4n6dwinj\\\\files\\\\checkpoints\\\\epoch=83-step=12600.ckpt' as top 1\n"
     ]
    },
    {
     "data": {
      "text/plain": "Validation: |          | 0/? [00:00<?, ?it/s]",
      "application/vnd.jupyter.widget-view+json": {
       "version_major": 2,
       "version_minor": 0,
       "model_id": "0e0811525da841fe83d1f1c20beed28a"
      }
     },
     "metadata": {},
     "output_type": "display_data"
    },
    {
     "name": "stderr",
     "output_type": "stream",
     "text": [
      "Epoch 84, global step 12750: 'val_loss' was not in top 1\n"
     ]
    },
    {
     "data": {
      "text/plain": "Validation: |          | 0/? [00:00<?, ?it/s]",
      "application/vnd.jupyter.widget-view+json": {
       "version_major": 2,
       "version_minor": 0,
       "model_id": "5facd508161f4083bc13d0a953035b80"
      }
     },
     "metadata": {},
     "output_type": "display_data"
    },
    {
     "name": "stderr",
     "output_type": "stream",
     "text": [
      "Epoch 85, global step 12900: 'val_loss' was not in top 1\n"
     ]
    },
    {
     "data": {
      "text/plain": "Validation: |          | 0/? [00:00<?, ?it/s]",
      "application/vnd.jupyter.widget-view+json": {
       "version_major": 2,
       "version_minor": 0,
       "model_id": "9ee7b954a77d4a118eaee3517293a976"
      }
     },
     "metadata": {},
     "output_type": "display_data"
    },
    {
     "name": "stderr",
     "output_type": "stream",
     "text": [
      "Epoch 86, global step 13050: 'val_loss' was not in top 1\n"
     ]
    },
    {
     "data": {
      "text/plain": "Validation: |          | 0/? [00:00<?, ?it/s]",
      "application/vnd.jupyter.widget-view+json": {
       "version_major": 2,
       "version_minor": 0,
       "model_id": "e1172299e30745f79d8499bef03015af"
      }
     },
     "metadata": {},
     "output_type": "display_data"
    },
    {
     "name": "stderr",
     "output_type": "stream",
     "text": [
      "Epoch 87, global step 13200: 'val_loss' was not in top 1\n"
     ]
    },
    {
     "data": {
      "text/plain": "Validation: |          | 0/? [00:00<?, ?it/s]",
      "application/vnd.jupyter.widget-view+json": {
       "version_major": 2,
       "version_minor": 0,
       "model_id": "2fff24b37a4047e6ab0924327e7c9eaf"
      }
     },
     "metadata": {},
     "output_type": "display_data"
    },
    {
     "name": "stderr",
     "output_type": "stream",
     "text": [
      "Epoch 88, global step 13350: 'val_loss' was not in top 1\n"
     ]
    },
    {
     "data": {
      "text/plain": "Validation: |          | 0/? [00:00<?, ?it/s]",
      "application/vnd.jupyter.widget-view+json": {
       "version_major": 2,
       "version_minor": 0,
       "model_id": "3a6c7ca0d7c646c7b6d12975aec00980"
      }
     },
     "metadata": {},
     "output_type": "display_data"
    },
    {
     "name": "stderr",
     "output_type": "stream",
     "text": [
      "Epoch 89, global step 13500: 'val_loss' reached 0.00493 (best 0.00493), saving model to 'C:\\\\GitHub\\\\Research-Experiments\\\\autoencoder\\\\wandb\\\\run-20240523_115104-4n6dwinj\\\\files\\\\checkpoints\\\\epoch=89-step=13500.ckpt' as top 1\n"
     ]
    },
    {
     "data": {
      "text/plain": "Validation: |          | 0/? [00:00<?, ?it/s]",
      "application/vnd.jupyter.widget-view+json": {
       "version_major": 2,
       "version_minor": 0,
       "model_id": "2fac907f1d4c4b438a246162f3a3c2f9"
      }
     },
     "metadata": {},
     "output_type": "display_data"
    },
    {
     "name": "stderr",
     "output_type": "stream",
     "text": [
      "Epoch 90, global step 13650: 'val_loss' was not in top 1\n"
     ]
    },
    {
     "data": {
      "text/plain": "Validation: |          | 0/? [00:00<?, ?it/s]",
      "application/vnd.jupyter.widget-view+json": {
       "version_major": 2,
       "version_minor": 0,
       "model_id": "d25f7f3ecda941b899614ae658419355"
      }
     },
     "metadata": {},
     "output_type": "display_data"
    },
    {
     "name": "stderr",
     "output_type": "stream",
     "text": [
      "Epoch 91, global step 13800: 'val_loss' was not in top 1\n"
     ]
    },
    {
     "data": {
      "text/plain": "Validation: |          | 0/? [00:00<?, ?it/s]",
      "application/vnd.jupyter.widget-view+json": {
       "version_major": 2,
       "version_minor": 0,
       "model_id": "fc31cc3d578e4f269f4c8c58efa83997"
      }
     },
     "metadata": {},
     "output_type": "display_data"
    },
    {
     "name": "stderr",
     "output_type": "stream",
     "text": [
      "Epoch 92, global step 13950: 'val_loss' was not in top 1\n"
     ]
    },
    {
     "data": {
      "text/plain": "Validation: |          | 0/? [00:00<?, ?it/s]",
      "application/vnd.jupyter.widget-view+json": {
       "version_major": 2,
       "version_minor": 0,
       "model_id": "01177dbcf1f944009a1594a9fee1f948"
      }
     },
     "metadata": {},
     "output_type": "display_data"
    },
    {
     "name": "stderr",
     "output_type": "stream",
     "text": [
      "Epoch 93, global step 14100: 'val_loss' was not in top 1\n"
     ]
    },
    {
     "data": {
      "text/plain": "Validation: |          | 0/? [00:00<?, ?it/s]",
      "application/vnd.jupyter.widget-view+json": {
       "version_major": 2,
       "version_minor": 0,
       "model_id": "9f1358ddc69b46d788b7ddceb487689c"
      }
     },
     "metadata": {},
     "output_type": "display_data"
    },
    {
     "name": "stderr",
     "output_type": "stream",
     "text": [
      "Epoch 94, global step 14250: 'val_loss' was not in top 1\n"
     ]
    },
    {
     "data": {
      "text/plain": "Validation: |          | 0/? [00:00<?, ?it/s]",
      "application/vnd.jupyter.widget-view+json": {
       "version_major": 2,
       "version_minor": 0,
       "model_id": "96132928cb8e4397843ed24e80f90657"
      }
     },
     "metadata": {},
     "output_type": "display_data"
    },
    {
     "name": "stderr",
     "output_type": "stream",
     "text": [
      "Epoch 95, global step 14400: 'val_loss' was not in top 1\n"
     ]
    },
    {
     "data": {
      "text/plain": "Validation: |          | 0/? [00:00<?, ?it/s]",
      "application/vnd.jupyter.widget-view+json": {
       "version_major": 2,
       "version_minor": 0,
       "model_id": "a773b5461055466987e9ff58a4472f57"
      }
     },
     "metadata": {},
     "output_type": "display_data"
    },
    {
     "name": "stderr",
     "output_type": "stream",
     "text": [
      "Epoch 96, global step 14550: 'val_loss' was not in top 1\n"
     ]
    },
    {
     "data": {
      "text/plain": "Validation: |          | 0/? [00:00<?, ?it/s]",
      "application/vnd.jupyter.widget-view+json": {
       "version_major": 2,
       "version_minor": 0,
       "model_id": "98f8a10b6bd445229e50b3f71b68dd5d"
      }
     },
     "metadata": {},
     "output_type": "display_data"
    },
    {
     "name": "stderr",
     "output_type": "stream",
     "text": [
      "Epoch 97, global step 14700: 'val_loss' reached 0.00488 (best 0.00488), saving model to 'C:\\\\GitHub\\\\Research-Experiments\\\\autoencoder\\\\wandb\\\\run-20240523_115104-4n6dwinj\\\\files\\\\checkpoints\\\\epoch=97-step=14700.ckpt' as top 1\n"
     ]
    },
    {
     "data": {
      "text/plain": "Validation: |          | 0/? [00:00<?, ?it/s]",
      "application/vnd.jupyter.widget-view+json": {
       "version_major": 2,
       "version_minor": 0,
       "model_id": "200188c20c70471dad3bd1a181009c2e"
      }
     },
     "metadata": {},
     "output_type": "display_data"
    },
    {
     "name": "stderr",
     "output_type": "stream",
     "text": [
      "Epoch 98, global step 14850: 'val_loss' was not in top 1\n"
     ]
    },
    {
     "data": {
      "text/plain": "Validation: |          | 0/? [00:00<?, ?it/s]",
      "application/vnd.jupyter.widget-view+json": {
       "version_major": 2,
       "version_minor": 0,
       "model_id": "8c2f5d929c9c4a89a9d74d70d92d808f"
      }
     },
     "metadata": {},
     "output_type": "display_data"
    },
    {
     "name": "stderr",
     "output_type": "stream",
     "text": [
      "Epoch 99, global step 15000: 'val_loss' was not in top 1\n",
      "`Trainer.fit` stopped: `max_epochs=100` reached.\n",
      "LOCAL_RANK: 0 - CUDA_VISIBLE_DEVICES: [0]\n"
     ]
    },
    {
     "data": {
      "text/plain": "Testing: |          | 0/? [00:00<?, ?it/s]",
      "application/vnd.jupyter.widget-view+json": {
       "version_major": 2,
       "version_minor": 0,
       "model_id": "720937af0d9d41d98abd556ab3eda878"
      }
     },
     "metadata": {},
     "output_type": "display_data"
    },
    {
     "data": {
      "text/plain": "┏━━━━━━━━━━━━━━━━━━━━━━━━━━━┳━━━━━━━━━━━━━━━━━━━━━━━━━━━┓\n┃\u001B[1m \u001B[0m\u001B[1m       Test metric       \u001B[0m\u001B[1m \u001B[0m┃\u001B[1m \u001B[0m\u001B[1m      DataLoader 0       \u001B[0m\u001B[1m \u001B[0m┃\n┡━━━━━━━━━━━━━━━━━━━━━━━━━━━╇━━━━━━━━━━━━━━━━━━━━━━━━━━━┩\n│\u001B[36m \u001B[0m\u001B[36m      avg_test_loss      \u001B[0m\u001B[36m \u001B[0m│\u001B[35m \u001B[0m\u001B[35m  0.005077153444290161   \u001B[0m\u001B[35m \u001B[0m│\n└───────────────────────────┴───────────────────────────┘\n",
      "text/html": "<pre style=\"white-space:pre;overflow-x:auto;line-height:normal;font-family:Menlo,'DejaVu Sans Mono',consolas,'Courier New',monospace\">┏━━━━━━━━━━━━━━━━━━━━━━━━━━━┳━━━━━━━━━━━━━━━━━━━━━━━━━━━┓\n┃<span style=\"font-weight: bold\">        Test metric        </span>┃<span style=\"font-weight: bold\">       DataLoader 0        </span>┃\n┡━━━━━━━━━━━━━━━━━━━━━━━━━━━╇━━━━━━━━━━━━━━━━━━━━━━━━━━━┩\n│<span style=\"color: #008080; text-decoration-color: #008080\">       avg_test_loss       </span>│<span style=\"color: #800080; text-decoration-color: #800080\">   0.005077153444290161    </span>│\n└───────────────────────────┴───────────────────────────┘\n</pre>\n"
     },
     "metadata": {},
     "output_type": "display_data"
    },
    {
     "data": {
      "text/plain": "VBox(children=(Label(value='0.451 MB of 2.981 MB uploaded\\r'), FloatProgress(value=0.15123540922010595, max=1.…",
      "application/vnd.jupyter.widget-view+json": {
       "version_major": 2,
       "version_minor": 0,
       "model_id": "cad9769b4d01438083e0810d60b3a54a"
      }
     },
     "metadata": {},
     "output_type": "display_data"
    },
    {
     "data": {
      "text/plain": "<IPython.core.display.HTML object>",
      "text/html": "<style>\n    table.wandb td:nth-child(1) { padding: 0 10px; text-align: left ; width: auto;} td:nth-child(2) {text-align: left ; width: 100%}\n    .wandb-row { display: flex; flex-direction: row; flex-wrap: wrap; justify-content: flex-start; width: 100% }\n    .wandb-col { display: flex; flex-direction: column; flex-basis: 100%; flex: 1; padding: 10px; }\n    </style>\n<div class=\"wandb-row\"><div class=\"wandb-col\"><h3>Run history:</h3><br/><table class=\"wandb\"><tr><td>avg_test_loss</td><td>▁</td></tr><tr><td>epoch</td><td>▁▁▁▁▂▂▂▂▂▃▃▃▃▃▃▄▄▄▄▄▅▅▅▅▅▅▆▆▆▆▆▇▇▇▇▇▇███</td></tr><tr><td>train_loss</td><td>█▅▄▃▃▂▂▂▂▂▂▂▂▂▂▂▂▂▂▁▁▁▁▁▁▁▁▁▁▁▁▁▁▁▁▁▁▁▁▁</td></tr><tr><td>trainer/global_step</td><td>▁▁▁▂▂▂▂▂▂▃▃▃▃▃▃▄▄▄▄▄▅▅▅▅▅▅▆▆▆▆▆▇▇▇▇▇▇███</td></tr><tr><td>val_loss</td><td>█▄▃▂▂▂▂▂▂▂▁▁▁▁▁▁▁▁▁▁▁▁▁▁▁▁▁▁▁▁▁▁▁▁▁▁▁▁▁▁</td></tr></table><br/></div><div class=\"wandb-col\"><h3>Run summary:</h3><br/><table class=\"wandb\"><tr><td>avg_test_loss</td><td>0.00508</td></tr><tr><td>epoch</td><td>100</td></tr><tr><td>train_loss</td><td>0.00421</td></tr><tr><td>trainer/global_step</td><td>15000</td></tr><tr><td>val_loss</td><td>0.00491</td></tr></table><br/></div></div>"
     },
     "metadata": {},
     "output_type": "display_data"
    },
    {
     "data": {
      "text/plain": "<IPython.core.display.HTML object>",
      "text/html": " View run <strong style=\"color:#cdcd00\">l=mse_mmd_z=32_lr=0.001_batch_size=32_ygcpldu6</strong> at: <a href='https://wandb.ai/oboii/info-vae/runs/4n6dwinj' target=\"_blank\">https://wandb.ai/oboii/info-vae/runs/4n6dwinj</a><br/> View project at: <a href='https://wandb.ai/oboii/info-vae' target=\"_blank\">https://wandb.ai/oboii/info-vae</a><br/>Synced 5 W&B file(s), 27 media file(s), 0 artifact file(s) and 27 other file(s)"
     },
     "metadata": {},
     "output_type": "display_data"
    },
    {
     "data": {
      "text/plain": "<IPython.core.display.HTML object>",
      "text/html": "Find logs at: <code>.\\wandb\\run-20240523_115104-4n6dwinj\\logs</code>"
     },
     "metadata": {},
     "output_type": "display_data"
    },
    {
     "name": "stdout",
     "output_type": "stream",
     "text": [
      "Run name: run-20240523_115104-4n6dwinj\n"
     ]
    },
    {
     "data": {
      "text/plain": "<Figure size 640x480 with 1 Axes>",
      "image/png": "[encoded data removed]"
     },
     "metadata": {},
     "output_type": "display_data"
    }
   ],
   "source": [
    "def train():\n",
    "    args = parse_args()\n",
    "    z_dim = args.z\n",
    "    dataset = DatasetType(args.dataset)\n",
    "    epochs = args.epochs\n",
    "    batch_size = args.batch_size\n",
    "    num_workers = args.num_workers\n",
    "    lr = args.lr\n",
    "    limit_train_batches = args.limit_train_batches\n",
    "    loss = args.loss\n",
    "\n",
    "    torch.set_float32_matmul_precision('medium')\n",
    "\n",
    "    data, im_shape, project_name = Utility.setup(dataset, batch_size, num_workers)\n",
    "\n",
    "    wandb.init(project=\"info-vae\", entity=\"oboii\", config=args,\n",
    "               tags=[f\"l={loss}, z={z_dim}\", f\"lr={lr}\", f\"batch_size={batch_size}\"],\n",
    "               name=f\"l={loss}_z={z_dim}_lr={lr}_batch_size={batch_size}_{wandb.util.generate_id()}\")\n",
    "\n",
    "    wandb_logger = WandbLogger()\n",
    "\n",
    "    checkpoint_dir = f\"{wandb.run.dir}/checkpoints\"\n",
    "    checkpoint_callback = ModelCheckpoint(\n",
    "        dirpath=checkpoint_dir,\n",
    "        save_top_k=1,\n",
    "        verbose=True,\n",
    "        monitor='val_loss',\n",
    "        mode='min', save_last=True)\n",
    "\n",
    "    encoder = Encoder(latent_dim=z_dim, img_size=im_shape)\n",
    "    decoder = Decoder(latent_dim=z_dim, img_size=im_shape)\n",
    "\n",
    "    autoencoder = AutoEncoder(encoder, decoder, z_dim, lr, loss)\n",
    "\n",
    "    # Train the model\n",
    "    trainer = L.Trainer(limit_train_batches=limit_train_batches, max_epochs=epochs,\n",
    "                        accelerator=\"gpu\", devices=\"1\", logger=wandb_logger,\n",
    "                        callbacks=[\n",
    "                            CustomCallbacks(plot_ever_n_epoch=4, z_dim=z_dim, wandb_logger=wandb_logger,\n",
    "                                            dataset=dataset),\n",
    "                            checkpoint_callback])\n",
    "    trainer.fit(model=autoencoder, datamodule=data)\n",
    "    trainer.test(model=autoencoder, datamodule=data)\n",
    "\n",
    "    # second to last element is the run name\n",
    "    # if windows:\n",
    "    if \"\\\\\" in wandb.run.dir:\n",
    "        run_name = wandb.run.dir.split(\"\\\\\")[-2]\n",
    "    else:  # if linux\n",
    "        run_name = wandb.run.dir.split(\"/\")[-2]\n",
    "\n",
    "    wandb.finish()\n",
    "\n",
    "    print(f\"Run name: {run_name}\")\n",
    "    return run_name\n",
    "\n",
    "\n",
    "run_name = train()"
   ],
   "metadata": {
    "collapsed": false,
    "ExecuteTime": {
     "end_time": "2024-05-23T10:01:22.518643500Z",
     "start_time": "2024-05-23T09:51:04.365587900Z"
    }
   },
   "id": "e6380b7260926995"
  },
  {
   "cell_type": "code",
   "execution_count": 18,
   "outputs": [
    {
     "name": "stdout",
     "output_type": "stream",
     "text": [
      "Evaluating the model\n",
      "Evaluation done\n"
     ]
    }
   ],
   "source": [
    "def eval(run_name: str):\n",
    "    print(\"Evaluating the model\")\n",
    "\n",
    "    args = parse_args()\n",
    "    z_dim = args.z\n",
    "    dataset = DatasetType(args.dataset)\n",
    "    lr = args.lr\n",
    "    epochs = args.epochs\n",
    "    limit_train_batches = args.limit_train_batches\n",
    "    batch_size = 200  # override the batch size\n",
    "    loss = args.loss\n",
    "\n",
    "    data_module, im_shape, project_name = Utility.setup(dataset, batch_size, num_workers=1)\n",
    "\n",
    "    encoder = Encoder(latent_dim=z_dim, img_size=im_shape)\n",
    "    decoder = Decoder(latent_dim=z_dim, img_size=im_shape)\n",
    "\n",
    "    if run_name == \"\":\n",
    "        run_name = Utility.get_latest_version()\n",
    "        print(f\"No run name provided. Using the latest version. Run name: {run_name}\")\n",
    "\n",
    "    logs_dir = f\"./wandb/{run_name}/files\"\n",
    "    checkpoint = f\"{logs_dir}/checkpoints/last.ckpt\"\n",
    "    autoencoder = AutoEncoder.load_from_checkpoint(\n",
    "        checkpoint, encoder=encoder, decoder=decoder, z_dim=z_dim, lr=lr, loss_func=loss)\n",
    "\n",
    "    # Choose your trained nn.Module\n",
    "    encoder = autoencoder.encoder\n",
    "    encoder.eval()\n",
    "\n",
    "    data_module.prepare_data()\n",
    "    data_module.setup(\"test\")\n",
    "    for x, y in data_module.test_dataloader():\n",
    "        x = x.to(autoencoder.device)\n",
    "        x = x[:100]  # dimension: (100, 1, 64, 64)\n",
    "        # save in the checkpoint directory\n",
    "        Utility.display_images(x, path=f\"{logs_dir}/eval_original_images.png\")\n",
    "        z = encoder(x)\n",
    "        Utility.display_embeddings(decoder, z, path=f\"{logs_dir}/eval_im_enc_decode.png\")\n",
    "        break\n",
    "\n",
    "    data_module.teardown(\"test\")\n",
    "\n",
    "    # gen_z = torch.randn((100, z_dim), requires_grad=False, device=autoencoder.device)\n",
    "    # display_embeddings(gen_z)\n",
    "\n",
    "    print(\"Evaluation done\")\n",
    "\n",
    "\n",
    "eval(run_name)\n"
   ],
   "metadata": {
    "collapsed": false,
    "ExecuteTime": {
     "end_time": "2024-05-23T10:01:25.342934100Z",
     "start_time": "2024-05-23T10:01:22.531400400Z"
    }
   },
   "id": "9e56d3b102cbab18"
  },
  {
   "cell_type": "code",
   "execution_count": 18,
   "outputs": [],
   "source": [],
   "metadata": {
    "collapsed": false,
    "ExecuteTime": {
     "end_time": "2024-05-23T10:01:25.358493600Z",
     "start_time": "2024-05-23T10:01:25.342934100Z"
    }
   },
   "id": "520fefbd52bae3e0"
  }
 ],
 "metadata": {
  "kernelspec": {
   "display_name": "Python 3",
   "language": "python",
   "name": "python3"
  },
  "language_info": {
   "codemirror_mode": {
    "name": "ipython",
    "version": 2
   },
   "file_extension": ".py",
   "mimetype": "text/x-python",
   "name": "python",
   "nbconvert_exporter": "python",
   "pygments_lexer": "ipython2",
   "version": "2.7.6"
  }
 },
 "nbformat": 4,
 "nbformat_minor": 5
}
