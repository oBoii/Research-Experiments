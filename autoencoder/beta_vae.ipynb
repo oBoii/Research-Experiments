{
 "cells": [
  {
   "cell_type": "code",
   "source": [
    "from lightning import Trainer\n",
    "import torch\n",
    "from torch import nn\n",
    "import lightning as L\n",
    "from torch.utils.data import DataLoader\n",
    "from torchvision.datasets import MNIST\n",
    "from torchvision import transforms\n",
    "\n",
    "import matplotlib.pyplot as plt\n",
    "\n",
    "\n",
    "class SIM_EndToEnd(L.LightningModule):\n",
    "    def __init__(self, latent_dims: list, beta: float = 1.0):\n",
    "        super(SIM_EndToEnd, self).__init__()\n",
    "        self.latent_dims = latent_dims\n",
    "        self.beta = beta\n",
    "\n",
    "        # Encoder layers. Each layer will be a reparameterization layer\n",
    "        layers = []\n",
    "        prev_dim = 28 * 28\n",
    "        for latent_dim in latent_dims:\n",
    "            layers.append(nn.Linear(prev_dim, latent_dim * 2))  # *2 for mu and log_var\n",
    "            prev_dim = latent_dim\n",
    "        self.layers = nn.ModuleList(layers)\n",
    "\n",
    "\n",
    "        self.final_layer = nn.Sequential(nn.Linear(prev_dim, 28 * 28), nn.Sigmoid())\n",
    "\n",
    "    def reparameterize(self, mu, log_var):\n",
    "        std = torch.exp(0.5 * log_var)\n",
    "        eps = torch.randn_like(std)\n",
    "        return mu + eps * std\n",
    "\n",
    "    def forward(self, x):  # forward through all layers and apply after each layer a  reparameterization layer\n",
    "        mu_log_vars = []\n",
    "        for layer in self.layers:\n",
    "            mu_log_var = layer(x)\n",
    "            mu, log_var = torch.chunk(mu_log_var, 2, dim=1)\n",
    "            x = self.reparameterize(mu, log_var)\n",
    "            x = torch.nn.functional.leaky_relu(x)\n",
    "            mu_log_vars.append((mu, log_var))\n",
    "\n",
    "        return self.final_layer(x), mu_log_vars\n",
    "\n",
    "    def training_step(self, batch, batch_idx):\n",
    "        x, _ = batch\n",
    "        x = x.view(x.size(0), -1)\n",
    "        x_hat, mu_log_vars = self(x)\n",
    "        x_hat = x_hat.view(x.size(0), 28, 28)\n",
    "        x = x.view(x.size(0), 28, 28)\n",
    "\n",
    "        recon_loss = nn.functional.mse_loss(x_hat, x, reduction='sum')\n",
    "        kl_div = sum(-0.5 * torch.sum(1 + log_var - mu.pow(2) - log_var.exp())\n",
    "                     for mu, log_var in mu_log_vars)\n",
    "        loss = recon_loss + self.beta * kl_div\n",
    "\n",
    "        self.log('train_loss', loss)\n",
    "        return loss\n",
    "\n",
    "    def configure_optimizers(self):\n",
    "        return torch.optim.Adam(self.parameters(), lr=1e-3)\n",
    "\n",
    "\n",
    "# Prepare the data\n",
    "transform = transforms.Compose([transforms.ToTensor()])\n",
    "mnist_train = MNIST(\"../data\", train=True, download=True, transform=transform)\n",
    "mnist_val = MNIST(\"../data\", train=False, download=True, transform=transform)\n",
    "\n",
    "train_loader = DataLoader(mnist_train, batch_size=32)\n",
    "val_loader = DataLoader(mnist_val, batch_size=32)\n",
    "\n",
    "# Initialize our model\n",
    "multi_layer_beta_vae = SIM_EndToEnd(latent_dims=[20, 10, 20], beta=0.1)\n",
    "\n",
    "# Initialize a trainer\n",
    "trainer = Trainer(max_epochs=10, fast_dev_run=False)\n",
    "\n",
    "# Train the model\n",
    "trainer.fit(multi_layer_beta_vae, train_loader, val_loader)"
   ],
   "metadata": {
    "collapsed": false,
    "ExecuteTime": {
     "end_time": "2024-08-20T18:36:51.279655Z",
     "start_time": "2024-08-20T18:34:45.739433Z"
    }
   },
   "id": "bfa3727f8be1e243",
   "outputs": [
    {
     "name": "stderr",
     "output_type": "stream",
     "text": [
      "GPU available: True (cuda), used: True\n",
      "TPU available: False, using: 0 TPU cores\n",
      "IPU available: False, using: 0 IPUs\n",
      "HPU available: False, using: 0 HPUs\n",
      "C:\\Python\\Python39\\lib\\site-packages\\lightning\\pytorch\\trainer\\configuration_validator.py:72: You passed in a `val_dataloader` but have no `validation_step`. Skipping val loop.\n",
      "LOCAL_RANK: 0 - CUDA_VISIBLE_DEVICES: [0]\n",
      "\n",
      "  | Name        | Type       | Params\n",
      "-------------------------------------------\n",
      "0 | layers      | ModuleList | 32.3 K\n",
      "1 | final_layer | Sequential | 16.5 K\n",
      "-------------------------------------------\n",
      "48.7 K    Trainable params\n",
      "0         Non-trainable params\n",
      "48.7 K    Total params\n",
      "0.195     Total estimated model params size (MB)\n"
     ]
    },
    {
     "data": {
      "text/plain": [
       "Training: |          | 0/? [00:00<?, ?it/s]"
      ],
      "application/vnd.jupyter.widget-view+json": {
       "version_major": 2,
       "version_minor": 0,
       "model_id": "06c90d7bc74140ab8da21c5820b3b881"
      }
     },
     "metadata": {},
     "output_type": "display_data"
    },
    {
     "name": "stderr",
     "output_type": "stream",
     "text": [
      "`Trainer.fit` stopped: `max_epochs=10` reached.\n"
     ]
    }
   ],
   "execution_count": 6
  },
  {
   "cell_type": "code",
   "id": "initial_id",
   "metadata": {
    "collapsed": true,
    "ExecuteTime": {
     "end_time": "2024-08-20T18:36:52.258598Z",
     "start_time": "2024-08-20T18:36:51.280646Z"
    }
   },
   "source": [
    "# Function to display a few reconstructions and their ground truth in a grid\n",
    "def display_reconstructions(model, data_loader, num_images=8):\n",
    "    model.eval()\n",
    "    with torch.no_grad():\n",
    "        for batch in data_loader:\n",
    "            x, _ = batch\n",
    "            x_hat = model(x.view(x.size(0), -1))[0].view(-1, 1, 28, 28)\n",
    "\n",
    "    fig, axes = plt.subplots(2, num_images, figsize=(num_images * 2, 4))\n",
    "    for i in range(num_images):\n",
    "        axes[0, i].imshow(x[i].squeeze(), cmap='gray')\n",
    "        axes[0, i].axis('off')\n",
    "        axes[1, i].imshow(x_hat[i].squeeze(), cmap='gray')\n",
    "        axes[1, i].axis('off')\n",
    "    plt.show()\n",
    "\n",
    "\n",
    "# Display reconstructions\n",
    "display_reconstructions(multi_layer_beta_vae, val_loader)"
   ],
   "outputs": [
    {
     "data": {
      "text/plain": [
       "<Figure size 1600x400 with 16 Axes>"
      ],
      "image/png": "[encoded data removed]"
     },
     "metadata": {},
     "output_type": "display_data"
    }
   ],
   "execution_count": 7
  },
  {
   "cell_type": "code",
   "source": [
    "import graphviz\n",
    "\n",
    "def visualize_architecture(latent_dims):\n",
    "    dot = graphviz.Digraph(graph_attr={'rankdir': 'LR'})  # Set the graph direction to Left to Right\n",
    "\n",
    "    # Input node\n",
    "    dot.node('Input', 'Input (28x28)')\n",
    "\n",
    "    # Encoder layers with reparameterization\n",
    "    prev_dim = 'Input'\n",
    "    for i, latent_dim in enumerate(latent_dims):\n",
    "        linear_name = f'Linear_{i}'\n",
    "        mu_name = f'Mu_{i}'\n",
    "        sigma_name = f'Sigma_{i}'\n",
    "        reparam_name = f'Reparam_{i}'\n",
    "\n",
    "        dot.node(linear_name, f'Linear ({latent_dim * 2})')\n",
    "        dot.node(mu_name, f'Mu ({latent_dim})')\n",
    "        dot.node(sigma_name, f'Sigma ({latent_dim})')\n",
    "        dot.node(reparam_name, f'Reparam ({latent_dim})')\n",
    "\n",
    "        dot.edge(prev_dim, linear_name)\n",
    "        dot.edge(linear_name, mu_name)\n",
    "        dot.edge(linear_name, sigma_name)\n",
    "        dot.edge(mu_name, reparam_name)\n",
    "        dot.edge(sigma_name, reparam_name)\n",
    "\n",
    "        prev_dim = reparam_name\n",
    "\n",
    "    # Final layer\n",
    "    dot.node('Output', 'Output (28x28)')\n",
    "    dot.edge(prev_dim, 'Output')\n",
    "\n",
    "    return dot\n",
    "\n",
    "# Visualize the architecture\n",
    "latent_dims = [20, 10, 20]\n",
    "dot = visualize_architecture(latent_dims)\n",
    "dot.render('architecture', format='png', view=True)"
   ],
   "metadata": {
    "collapsed": false,
    "ExecuteTime": {
     "end_time": "2024-08-20T18:36:52.700799Z",
     "start_time": "2024-08-20T18:36:52.259592Z"
    }
   },
   "id": "960e27d292f296ce",
   "outputs": [
    {
     "data": {
      "text/plain": [
       "'vae_architecture.png'"
      ]
     },
     "execution_count": 8,
     "metadata": {},
     "output_type": "execute_result"
    }
   ],
   "execution_count": 8
  },
  {
   "metadata": {},
   "cell_type": "code",
   "outputs": [],
   "execution_count": null,
   "source": "",
   "id": "a0868414413aff25"
  }
 ],
 "metadata": {
  "kernelspec": {
   "display_name": "Python 3",
   "language": "python",
   "name": "python3"
  },
  "language_info": {
   "codemirror_mode": {
    "name": "ipython",
    "version": 2
   },
   "file_extension": ".py",
   "mimetype": "text/x-python",
   "name": "python",
   "nbconvert_exporter": "python",
   "pygments_lexer": "ipython2",
   "version": "2.7.6"
  }
 },
 "nbformat": 4,
 "nbformat_minor": 5
}
