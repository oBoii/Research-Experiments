{
 "cells": [
  {
   "cell_type": "code",
   "execution_count": 1,
   "id": "initial_id",
   "metadata": {
    "collapsed": true,
    "ExecuteTime": {
     "end_time": "2024-05-07T07:52:46.466675400Z",
     "start_time": "2024-05-07T07:52:40.103385900Z"
    }
   },
   "outputs": [],
   "source": [
    "import torch\n",
    "from torch import nn, optim\n",
    "from torchvision import datasets, transforms\n",
    "from torch.utils.data import DataLoader"
   ]
  },
  {
   "cell_type": "code",
   "execution_count": 2,
   "outputs": [
    {
     "name": "stdout",
     "output_type": "stream",
     "text": [
      "torch.Size([32, 784])\n"
     ]
    }
   ],
   "source": [
    "# Define the autoencoder model\n",
    "class Autoencoder(nn.Module):\n",
    "    def __init__(self):\n",
    "        super(Autoencoder, self).__init__()\n",
    "        self.encoder = nn.Sequential(\n",
    "            nn.Linear(28 * 28, 128, bias=False),\n",
    "            nn.ReLU(),\n",
    "            nn.Linear(128, 64, bias=False),\n",
    "            nn.ReLU(),\n",
    "            nn.Linear(64, 12, bias=False),\n",
    "            nn.ReLU(),\n",
    "            nn.Linear(12, 3, bias=False)  # compressed representation\n",
    "        )\n",
    "        self.decoder = nn.Sequential(\n",
    "            nn.Linear(3, 12, bias=False),\n",
    "            nn.ReLU(),\n",
    "            nn.Linear(12, 64, bias=False),\n",
    "            nn.ReLU(),\n",
    "            nn.Linear(64, 128, bias=False),\n",
    "            nn.ReLU(),\n",
    "            nn.Linear(128, 28 * 28, bias=False),\n",
    "            nn.Sigmoid(),  # to range [0, 1]\n",
    "        )\n",
    "\n",
    "    def forward(self, x):\n",
    "        x = self.encoder(x)\n",
    "        x = self.decoder(x)\n",
    "        return x\n",
    "\n",
    "\n",
    "# Example:\n",
    "model = Autoencoder()\n",
    "x = torch.randn(32, 28 * 28)\n",
    "output = model(x)\n",
    "print(output.shape)  # torch.Size([32, 784])"
   ],
   "metadata": {
    "collapsed": false,
    "ExecuteTime": {
     "end_time": "2024-05-07T07:52:46.535777100Z",
     "start_time": "2024-05-07T07:52:46.466675400Z"
    }
   },
   "id": "52b9b4bd7f3f0566"
  },
  {
   "cell_type": "code",
   "execution_count": 3,
   "outputs": [
    {
     "name": "stdout",
     "output_type": "stream",
     "text": [
      "torch.Size([32, 784])\n",
      "tensor([[-1.9816e+01,  1.8779e+01, -2.3355e+01,  ...,  6.5852e+01,\n",
      "          6.1950e+01,  8.1221e+01],\n",
      "        [-1.6975e+01,  7.1016e+01, -6.6424e+01,  ...,  9.8970e+01,\n",
      "          5.9576e+01,  1.4753e+02],\n",
      "        [-2.0567e+01, -2.7858e+01, -8.8480e+00,  ...,  5.0026e+01,\n",
      "          2.8238e+01,  4.0788e+01],\n",
      "        ...,\n",
      "        [-8.4345e+00,  6.8696e-02, -1.8865e+01,  ...,  5.0629e+01,\n",
      "          3.1739e+01,  5.2350e+01],\n",
      "        [-4.5458e-01, -1.4690e+01, -2.5026e+01,  ...,  9.5057e+01,\n",
      "          4.4410e+01,  1.0322e+02],\n",
      "        [-1.3046e+01,  8.2230e+01, -6.3889e+01,  ...,  1.0895e+02,\n",
      "          7.2382e+01,  1.7207e+02]], grad_fn=<TBackward0>)\n"
     ]
    }
   ],
   "source": [
    "class TransposedAutoencoder(nn.Module):\n",
    "    def __init__(self):\n",
    "        super(TransposedAutoencoder, self).__init__()\n",
    "        self.encoder = nn.Sequential(\n",
    "            nn.Linear(28 * 28, 128, bias=False),\n",
    "            nn.LeakyReLU(0.01),\n",
    "            nn.Linear(128, 64, bias=False),\n",
    "            nn.LeakyReLU(0.01), # 0.01 is the negative slope\n",
    "            nn.Linear(64, 12, bias=False),\n",
    "            nn.LeakyReLU(0.01),\n",
    "            nn.Linear(12, 3, bias=False)  # compressed representation\n",
    "        )\n",
    "\n",
    "    def forward(self, x):\n",
    "        x = self.encoder(x)\n",
    "        # Decode using by transposing the encoder layers\n",
    "        layers = list(self.encoder.children())\n",
    "        x = x.t()\n",
    "        for layer in reversed(layers):\n",
    "            if isinstance(layer, nn.Linear):\n",
    "                weights = layer.weight.t()\n",
    "                x = weights @ x\n",
    "            else:  # LeakyReLU\n",
    "                # Inverse of LeakyReLU\n",
    "                x = torch.where(x >= 0, x, x / 0.01)\n",
    "        \n",
    "        x = x.t()\n",
    "        return x\n",
    "\n",
    "\n",
    "# Example:\n",
    "model = TransposedAutoencoder()\n",
    "x = torch.randn(32, 28 * 28)\n",
    "output = model(x)\n",
    "print(output.shape)\n",
    "print(output)"
   ],
   "metadata": {
    "collapsed": false,
    "ExecuteTime": {
     "end_time": "2024-05-07T07:52:46.598275600Z",
     "start_time": "2024-05-07T07:52:46.535777100Z"
    }
   },
   "id": "2a524fbc7f58df41"
  },
  {
   "cell_type": "code",
   "execution_count": 4,
   "outputs": [
    {
     "name": "stdout",
     "output_type": "stream",
     "text": [
      "Epoch 0\n",
      "Loss: 6.833580846432596e-05\n",
      "Epoch 1\n",
      "Loss: 6.333603960229084e-05\n",
      "Epoch 2\n",
      "Loss: 5.369682548916899e-05\n",
      "Epoch 3\n",
      "Loss: 5.461668115458451e-05\n",
      "Epoch 4\n",
      "Loss: 5.78854487685021e-05\n",
      "Epoch 5\n",
      "Loss: 5.824609979754314e-05\n",
      "Epoch 6\n",
      "Loss: 4.727567284135148e-05\n",
      "Epoch 7\n",
      "Loss: 4.062360676471144e-05\n",
      "Epoch 8\n",
      "Loss: 4.179582901997492e-05\n",
      "Epoch 9\n",
      "Loss: 3.631430081441067e-05\n",
      "Epoch 10\n",
      "Loss: 3.938433656003326e-05\n",
      "Epoch 11\n",
      "Loss: 4.4226369936950505e-05\n",
      "Epoch 12\n",
      "Loss: 3.8076352211646736e-05\n",
      "Epoch 13\n",
      "Loss: 4.379282472655177e-05\n",
      "Epoch 14\n",
      "Loss: 3.663539973786101e-05\n",
      "Epoch 15\n",
      "Loss: 3.593247674871236e-05\n",
      "Epoch 16\n",
      "Loss: 4.091722803423181e-05\n",
      "Epoch 17\n",
      "Loss: 3.3175674616359174e-05\n",
      "Epoch 18\n",
      "Loss: 4.154156340518966e-05\n",
      "Epoch 19\n",
      "Loss: 3.576303060981445e-05\n",
      "Epoch 20\n",
      "Loss: 4.0663489926373586e-05\n",
      "Epoch 21\n",
      "Loss: 4.251963400747627e-05\n",
      "Epoch 22\n",
      "Loss: 3.510157694108784e-05\n",
      "Epoch 23\n",
      "Loss: 3.679994915728457e-05\n",
      "Epoch 24\n",
      "Loss: 3.227494016755372e-05\n",
      "Epoch 25\n",
      "Loss: 3.263862890889868e-05\n",
      "Epoch 26\n",
      "Loss: 3.634480162872933e-05\n",
      "Epoch 27\n",
      "Loss: 3.445960828685202e-05\n",
      "Epoch 28\n",
      "Loss: 3.8251015212154016e-05\n",
      "Epoch 29\n",
      "Loss: 3.9491511415690184e-05\n"
     ]
    }
   ],
   "source": [
    "# Define the training loop\n",
    "def train(model, train_loader, optimizer, criterion):\n",
    "    model.train()\n",
    "    loss = 0\n",
    "    for batch_idx, (data, _) in enumerate(train_loader):\n",
    "        data = data.view(data.size(0), -1)  # Flatten the images\n",
    "        optimizer.zero_grad()\n",
    "        output = model(data)\n",
    "        loss = criterion(output, data)  # reconstruction loss\n",
    "        loss.backward()\n",
    "        optimizer.step()\n",
    "\n",
    "        loss += loss.item()\n",
    "\n",
    "    print(f'Loss: {loss / len(train_loader)}')\n",
    "\n",
    "\n",
    "# Load MNIST dataset\n",
    "transform = transforms.ToTensor()\n",
    "train_dataset = datasets.MNIST(root='./data', train=True, download=True, transform=transform)\n",
    "train_loader = DataLoader(train_dataset, batch_size=32, shuffle=True)\n",
    "\n",
    "# model = Autoencoder()\n",
    "model = TransposedAutoencoder()\n",
    "\n",
    "# Define the optimizer\n",
    "optimizer = optim.Adam(model.parameters(), lr=0.001)\n",
    "\n",
    "# Define the loss\n",
    "criterion = nn.MSELoss()\n",
    "\n",
    "# Train the model\n",
    "for epoch in range(30):  # Train for 10 epochs\n",
    "    print(f'Epoch {epoch}')\n",
    "    train(model, train_loader, optimizer, criterion)\n"
   ],
   "metadata": {
    "collapsed": false,
    "ExecuteTime": {
     "end_time": "2024-05-07T08:35:35.052989300Z",
     "start_time": "2024-05-07T07:52:46.598275600Z"
    }
   },
   "id": "38fcf8557e5744ec"
  },
  {
   "cell_type": "code",
   "execution_count": 5,
   "outputs": [
    {
     "data": {
      "text/plain": "<Figure size 1000x400 with 10 Axes>",
      "image/png": "[encoded data removed]"
     },
     "metadata": {},
     "output_type": "display_data"
    }
   ],
   "source": [
    "# Visualize the reconstructed images\n",
    "import matplotlib.pyplot as plt\n",
    "\n",
    "model.eval()\n",
    "data, _ = next(iter(train_loader))\n",
    "data = data.view(data.size(0), -1)\n",
    "output = model(data)\n",
    "data = data.detach().numpy()\n",
    "output = output.detach().numpy()\n",
    "\n",
    "n_images = 5\n",
    "plt.figure(figsize=(10, 4))\n",
    "for i in range(n_images):\n",
    "    # display original\n",
    "    ax = plt.subplot(2, n_images, i + 1)\n",
    "    plt.imshow(data[i].reshape(28, 28))\n",
    "    plt.gray()\n",
    "    ax.get_xaxis().set_visible(False)\n",
    "    ax.get_yaxis().set_visible(False)\n",
    "\n",
    "    # display reconstruction\n",
    "    ax = plt.subplot(2, n_images, i + 1 + n_images)\n",
    "    plt.imshow(output[i].reshape(28, 28))\n",
    "    plt.gray()\n",
    "    ax.get_xaxis().set_visible(False)\n",
    "    ax.get_yaxis().set_visible(False)"
   ],
   "metadata": {
    "collapsed": false,
    "ExecuteTime": {
     "end_time": "2024-05-07T08:35:36.674305400Z",
     "start_time": "2024-05-07T08:35:35.082078800Z"
    }
   },
   "id": "542d870a7ebfa807"
  },
  {
   "cell_type": "code",
   "execution_count": 5,
   "outputs": [],
   "source": [],
   "metadata": {
    "collapsed": false,
    "ExecuteTime": {
     "end_time": "2024-05-07T08:35:36.687990700Z",
     "start_time": "2024-05-07T08:35:36.675306400Z"
    }
   },
   "id": "569df5abd8ddaa01"
  }
 ],
 "metadata": {
  "kernelspec": {
   "display_name": "Python 3",
   "language": "python",
   "name": "python3"
  },
  "language_info": {
   "codemirror_mode": {
    "name": "ipython",
    "version": 2
   },
   "file_extension": ".py",
   "mimetype": "text/x-python",
   "name": "python",
   "nbconvert_exporter": "python",
   "pygments_lexer": "ipython2",
   "version": "2.7.6"
  }
 },
 "nbformat": 4,
 "nbformat_minor": 5
}
