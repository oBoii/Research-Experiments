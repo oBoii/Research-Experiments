{
 "cells": [
  {
   "cell_type": "code",
   "execution_count": 1,
   "outputs": [],
   "source": [
    "## Standard libraries\n",
    "import os\n",
    "import numpy as np\n",
    "\n",
    "## Imports for plotting\n",
    "import matplotlib.pyplot as plt\n",
    "import matplotlib\n",
    "\n",
    "## PyTorch\n",
    "import torch\n",
    "import torch.nn as nn\n",
    "import torch.utils.data as data\n",
    "import torch.optim as optim\n",
    "## Torchvision\n",
    "import torchvision\n",
    "from torchvision.datasets import MNIST\n",
    "from torchvision import transforms"
   ],
   "metadata": {
    "collapsed": false,
    "ExecuteTime": {
     "end_time": "2024-05-10T08:05:09.658276700Z",
     "start_time": "2024-05-10T08:05:02.624192300Z"
    }
   },
   "id": "8d9235e88c9fdffd"
  },
  {
   "cell_type": "code",
   "execution_count": 2,
   "outputs": [
    {
     "data": {
      "text/plain": "('saved_models/model.pth', <http.client.HTTPMessage at 0x21ae5fd8670>)"
     },
     "execution_count": 2,
     "metadata": {},
     "output_type": "execute_result"
    }
   ],
   "source": [
    "# # Download a pretrained model.\n",
    "# if not os.path.exists('saved_models'):\n",
    "#     os.mkdir('saved_models')\n",
    "# !wget -O 'saved_models/model.pth' https://raw.githubusercontent.com/david-knigge/uvadlc2-tutorial-Gumbel-Sinkhorn-Networks/main/model.pth\n",
    "\n",
    "import urllib.request\n",
    "\n",
    "if not os.path.exists('saved_models'):\n",
    "    os.mkdir('saved_models')\n",
    "\n",
    "url = 'https://raw.githubusercontent.com/david-knigge/uvadlc2-tutorial-Gumbel-Sinkhorn-Networks/main/model.pth'\n",
    "urllib.request.urlretrieve(url, 'saved_models/model.pth')"
   ],
   "metadata": {
    "collapsed": false,
    "ExecuteTime": {
     "end_time": "2024-05-10T08:05:09.964263800Z",
     "start_time": "2024-05-10T08:05:09.658276700Z"
    }
   },
   "id": "547198692c78282d"
  },
  {
   "cell_type": "code",
   "execution_count": 3,
   "outputs": [],
   "source": [
    "\n",
    "# Path to the folder where the datasets are be downloaded (e.g. MNIST)\n",
    "DATASET_PATH = \"../data\"\n",
    "# Path to the folder where the pretrained models are saved\n",
    "CHECKPOINT_PATH = \"./saved_models/\"\n",
    "\n",
    "# Ensure that all operations are deterministic on GPU (if used) for reproducibility\n",
    "torch.backends.cudnn.deterministic = True\n",
    "torch.backends.cudnn.benchmark = False\n",
    "\n",
    "device = torch.device(\"cuda:0\") if torch.cuda.is_available() else torch.device(\"cpu\")"
   ],
   "metadata": {
    "collapsed": false,
    "ExecuteTime": {
     "end_time": "2024-05-10T08:05:11.486734200Z",
     "start_time": "2024-05-10T08:05:11.471080900Z"
    }
   },
   "id": "14e23fb00a550401"
  },
  {
   "cell_type": "code",
   "execution_count": 4,
   "outputs": [],
   "source": [
    "def log_sinkhorn(log_alpha, n_iter):\n",
    "    \"\"\"Performs incomplete Sinkhorn normalization to log_alpha.\n",
    "    By a theorem by Sinkhorn and Knopp [1], a sufficiently well-behaved  matrix\n",
    "    with positive entries can be turned into a doubly-stochastic matrix\n",
    "    (i.e. its rows and columns add up to one) via the successive row and column\n",
    "    normalization.\n",
    "\n",
    "    [1] Sinkhorn, Richard and Knopp, Paul.\n",
    "    Concerning nonnegative matrices and doubly stochastic\n",
    "    matrices. Pacific Journal of Mathematics, 1967\n",
    "    Args:\n",
    "      log_alpha: 2D tensor (a matrix of shape [N, N])\n",
    "        or 3D tensor (a batch of matrices of shape = [batch_size, N, N])\n",
    "      n_iters: number of sinkhorn iterations (in practice, as little as 20\n",
    "        iterations are needed to achieve decent convergence for N~100)\n",
    "    Returns:\n",
    "      A 3D tensor of close-to-doubly-stochastic matrices (2D tensors are\n",
    "        converted to 3D tensors with batch_size equals to 1)\n",
    "    \"\"\"\n",
    "    for _ in range(n_iter):\n",
    "        log_alpha = log_alpha - torch.logsumexp(log_alpha, -1, keepdim=True)\n",
    "        log_alpha = log_alpha - torch.logsumexp(log_alpha, -2, keepdim=True)\n",
    "    return log_alpha.exp()"
   ],
   "metadata": {
    "collapsed": false,
    "ExecuteTime": {
     "end_time": "2024-05-10T08:05:11.504321700Z",
     "start_time": "2024-05-10T08:05:11.486734200Z"
    }
   },
   "id": "5d9822fd9d67f51b"
  },
  {
   "cell_type": "code",
   "execution_count": 5,
   "outputs": [
    {
     "data": {
      "text/plain": "tensor([[0.5344, 0.3199, 0.1781],\n        [0.7043, 0.2814, 0.4743],\n        [0.1637, 0.7063, 0.9338]])"
     },
     "execution_count": 5,
     "metadata": {},
     "output_type": "execute_result"
    }
   ],
   "source": [
    "# Create a matrix containing random numbers.\n",
    "X = torch.rand((3, 3))\n",
    "X"
   ],
   "metadata": {
    "collapsed": false,
    "ExecuteTime": {
     "end_time": "2024-05-10T08:05:11.549247900Z",
     "start_time": "2024-05-10T08:05:11.504321700Z"
    }
   },
   "id": "25ac062be31d7def"
  },
  {
   "cell_type": "code",
   "execution_count": 6,
   "outputs": [
    {
     "data": {
      "text/plain": "tensor([[0.4738, 0.3528, 0.1734],\n        [0.4471, 0.2223, 0.3307],\n        [0.0792, 0.4249, 0.4959]])"
     },
     "execution_count": 6,
     "metadata": {},
     "output_type": "execute_result"
    }
   ],
   "source": [
    "# Apply the Sinkhorn operator for 20 iterations.\n",
    "S_X = log_sinkhorn(torch.log(X), n_iter=20)\n",
    "S_X"
   ],
   "metadata": {
    "collapsed": false,
    "ExecuteTime": {
     "end_time": "2024-05-10T08:05:11.554261100Z",
     "start_time": "2024-05-10T08:05:11.518901100Z"
    }
   },
   "id": "a1380a1543b40b9c"
  },
  {
   "cell_type": "code",
   "execution_count": 7,
   "outputs": [],
   "source": [
    "# Check whether rows sum to 1.\n",
    "assert torch.allclose(S_X.sum(dim=0), torch.ones(S_X.shape[0]))\n",
    "\n",
    "# Check whether columns sum to 1.\n",
    "assert torch.allclose(S_X.sum(dim=1), torch.ones(S_X.shape[1]))"
   ],
   "metadata": {
    "collapsed": false,
    "ExecuteTime": {
     "end_time": "2024-05-10T08:05:11.554261100Z",
     "start_time": "2024-05-10T08:05:11.534176Z"
    }
   },
   "id": "149c78af73beeaef"
  },
  {
   "cell_type": "code",
   "execution_count": 8,
   "outputs": [],
   "source": [
    "## Scipy\n",
    "from scipy.optimize import linear_sum_assignment\n",
    "from scipy.sparse import coo_matrix\n",
    "\n",
    "\n",
    "def matching(alpha):\n",
    "    # Negate the probability matrix to serve as cost matrix. This function\n",
    "    # yields two lists, the row and colum indices for all entries in the\n",
    "    # permutation matrix we should set to 1.\n",
    "    row, col = linear_sum_assignment(-alpha)\n",
    "\n",
    "    # Create the permutation matrix.\n",
    "    permutation_matrix = coo_matrix((np.ones_like(row), (row, col))).toarray()\n",
    "    return torch.from_numpy(permutation_matrix)\n",
    "\n",
    "# Example usage:\n",
    "temp = torch.rand((3, 3))\n",
    "matching(temp)"
   ],
   "metadata": {
    "collapsed": false,
    "ExecuteTime": {
     "end_time": "2024-05-10T08:05:13.340059900Z",
     "start_time": "2024-05-10T08:05:11.549247900Z"
    }
   },
   "id": "5a2d9555edffe7db"
  },
  {
   "cell_type": "code",
   "execution_count": 9,
   "outputs": [
    {
     "data": {
      "text/plain": "tensor([[0, 1, 0],\n        [1, 0, 0],\n        [0, 0, 1]])"
     },
     "execution_count": 9,
     "metadata": {},
     "output_type": "execute_result"
    }
   ],
   "source": [
    "matching(S_X)"
   ],
   "metadata": {
    "collapsed": false,
    "ExecuteTime": {
     "end_time": "2024-05-10T08:05:13.350260500Z",
     "start_time": "2024-05-10T08:05:13.344127600Z"
    }
   },
   "id": "8cc89997c3ab7a71"
  },
  {
   "cell_type": "code",
   "execution_count": 10,
   "outputs": [],
   "source": [
    "def sample_gumbel(shape, device='cpu', eps=1e-20):\n",
    "    \"\"\"Samples arbitrary-shaped standard gumbel variables.\n",
    "    Args:\n",
    "      shape: list of integers\n",
    "      eps: float, for numerical stability\n",
    "    Returns:\n",
    "      A sample of standard Gumbel random variables\n",
    "    \"\"\"\n",
    "    u = torch.rand(shape, device=device)\n",
    "    return -torch.log(-torch.log(u + eps) + eps)"
   ],
   "metadata": {
    "collapsed": false,
    "ExecuteTime": {
     "end_time": "2024-05-10T08:05:13.360306200Z",
     "start_time": "2024-05-10T08:05:13.354268500Z"
    }
   },
   "id": "5d1c0462ed97125b"
  },
  {
   "cell_type": "code",
   "execution_count": 11,
   "outputs": [
    {
     "data": {
      "text/plain": "tensor([[ 0.3005,  1.9939,  1.9028],\n        [ 1.6983, -0.3521, -0.0660],\n        [-0.7222,  0.2397, -1.2841]])"
     },
     "execution_count": 11,
     "metadata": {},
     "output_type": "execute_result"
    }
   ],
   "source": [
    "sample_gumbel((3, 3))"
   ],
   "metadata": {
    "collapsed": false,
    "ExecuteTime": {
     "end_time": "2024-05-10T08:05:13.400821200Z",
     "start_time": "2024-05-10T08:05:13.360306200Z"
    }
   },
   "id": "c5bb82978013a955"
  },
  {
   "cell_type": "code",
   "execution_count": 12,
   "outputs": [],
   "source": [
    "def gumbel_sinkhorn(log_alpha, tau, n_iter):\n",
    "    \"\"\" Sample a permutation matrix from the Gumbel-Sinkhorn distribution\n",
    "    with parameters given by log_alpha and temperature tau.\n",
    "\n",
    "    Args:\n",
    "      log_alpha: Logarithm of assignment probabilities. In our case this is\n",
    "        of dimensionality [num_pieces, num_pieces].\n",
    "      tau: Temperature parameter, the lower the value for tau the more closely\n",
    "        we follow a categorical sampling.\n",
    "    \"\"\"\n",
    "    # Sample Gumbel noise.\n",
    "    gumbel_noise = sample_gumbel(log_alpha.shape, device=log_alpha.device)\n",
    "\n",
    "    # Apply the Sinkhorn operator!\n",
    "    sampled_perm_mat = log_sinkhorn((log_alpha + gumbel_noise) / tau, n_iter)\n",
    "    return sampled_perm_mat"
   ],
   "metadata": {
    "collapsed": false,
    "ExecuteTime": {
     "end_time": "2024-05-10T08:05:13.410851700Z",
     "start_time": "2024-05-10T08:05:13.373930700Z"
    }
   },
   "id": "54db0a435a586a0"
  },
  {
   "cell_type": "code",
   "execution_count": 13,
   "outputs": [
    {
     "data": {
      "text/plain": "tensor([[0.0000e+00, 1.0000e+00, 0.0000e+00],\n        [6.2878e-03, 0.0000e+00, 1.0000e+00],\n        [9.9371e-01, 7.6687e-31, 3.0753e-10]])"
     },
     "execution_count": 13,
     "metadata": {},
     "output_type": "execute_result"
    }
   ],
   "source": [
    "# For low values of tau the sampled matrices are closer to actual\n",
    "# permutation matrices.\n",
    "gumbel_sinkhorn(X, tau=0.01, n_iter=20)"
   ],
   "metadata": {
    "collapsed": false,
    "ExecuteTime": {
     "end_time": "2024-05-10T08:05:13.413917500Z",
     "start_time": "2024-05-10T08:05:13.380466100Z"
    }
   },
   "id": "eefd3cec71eedd53"
  },
  {
   "cell_type": "code",
   "execution_count": 14,
   "outputs": [
    {
     "data": {
      "text/plain": "tensor([[0.2862, 0.3914, 0.3223],\n        [0.3834, 0.2878, 0.3288],\n        [0.3304, 0.3207, 0.3489]])"
     },
     "execution_count": 14,
     "metadata": {},
     "output_type": "execute_result"
    }
   ],
   "source": [
    "# For higher values of tau the sampled matrices are 'less categorical'\n",
    "gumbel_sinkhorn(X, tau=10, n_iter=20)"
   ],
   "metadata": {
    "collapsed": false,
    "ExecuteTime": {
     "end_time": "2024-05-10T08:05:13.413917500Z",
     "start_time": "2024-05-10T08:05:13.390795900Z"
    }
   },
   "id": "530000fc82aebaae"
  },
  {
   "cell_type": "code",
   "execution_count": 15,
   "outputs": [
    {
     "data": {
      "text/plain": "tensor([[ 0.0000e+00,  0.0000e+00,  0.0000e+00],\n        [ 0.0000e+00, -2.6581e-21,  2.6581e-21],\n        [ 0.0000e+00,  0.0000e+00,  0.0000e+00]])"
     },
     "execution_count": 15,
     "metadata": {},
     "output_type": "execute_result"
    }
   ],
   "source": [
    "# Create a matrix containing random numbers. Let PyTorch know we want gradients.\n",
    "X = torch.rand((3, 3), requires_grad=True)\n",
    "\n",
    "# Sample a permutation matrix from the Gumbel-Sinkhorn distribution.\n",
    "P = gumbel_sinkhorn(X * 1000, tau=1, n_iter=2000)\n",
    "P.sum().backward()\n",
    "\n",
    "X.grad"
   ],
   "metadata": {
    "collapsed": false,
    "ExecuteTime": {
     "end_time": "2024-05-10T08:05:13.533983600Z",
     "start_time": "2024-05-10T08:05:13.400821200Z"
    }
   },
   "id": "8876175eea43a66e"
  },
  {
   "cell_type": "code",
   "execution_count": 78,
   "outputs": [
    {
     "name": "stdout",
     "output_type": "stream",
     "text": [
      "latent_piece\n",
      "torch.Size([4, 64, 1, 14, 14])\n",
      "torch.Size([64, 4])\n"
     ]
    },
    {
     "data": {
      "text/plain": "(torch.Size([64, 4, 1, 14, 14]), torch.Size([64, 1, 4]))"
     },
     "execution_count": 78,
     "metadata": {},
     "output_type": "execute_result"
    }
   ],
   "source": [
    "import torch\n",
    "import torch.nn as nn\n",
    "\n",
    "\n",
    "class SinkhornConvNet(nn.Module):\n",
    "    def __init__(\n",
    "            self,\n",
    "            in_channels: int,\n",
    "            num_pieces: int,\n",
    "            image_size: int,\n",
    "            hidden_channels: int,\n",
    "            kernel_size: int,\n",
    "            tau: float = 1.0,\n",
    "            n_sink_iter: int = 20,\n",
    "    ):\n",
    "        super().__init__()\n",
    "\n",
    "        # store these for later use.\n",
    "        self.tau = tau\n",
    "        self.n_sink_iter = n_sink_iter\n",
    "\n",
    "        self.g_1 = nn.Sequential(\n",
    "            nn.Conv2d(in_channels, hidden_channels, kernel_size, padding=kernel_size // 2),\n",
    "            nn.MaxPool2d(2),\n",
    "            nn.ReLU(True),\n",
    "            nn.BatchNorm2d(hidden_channels)\n",
    "        )\n",
    "\n",
    "        # calculate the size of a single piece in pixels\n",
    "        piece_size = image_size // num_pieces\n",
    "\n",
    "        # calculate the size of a single piece in pixels after 1 max pooling\n",
    "        piece_size_after_conv = (piece_size) // (2 * 1)\n",
    "\n",
    "        self.g_2 = nn.Linear(piece_size_after_conv ** 2 * hidden_channels, num_pieces ** 2, bias=False)\n",
    "\n",
    "    def forward(self, batch_pieces):\n",
    "        # in: (torch.Size([64, 4, 1, 14, 14]))\n",
    "        # out: (torch.Size([64, 4, 1, 14, 14]), torch.Size([64, 4, 4]))\n",
    "        batch_size = batch_pieces.shape[0]\n",
    "\n",
    "        # Switch batch and piece dimensions. We want to apply the same network\n",
    "        # to each of the pieces.\n",
    "        pieces = batch_pieces.transpose(0, 1).contiguous()\n",
    "\n",
    "        # Apply g_1 to each of the pieces.\n",
    "        conv_pieces = []\n",
    "        for piece in pieces:\n",
    "            piece = self.g_1(piece)\n",
    "            conv_piece = piece.reshape(batch_size, -1)\n",
    "            conv_pieces.append(conv_piece)\n",
    "\n",
    "        # Apply g_2 to each of the pieces.\n",
    "        latent_pieces = []\n",
    "        for piece in conv_pieces:\n",
    "            latent_piece = self.g_2(piece)\n",
    "            latent_pieces.append(latent_piece)\n",
    "            print(\"latent_piece\") # torch.Size([4, 64, 1, 14, 14]), torch.Size([64, 4])\n",
    "            print(pieces.shape)\n",
    "            print(latent_piece.shape)\n",
    "            break\n",
    "        \n",
    "\n",
    "        # Create a matrix of log unnormalized assignment probabilities. After this\n",
    "        # the batch dimension is batch in the first position.\n",
    "        log_alphas = torch.stack(latent_pieces, 1)\n",
    "\n",
    "        # During training, we sample from the Gumbel-Sinkhorn distribution.\n",
    "        if self.training:\n",
    "            permutation_matrices = gumbel_sinkhorn(log_alphas, tau=self.tau, n_iter=self.n_sink_iter)\n",
    "\n",
    "        # During eval, we solve the linear assignment problem.\n",
    "        else:\n",
    "            permutation_matrices = torch.stack([\n",
    "                matching(log_alpha)\n",
    "                for log_alpha in log_alphas.cpu().detach().numpy()]\n",
    "            ).float().to(log_alphas.device)\n",
    "\n",
    "        # We obtain the ordered pieces as predicted by our network\n",
    "        ordered_pieces = inverse_permutation_for_image(batch_pieces, permutation_matrices)\n",
    "\n",
    "        # Return the ordered pieces, along with the predicted permutation.\n",
    "        # We will inspect the predicted permutation matrices during test time.\n",
    "        return ordered_pieces, permutation_matrices\n",
    "    \n",
    "# test\n",
    "model = SinkhornConvNet(\n",
    "    in_channels=1,\n",
    "    num_pieces=2,\n",
    "    image_size=28,\n",
    "    hidden_channels=32,\n",
    "    kernel_size=5,\n",
    "    tau=0.1,\n",
    "    n_sink_iter=20\n",
    ").to(device)\n",
    "\n",
    "random_pieces = torch.rand((64, 4, 1, 14, 14)).to(device)\n",
    "res1, res2 = model(random_pieces)\n",
    "res1.shape, res2.shape"
   ],
   "metadata": {
    "collapsed": false,
    "ExecuteTime": {
     "end_time": "2024-05-10T09:43:40.403801700Z",
     "start_time": "2024-05-10T09:43:40.363946900Z"
    }
   },
   "id": "3b03ba8787c95b89"
  },
  {
   "cell_type": "code",
   "execution_count": 17,
   "outputs": [],
   "source": [
    "def chunk_image(image: torch.Tensor, num_pieces: int):\n",
    "    \"\"\"Randomly chunk a single image.\n",
    "    Args:\n",
    "      image: Image [channels, height, width].\n",
    "\n",
    "    Returns:\n",
    "      pieces: Image chunks in their original positions. [num_pieces, channels,\n",
    "        height // num_pieces, width // num_pieces]\n",
    "      random_pieces: Image chunks in their randomly permuted positions.\n",
    "      permute_index: List of permuted indices.\n",
    "    \"\"\"\n",
    "    # Get image dimensions.\n",
    "    height, width = image.shape[-2:]\n",
    "\n",
    "    # Get piece dimensions.\n",
    "    piece_height = height // num_pieces\n",
    "    piece_width = width // num_pieces\n",
    "    pieces = []\n",
    "\n",
    "    # Obtain indices for each of the image chunks.\n",
    "    for p_h in range(num_pieces):\n",
    "        for p_w in range(num_pieces):\n",
    "            left = p_w * piece_width\n",
    "            right = left + piece_width\n",
    "            top = p_h * piece_height\n",
    "            bottom = top + piece_height\n",
    "            piece = image[:, top:bottom, left:right]\n",
    "            pieces.append(piece)\n",
    "\n",
    "    pieces = torch.stack(pieces, 0)\n",
    "\n",
    "    # Randomly permute the index of the pieces.\n",
    "    permute_index = torch.randperm(num_pieces ** 2)\n",
    "    random_pieces = pieces[permute_index]\n",
    "    return pieces, random_pieces, permute_index\n",
    "\n",
    "\n",
    "def batch_chunk_image(images: torch.Tensor, num_pieces: int):\n",
    "    \"\"\"Randomly chunk a batch of images.\n",
    "    Args:\n",
    "      image: Images [batch, channels, height, width].\n",
    "\n",
    "    Returns:\n",
    "      pieces: Batch of image chunks in their original positions. [batch,\n",
    "        num_pieces, channels, height // num_pieces, width // num_pieces]\n",
    "      random_pieces: Batch of image chunks in their randomly permuted positions.\n",
    "         [batch, num_pieces, channels, height // num_pieces, width // num_pieces]\n",
    "      permute_index: Batch of permutation lists. [batch, num_pieces**2]\n",
    "    \"\"\"\n",
    "    batch_pieces, batch_random_pieces, batch_permute_index = [], [], []\n",
    "    for image in images:\n",
    "        pieces, random_pieces, permute_index = chunk_image(image, num_pieces)\n",
    "\n",
    "        batch_pieces.append(pieces)\n",
    "        batch_random_pieces.append(random_pieces)\n",
    "        batch_permute_index.append(permute_index)\n",
    "    return torch.stack(batch_pieces, 0), torch.stack(batch_random_pieces, 0), torch.stack(batch_permute_index, 0)\n",
    "\n",
    "\n",
    "def inverse_permutation_for_image(X, permutation_matrix):\n",
    "    \"\"\"Apply the inverse of a permutation (its transpose) to a batch of image\n",
    "       chunks.\n",
    "    Args:\n",
    "      X: Batched sets of image chunks. [batch, num_pieces, channels, height, width]\n",
    "      permutation_matrix: float, for numerical stability\n",
    "\n",
    "    Returns:\n",
    "      Permuted set of image chunks.\n",
    "    \"\"\"\n",
    "    return torch.einsum(\"bpq,bpchw->bqchw\", (permutation_matrix, X)).contiguous()"
   ],
   "metadata": {
    "collapsed": false,
    "ExecuteTime": {
     "end_time": "2024-05-10T08:05:13.584087100Z",
     "start_time": "2024-05-10T08:05:13.544003200Z"
    }
   },
   "id": "a76465e4296c07ac"
  },
  {
   "cell_type": "code",
   "execution_count": 18,
   "outputs": [],
   "source": [
    "from torchvision import datasets\n",
    "from torchvision import transforms\n",
    "\n",
    "from torch import optim\n",
    "from torch.utils.data import DataLoader\n",
    "\n",
    "device = torch.device('cuda')\n",
    "\n",
    "transform = transforms.Compose([\n",
    "    transforms.ToTensor(),\n",
    "    transforms.Normalize((0.1307,), (0.3081,))\n",
    "])\n",
    "\n",
    "trainset = datasets.MNIST(root='./data', train=True, download=True, transform=transform)\n",
    "testset = datasets.MNIST(root='./data', train=False, transform=transform)\n",
    "\n",
    "train_loader = DataLoader(trainset, 64, drop_last=True, shuffle=True)\n",
    "test_loader = DataLoader(testset, 64, drop_last=False, shuffle=True)"
   ],
   "metadata": {
    "collapsed": false,
    "ExecuteTime": {
     "end_time": "2024-05-10T08:05:13.643967600Z",
     "start_time": "2024-05-10T08:05:13.553885500Z"
    }
   },
   "id": "1a69eb5428d6c9b0"
  },
  {
   "cell_type": "code",
   "execution_count": 53,
   "outputs": [
    {
     "name": "stdout",
     "output_type": "stream",
     "text": [
      "torch.Size([64, 1, 28, 28])\n",
      "torch.Size([64, 4, 1, 14, 14])\n",
      "torch.Size([64, 4, 1, 14, 14])\n"
     ]
    }
   ],
   "source": [
    "image_batch, _ = next(iter(test_loader))\n",
    "\n",
    "# Chunk the images into 2 pieces\n",
    "num_pieces = 2\n",
    "\n",
    "# Select an image from the batch\n",
    "batch_idx = 0\n",
    "\n",
    "pieces, random_pieces, perm_list = batch_chunk_image(image_batch, num_pieces=num_pieces)\n",
    "pieces, random_pieces = pieces.to(device), random_pieces.to(device)"
   ],
   "metadata": {
    "collapsed": false,
    "ExecuteTime": {
     "end_time": "2024-05-10T08:57:23.877445100Z",
     "start_time": "2024-05-10T08:57:23.833803Z"
    }
   },
   "id": "8d1a869f05869dde"
  },
  {
   "cell_type": "code",
   "execution_count": 66,
   "outputs": [
    {
     "name": "stdout",
     "output_type": "stream",
     "text": [
      "torch.Size([64, 1, 28, 28])\n",
      "torch.Size([64, 4, 1, 14, 14])\n",
      "torch.Size([64, 4, 1, 14, 14])\n"
     ]
    }
   ],
   "source": [
    "# res1, res2 = model(random_pieces)\n",
    "# res1.shape, res2.shape\n",
    "\n",
    "print(image_batch.shape)\n",
    "print(pieces.shape)\n",
    "print(random_pieces.shape)\n",
    "\n",
    "model.train()\n",
    "res1, res2 = model(random_pieces)"
   ],
   "metadata": {
    "collapsed": false,
    "ExecuteTime": {
     "end_time": "2024-05-10T08:58:08.966675400Z",
     "start_time": "2024-05-10T08:58:08.949106300Z"
    }
   },
   "id": "7a5197c146d477b1"
  },
  {
   "cell_type": "code",
   "execution_count": 67,
   "outputs": [
    {
     "data": {
      "text/plain": "<Figure size 400x400 with 4 Axes>",
      "image/png": "[encoded data removed]"
     },
     "metadata": {},
     "output_type": "display_data"
    }
   ],
   "source": [
    "# Plot the original scrambed image.\n",
    "figs, axs = plt.subplots(num_pieces, num_pieces, figsize=(4, 4), sharex=True, sharey=True)\n",
    "for idx, piece in enumerate(random_pieces[batch_idx]):\n",
    "    axs[idx // num_pieces, idx % num_pieces].imshow(piece.cpu().squeeze())\n",
    "\n",
    "plt.subplots_adjust(wspace=0, hspace=0)\n",
    "plt.show()"
   ],
   "metadata": {
    "collapsed": false,
    "ExecuteTime": {
     "end_time": "2024-05-10T08:58:09.583838400Z",
     "start_time": "2024-05-10T08:58:09.409439500Z"
    }
   },
   "id": "cc722c5a8267fbce"
  },
  {
   "cell_type": "code",
   "execution_count": 21,
   "outputs": [],
   "source": [
    "tau = 0.1  # Temperature parameter.\n",
    "n_sink_iter = 20  # Number of iterations of Sinkhorn operator.\n",
    "\n",
    "num_pieces = 2  # Number of pieces each side.\n",
    "image_size = 28  # Original image size.\n",
    "\n",
    "in_channels = 1\n",
    "hidden_channels = 32\n",
    "kernel_size = 5\n",
    "\n",
    "epochs = 5\n",
    "learning_rate = 1e-4\n",
    "train = False  # Set this to false if you only want to evaluate the model"
   ],
   "metadata": {
    "collapsed": false,
    "ExecuteTime": {
     "end_time": "2024-05-10T08:05:14.114023Z",
     "start_time": "2024-05-10T08:05:14.103944400Z"
    }
   },
   "id": "43a0e9c61814af47"
  },
  {
   "cell_type": "code",
   "execution_count": 22,
   "outputs": [],
   "source": [
    "model = SinkhornConvNet(\n",
    "    in_channels=in_channels,\n",
    "    num_pieces=num_pieces,\n",
    "    image_size=image_size,\n",
    "    hidden_channels=hidden_channels,\n",
    "    kernel_size=kernel_size,\n",
    "    tau=tau,\n",
    "    n_sink_iter=n_sink_iter\n",
    ").to(device)\n",
    "\n",
    "optimizer = optim.Adam(model.parameters(), learning_rate, eps=1e-8)"
   ],
   "metadata": {
    "collapsed": false,
    "ExecuteTime": {
     "end_time": "2024-05-10T08:05:14.133877600Z",
     "start_time": "2024-05-10T08:05:14.114023Z"
    }
   },
   "id": "b6fcf47cd97467c3"
  },
  {
   "cell_type": "code",
   "execution_count": 23,
   "outputs": [],
   "source": [
    "if train:\n",
    "    model.train()\n",
    "    for epoch in range(epochs):\n",
    "        sum_loss = 0\n",
    "        for i, data in enumerate(train_loader):\n",
    "            inputs, _ = data\n",
    "\n",
    "            # Chunk the images into pieces\n",
    "            pieces, random_pieces, _ = batch_chunk_image(inputs, num_pieces)\n",
    "            pieces, random_pieces = pieces.to(device), random_pieces.to(device)\n",
    "\n",
    "            # Predict the ordering of the pieces using the Sinkhorn Network\n",
    "            # in: (batch, num_pieces**2, channels, height, width)\n",
    "            # out: (batch, num_pieces**2, channels, height, width)\n",
    "            ordered_pieces, _ = model(random_pieces)\n",
    "\n",
    "            # Apply MSE Loss\n",
    "            loss = torch.nn.functional.mse_loss(ordered_pieces, pieces, reduction='sum')\n",
    "\n",
    "            optimizer.zero_grad()\n",
    "            loss.backward()\n",
    "            optimizer.step()\n",
    "\n",
    "            sum_loss += loss.item()\n",
    "\n",
    "        print(f\"epoch {epoch}|  mean loss {round(sum_loss / len(train_loader.dataset), 4)}\")\n",
    "\n",
    "    if not os.path.exists('./saved_models/'):\n",
    "        os.mkdir('./saved_models')\n",
    "    torch.save(model.state_dict(), \"./saved_models/model.pth\")"
   ],
   "metadata": {
    "collapsed": false,
    "ExecuteTime": {
     "end_time": "2024-05-10T08:05:14.133877600Z",
     "start_time": "2024-05-10T08:05:14.124279800Z"
    }
   },
   "id": "bfc1d64d116c9bf"
  },
  {
   "cell_type": "code",
   "execution_count": 73,
   "outputs": [
    {
     "name": "stdout",
     "output_type": "stream",
     "text": [
      "Mean Kendall-Tau: 0.9930666666666667\n"
     ]
    }
   ],
   "source": [
    "# Scipy\n",
    "from scipy.stats import kendalltau\n",
    "\n",
    "model = SinkhornConvNet(\n",
    "    in_channels=in_channels,\n",
    "    num_pieces=num_pieces,\n",
    "    image_size=image_size,\n",
    "    hidden_channels=hidden_channels,\n",
    "    kernel_size=kernel_size,\n",
    "    tau=tau,\n",
    "    n_sink_iter=n_sink_iter\n",
    ").to(device)\n",
    "\n",
    "model.load_state_dict(torch.load(os.path.join(\"./saved_models/model.pth\")))\n",
    "model = model.to(device)\n",
    "model.eval()\n",
    "\n",
    "with torch.no_grad():\n",
    "    kendall_taus = []\n",
    "\n",
    "    for data in test_loader:\n",
    "        inputs, _ = data\n",
    "        pieces, random_pieces, perm_list = batch_chunk_image(inputs, num_pieces)\n",
    "        pieces, random_pieces = pieces.to(device), random_pieces.to(device)\n",
    "\n",
    "        ordered_pieces, predicted_permutation_matrices = model(random_pieces)\n",
    "\n",
    "        # Create the list of inverse permutation indices from the predicted\n",
    "        # permutation matrix.\n",
    "        predicted_perm_list = predicted_permutation_matrices.transpose(1, 2).max(1)[1]\n",
    "\n",
    "        # Obtain the Kendall-Tau correlation coefficient for the target\n",
    "        # and predicted list of permutation matrices.\n",
    "        for p1, p2 in zip(perm_list, predicted_perm_list):\n",
    "            kendall_taus.append(\n",
    "                kendalltau(p1.cpu(), p2.cpu())[0]\n",
    "            )\n",
    "\n",
    "    print(f\"Mean Kendall-Tau: {np.mean(kendall_taus)}\")"
   ],
   "metadata": {
    "collapsed": false,
    "ExecuteTime": {
     "end_time": "2024-05-10T09:37:56.823435500Z",
     "start_time": "2024-05-10T09:37:52.246032400Z"
    }
   },
   "id": "a78508fafdb23ba3"
  },
  {
   "cell_type": "code",
   "execution_count": 74,
   "outputs": [],
   "source": [
    "image_batch, _ = next(iter(test_loader))\n",
    "pieces, random_pieces, perm_list = batch_chunk_image(image_batch, num_pieces)\n",
    "pieces, random_pieces = pieces.to(device), random_pieces.to(device)\n",
    "\n",
    "# Make sure we are evaluating!\n",
    "model.eval()\n",
    "\n",
    "# Predict the correctly ordered pieces.\n",
    "predicted_pieces, _ = model(random_pieces)"
   ],
   "metadata": {
    "collapsed": false,
    "ExecuteTime": {
     "end_time": "2024-05-10T09:37:56.855394400Z",
     "start_time": "2024-05-10T09:37:56.823435500Z"
    }
   },
   "id": "5817a35f02bf5b6d"
  },
  {
   "cell_type": "code",
   "execution_count": 75,
   "outputs": [
    {
     "data": {
      "text/plain": "<Figure size 400x400 with 4 Axes>",
      "image/png": "[encoded data removed]"
     },
     "metadata": {},
     "output_type": "display_data"
    },
    {
     "data": {
      "text/plain": "<Figure size 400x400 with 4 Axes>",
      "image/png": "[encoded data removed]"
     },
     "metadata": {},
     "output_type": "display_data"
    }
   ],
   "source": [
    "# Select an image from the batch.\n",
    "batch_idx = 3\n",
    "\n",
    "# Plot the original scrambed image.\n",
    "figs, axs = plt.subplots(num_pieces, num_pieces, figsize=(4, 4), sharex=True, sharey=True)\n",
    "for idx, piece in enumerate(random_pieces[batch_idx]):\n",
    "    axs[idx // num_pieces, idx % num_pieces].imshow(piece.cpu().squeeze())\n",
    "plt.subplots_adjust(wspace=0, hspace=0)\n",
    "plt.show()\n",
    "\n",
    "# Plot the predicted reconstructed image.\n",
    "figs, axs = plt.subplots(num_pieces, num_pieces, figsize=(4, 4))\n",
    "for idx, piece in enumerate(predicted_pieces[batch_idx]):\n",
    "    axs[idx // num_pieces, idx % num_pieces].imshow(piece.cpu().squeeze())\n",
    "plt.subplots_adjust(wspace=0, hspace=0)\n",
    "plt.show()"
   ],
   "metadata": {
    "collapsed": false,
    "ExecuteTime": {
     "end_time": "2024-05-10T09:37:57.186257Z",
     "start_time": "2024-05-10T09:37:56.857524100Z"
    }
   },
   "id": "8cbfb58ef9c4afd6"
  },
  {
   "cell_type": "code",
   "execution_count": null,
   "outputs": [],
   "source": [],
   "metadata": {
    "collapsed": false
   },
   "id": "330850970afa8274"
  }
 ],
 "metadata": {
  "kernelspec": {
   "display_name": "Python 3",
   "language": "python",
   "name": "python3"
  },
  "language_info": {
   "codemirror_mode": {
    "name": "ipython",
    "version": 2
   },
   "file_extension": ".py",
   "mimetype": "text/x-python",
   "name": "python",
   "nbconvert_exporter": "python",
   "pygments_lexer": "ipython2",
   "version": "2.7.6"
  }
 },
 "nbformat": 4,
 "nbformat_minor": 5
}
