{
 "cells": [
  {
   "cell_type": "code",
   "execution_count": 157,
   "id": "initial_id",
   "metadata": {
    "collapsed": true,
    "ExecuteTime": {
     "end_time": "2024-05-21T11:31:39.004885600Z",
     "start_time": "2024-05-21T11:31:38.989083300Z"
    }
   },
   "outputs": [
    {
     "data": {
      "text/plain": "tensor([ 5.0418e-11, -2.9976e-25, -6.5479e-12])"
     },
     "execution_count": 157,
     "metadata": {},
     "output_type": "execute_result"
    }
   ],
   "source": [
    "import torch\n",
    "\n",
    "\n",
    "def sample_gumbel(shape, eps=1e-20):\n",
    "    u = torch.rand(shape)\n",
    "    return -torch.log(-torch.log(u + eps) + eps)\n",
    "\n",
    "\n",
    "def sample_categorical(probs, gumbel_samples):\n",
    "    return torch.argmax(gumbel_samples + torch.log(probs))\n",
    "    # return probs.sum() + gumbel_samples.sum()\n",
    "\n",
    "\n",
    "def sample_categorical_softmax(probs, gumbel_samples, tau=0.1):\n",
    "    return torch.softmax((torch.log(probs) + gumbel_samples) / tau, dim=0)\n",
    "\n",
    "\n",
    "# X = torch.rand((3), requires_grad=True)\n",
    "X = torch.tensor([0.1, 0.1, 0.77], requires_grad=True)\n",
    "gumbel_samples = sample_gumbel(X.shape)\n",
    "\n",
    "# (X * gumbel_samples).sum().backward() # works\n",
    "# sample_categorical(X, gumbel_samples).backward() # crash\n",
    "(sample_categorical_softmax(X, gumbel_samples)[0].backward()) # works! but tau needs to be relatively large to prevent vanishing gradient\n",
    "\n",
    "X.grad"
   ]
  },
  {
   "cell_type": "code",
   "execution_count": null,
   "outputs": [],
   "source": [],
   "metadata": {
    "collapsed": false
   },
   "id": "9e1abbb6c08a70d"
  }
 ],
 "metadata": {
  "kernelspec": {
   "display_name": "Python 3",
   "language": "python",
   "name": "python3"
  },
  "language_info": {
   "codemirror_mode": {
    "name": "ipython",
    "version": 2
   },
   "file_extension": ".py",
   "mimetype": "text/x-python",
   "name": "python",
   "nbconvert_exporter": "python",
   "pygments_lexer": "ipython2",
   "version": "2.7.6"
  }
 },
 "nbformat": 4,
 "nbformat_minor": 5
}
