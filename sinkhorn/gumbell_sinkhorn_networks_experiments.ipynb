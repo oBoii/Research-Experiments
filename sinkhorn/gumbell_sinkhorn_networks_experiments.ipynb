{
 "cells": [
  {
   "cell_type": "code",
   "execution_count": 23,
   "id": "initial_id",
   "metadata": {
    "collapsed": true,
    "ExecuteTime": {
     "end_time": "2024-05-18T11:00:00.026000700Z",
     "start_time": "2024-05-18T11:00:00.016385Z"
    }
   },
   "outputs": [],
   "source": [
    "import os\n",
    "import numpy as np\n",
    "import datetime\n",
    "\n",
    "## Imports for plotting\n",
    "import matplotlib.pyplot as plt\n",
    "import matplotlib\n",
    "\n",
    "## PyTorch\n",
    "import torch\n",
    "import torch.nn as nn\n",
    "from torch.utils.data import DataLoader\n",
    "\n",
    "## Torchvision\n",
    "from torchvision import datasets, transforms\n",
    "\n",
    "import pytorch_lightning as pl\n",
    "import wandb\n",
    "from pytorch_lightning.loggers import WandbLogger\n",
    "\n",
    "from scipy.optimize import linear_sum_assignment\n",
    "from scipy.sparse import coo_matrix\n",
    "\n",
    "import random\n",
    "import gzip\n",
    "import shutil\n",
    "from scipy.ndimage import shift\n",
    "\n",
    "torch.set_float32_matmul_precision('medium')\n",
    "device = torch.device(\"cuda:0\") if torch.cuda.is_available() else torch.device(\"cpu\")\n"
   ]
  },
  {
   "cell_type": "code",
   "execution_count": 24,
   "outputs": [],
   "source": [
    "h = {  # hyperparameters\n",
    "    'dataset': 'MNIST_SHIFT',  #'MNIST',\n",
    "    'in_channels': 1,\n",
    "    'num_pieces': 8,\n",
    "    'image_size': 28,\n",
    "    'hidden_channels': 32,\n",
    "    'kernel_size': 5,\n",
    "    'tau': 0.1,\n",
    "    'n_sink_iter': 20,\n",
    "    'epochs': 5,\n",
    "    'learning_rate': 1e-4,\n",
    "    'checkpoint_path': './saved_models',\n",
    "    'dataset_path': '../data',\n",
    "    'batch_size': 64,\n",
    "    'dataset_percent': 0.1  # 1.0 is full dataset\n",
    "}\n",
    "train = True  # Set this to false if you only want to evaluate the model\n",
    "use_wandb = True"
   ],
   "metadata": {
    "collapsed": false,
    "ExecuteTime": {
     "end_time": "2024-05-18T11:00:00.071903600Z",
     "start_time": "2024-05-18T11:00:00.026000700Z"
    }
   },
   "id": "2872261e06ec0e70"
  },
  {
   "cell_type": "code",
   "execution_count": 25,
   "outputs": [],
   "source": [
    "def log_sinkhorn(log_alpha, n_iter):\n",
    "    \"\"\"Performs incomplete Sinkhorn normalization to log_alpha.\n",
    "    By a theorem by Sinkhorn and Knopp [1], a sufficiently well-behaved  matrix\n",
    "    with positive entries can be turned into a doubly-stochastic matrix\n",
    "    (i.e. its rows and columns add up to one) via the successive row and column\n",
    "    normalization.\n",
    "\n",
    "    [1] Sinkhorn, Richard and Knopp, Paul.\n",
    "    Concerning nonnegative matrices and doubly stochastic\n",
    "    matrices. Pacific Journal of Mathematics, 1967\n",
    "    Args:\n",
    "      log_alpha: 2D tensor (a matrix of shape [N, N])\n",
    "        or 3D tensor (a batch of matrices of shape = [batch_size, N, N])\n",
    "      n_iters: number of sinkhorn iterations (in practice, as little as 20\n",
    "        iterations are needed to achieve decent convergence for N~100)\n",
    "    Returns:\n",
    "      A 3D tensor of close-to-doubly-stochastic matrices (2D tensors are\n",
    "        converted to 3D tensors with batch_size equals to 1)\n",
    "    \"\"\"\n",
    "    for _ in range(n_iter):\n",
    "        log_alpha = log_alpha - torch.logsumexp(log_alpha, -1, keepdim=True)\n",
    "        log_alpha = log_alpha - torch.logsumexp(log_alpha, -2, keepdim=True)\n",
    "    return log_alpha.exp()\n",
    "\n",
    "\n",
    "def matching(alpha):\n",
    "    # Negate the probability matrix to serve as cost matrix. This function\n",
    "    # yields two lists, the row and colum indices for all entries in the\n",
    "    # permutation matrix we should set to 1.\n",
    "    row, col = linear_sum_assignment(-alpha)\n",
    "\n",
    "    # Create the permutation matrix.\n",
    "    permutation_matrix = coo_matrix((np.ones_like(row), (row, col))).toarray()\n",
    "    return torch.from_numpy(permutation_matrix)\n",
    "\n",
    "\n",
    "def sample_gumbel(shape, device='cpu', eps=1e-20):\n",
    "    \"\"\"Samples arbitrary-shaped standard gumbel variables.\n",
    "    Args:\n",
    "      shape: list of integers\n",
    "      eps: float, for numerical stability\n",
    "    Returns:\n",
    "      A sample of standard Gumbel random variables\n",
    "    \"\"\"\n",
    "    u = torch.rand(shape, device=device)\n",
    "    return -torch.log(-torch.log(u + eps) + eps)\n",
    "\n",
    "\n",
    "def gumbel_sinkhorn(log_alpha, tau, n_iter):\n",
    "    \"\"\" Sample a permutation matrix from the Gumbel-Sinkhorn distribution\n",
    "    with parameters given by log_alpha and temperature tau.\n",
    "\n",
    "    Args:\n",
    "      log_alpha: Logarithm of assignment probabilities. In our case this is\n",
    "        of dimensionality [num_pieces, num_pieces].\n",
    "      tau: Temperature parameter, the lower the value for tau the more closely\n",
    "        we follow a categorical sampling.\n",
    "    \"\"\"\n",
    "    # Sample Gumbel noise.\n",
    "    gumbel_noise = sample_gumbel(log_alpha.shape, device=log_alpha.device)\n",
    "\n",
    "    # Apply the Sinkhorn operator!\n",
    "    sampled_perm_mat = log_sinkhorn((log_alpha + gumbel_noise) / tau, n_iter)\n",
    "    return sampled_perm_mat"
   ],
   "metadata": {
    "collapsed": false,
    "ExecuteTime": {
     "end_time": "2024-05-18T11:00:00.071903600Z",
     "start_time": "2024-05-18T11:00:00.046359600Z"
    }
   },
   "id": "caaa9de4da4da98d"
  },
  {
   "cell_type": "code",
   "execution_count": 26,
   "outputs": [
    {
     "data": {
      "text/plain": "True"
     },
     "execution_count": 26,
     "metadata": {},
     "output_type": "execute_result"
    }
   ],
   "source": [
    "def chunk_image(image: torch.Tensor, num_pieces: int):\n",
    "    \"\"\"Randomly chunk a single image.\n",
    "    Args:\n",
    "      image: Image [channels, height, width].\n",
    "\n",
    "    Returns:\n",
    "      pieces: Image chunks in their original positions. [num_pieces, channels,\n",
    "        height // num_pieces, width // num_pieces]\n",
    "      random_pieces: Image chunks in their randomly permuted positions.\n",
    "      permute_index: List of permuted indices.\n",
    "    \"\"\"\n",
    "    # Get image dimensions.\n",
    "    height, width = image.shape[-2:]\n",
    "\n",
    "    # Get piece dimensions.\n",
    "    piece_height = height // num_pieces\n",
    "    piece_width = width // num_pieces\n",
    "    pieces = []\n",
    "\n",
    "    # Obtain indices for each of the image chunks.\n",
    "    for p_h in range(num_pieces):\n",
    "        for p_w in range(num_pieces):\n",
    "            left = p_w * piece_width\n",
    "            right = left + piece_width\n",
    "            top = p_h * piece_height\n",
    "            bottom = top + piece_height\n",
    "            piece = image[:, top:bottom, left:right]\n",
    "            pieces.append(piece)\n",
    "\n",
    "    pieces = torch.stack(pieces, 0)\n",
    "\n",
    "    # Randomly permute the index of the pieces.\n",
    "    permute_index = torch.randperm(num_pieces ** 2)\n",
    "    random_pieces = pieces[permute_index]\n",
    "    return pieces, random_pieces, permute_index\n",
    "\n",
    "\n",
    "def batch_chunk_image(images: torch.Tensor, num_pieces: int):\n",
    "    \"\"\"Randomly chunk a batch of images.\n",
    "    Args:\n",
    "      image: Images [batch, channels, height, width].\n",
    "\n",
    "    Returns:\n",
    "      pieces: Batch of image chunks in their original positions. [batch,\n",
    "        num_pieces, channels, height // num_pieces, width // num_pieces]\n",
    "      random_pieces: Batch of image chunks in their randomly permuted positions.\n",
    "         [batch, num_pieces, channels, height // num_pieces, width // num_pieces]\n",
    "      permute_index: Batch of permutation lists. [batch, num_pieces**2]\n",
    "    \"\"\"\n",
    "    batch_pieces, batch_random_pieces, batch_permute_index = [], [], []\n",
    "    for image in images:\n",
    "        pieces, random_pieces, permute_index = chunk_image(image, num_pieces)\n",
    "\n",
    "        batch_pieces.append(pieces)\n",
    "        batch_random_pieces.append(random_pieces)\n",
    "        batch_permute_index.append(permute_index)\n",
    "    return torch.stack(batch_pieces, 0), torch.stack(batch_random_pieces, 0), torch.stack(batch_permute_index, 0)\n",
    "\n",
    "\n",
    "def inverse_permutation_for_image(X, permutation_matrix):\n",
    "    # temp, make `permutation_matrix` transposed\n",
    "    # permutation_matrix = permutation_matrix.transpose(1, 2)\n",
    "\n",
    "    \"\"\"Apply the inverse of a permutation (its transpose) to a batch of image\n",
    "       chunks.\n",
    "    Args:\n",
    "      X: Batched sets of image chunks. [batch, num_pieces, channels, height, width]\n",
    "      permutation_matrix: float, for numerical stability\n",
    "\n",
    "    Returns:\n",
    "      Permuted set of image chunks.\n",
    "    \"\"\"\n",
    "    return torch.einsum(\"bpq,bpchw->bqchw\", (permutation_matrix, X)).contiguous()\n",
    "\n",
    "\n",
    "# Example of `inverse_permutation_for_image`\n",
    "X = torch.rand((64, 4, 1, 14, 14))\n",
    "permutation_matrix = torch.rand((64, 4, 4))\n",
    "first1 = inverse_permutation_for_image(X, permutation_matrix)[0]  # (4, 1, 14, 14)\n",
    "first1 = first1.flatten()  # (1, 784)\n",
    "\n",
    "X_first = X[0]  # (4, 1, 14, 14)\n",
    "X_first = X_first.flatten(start_dim=1)  # (4, 196)\n",
    "\n",
    "permutation_matrix_first = permutation_matrix[0]  # (4, 4)\n",
    "permutation_matrix_first = permutation_matrix_first.T  # (4, 4)\n",
    "X_first_permuted = torch.mm(permutation_matrix_first, X_first)  # (4, 196)\n",
    "\n",
    "X_first_permuted = X_first_permuted.reshape(4, 1, 14, 14)  # (4, 1, 14, 14)\n",
    "X_first_permuted = X_first_permuted.flatten()  # (1, 784)\n",
    "\n",
    "# e.g.: P^T*X = \\tilde{X}, with row(X) = all pixels of a single piece\n",
    "torch.allclose(first1, X_first_permuted)"
   ],
   "metadata": {
    "collapsed": false,
    "ExecuteTime": {
     "end_time": "2024-05-18T11:00:00.075910300Z",
     "start_time": "2024-05-18T11:00:00.057836900Z"
    }
   },
   "id": "5bcb9f99ea136d5f"
  },
  {
   "cell_type": "code",
   "execution_count": 27,
   "outputs": [
    {
     "data": {
      "text/plain": "(torch.Size([64, 4, 1, 14, 14]), torch.Size([64, 4, 4]))"
     },
     "execution_count": 27,
     "metadata": {},
     "output_type": "execute_result"
    }
   ],
   "source": [
    "class SinkhornConvNet(pl.LightningModule):\n",
    "    def __init__(self, in_channels, num_pieces, image_size, hidden_channels, kernel_size, tau=1.0, n_sink_iter=20):\n",
    "        super().__init__()\n",
    "\n",
    "        # store these for later use.\n",
    "        self.tau = tau\n",
    "        self.n_sink_iter = n_sink_iter\n",
    "        self.num_pieces = num_pieces\n",
    "\n",
    "        self.g_1 = nn.Sequential(\n",
    "            nn.Conv2d(in_channels, hidden_channels, kernel_size, padding=kernel_size // 2),\n",
    "            nn.MaxPool2d(2),\n",
    "            nn.ReLU(True),\n",
    "            nn.BatchNorm2d(hidden_channels)\n",
    "        )\n",
    "\n",
    "        # calculate the size of a single piece in pixels\n",
    "        piece_size = image_size // num_pieces\n",
    "\n",
    "        # calculate the size of a single piece in pixels after 1 max pooling\n",
    "        piece_size_after_conv = (piece_size) // (2 * 1)\n",
    "\n",
    "        self.g_2 = nn.Linear(piece_size_after_conv ** 2 * hidden_channels, num_pieces ** 2, bias=False)\n",
    "\n",
    "    def forward(self, batch_pieces):\n",
    "        # in: (64, 4, 1, 14, 14): 4 pieces of 14x14 images\n",
    "        # out: (64, 4, 1, 14, 14), (64, 4, 4): 4 pieces of 14x14 images and permutation matrices\n",
    "        batch_size = batch_pieces.shape[0]\n",
    "\n",
    "        # Switch batch and piece dimensions. We want to apply the same network to each of the pieces.\n",
    "        pieces = batch_pieces.transpose(0, 1).contiguous()  # (4, 64, 1, 14, 14)\n",
    "\n",
    "        # Apply g_1 to each of the pieces.\n",
    "        conv_pieces = []\n",
    "        for piece in pieces:\n",
    "            piece = self.g_1(piece)\n",
    "            conv_piece = piece.reshape(batch_size, -1)\n",
    "            conv_pieces.append(conv_piece)\n",
    "\n",
    "        # Apply g_2 to each of the pieces.\n",
    "        latent_pieces = []\n",
    "        for piece in conv_pieces:\n",
    "            latent_piece = self.g_2(piece)\n",
    "            latent_pieces.append(latent_piece)\n",
    "\n",
    "        # Create a matrix of log unnormalized assignment probabilities. After this\n",
    "        # the batch dimension is batch in the first position.\n",
    "        log_alphas = torch.stack(latent_pieces, 1)  # (64, 4, 4)\n",
    "\n",
    "        # During training, we sample from the Gumbel-Sinkhorn distribution.\n",
    "        if self.training:\n",
    "            permutation_matrices = gumbel_sinkhorn(log_alphas, tau=self.tau, n_iter=self.n_sink_iter)\n",
    "\n",
    "        # During eval, we solve the linear assignment problem.\n",
    "        else:\n",
    "            permutation_matrices = torch.stack([\n",
    "                matching(log_alpha)\n",
    "                for log_alpha in log_alphas.cpu().detach().numpy()]\n",
    "            ).float().to(log_alphas.device)\n",
    "\n",
    "        # We obtain the ordered pieces as predicted by our network\n",
    "        ordered_pieces = inverse_permutation_for_image(batch_pieces, permutation_matrices)\n",
    "\n",
    "        # Return the ordered pieces, along with the predicted permutation.\n",
    "        # We will inspect the predicted permutation matrices during test time.\n",
    "        return ordered_pieces, permutation_matrices\n",
    "\n",
    "    def training_step(self, batch, batch_idx):\n",
    "        inputs, _ = batch\n",
    "        pieces, random_pieces, _ = batch_chunk_image(inputs, self.num_pieces)\n",
    "        pieces, random_pieces = pieces.to(self.device), random_pieces.to(self.device)\n",
    "        ordered_pieces, _ = self(random_pieces)\n",
    "        loss = torch.nn.functional.mse_loss(ordered_pieces, pieces, reduction='sum')\n",
    "        self.log('train_loss', loss)\n",
    "        return loss\n",
    "    \n",
    "    def validation_step(self, batch, batch_idx):\n",
    "        inputs, _ = batch\n",
    "        pieces, random_pieces, _ = batch_chunk_image(inputs, self.num_pieces)\n",
    "        pieces, random_pieces = pieces.to(self.device), random_pieces.to(self.device)\n",
    "        ordered_pieces, _ = self(random_pieces)\n",
    "        loss = torch.nn.functional.mse_loss(ordered_pieces, pieces, reduction='sum')\n",
    "        self.log('val_loss', loss)\n",
    "        return loss\n",
    "\n",
    "    def configure_optimizers(self):\n",
    "        return torch.optim.Adam(self.parameters(), lr=1e-4, eps=1e-8)\n",
    "\n",
    "\n",
    "# # Example usage\n",
    "model = SinkhornConvNet(\n",
    "    in_channels=1, num_pieces=2, image_size=28, hidden_channels=32, kernel_size=5, tau=0.1, n_sink_iter=20)\n",
    "\n",
    "random_pieces = torch.rand((64, 4, 1, 14, 14))\n",
    "res1, res2 = model(random_pieces)\n",
    "res1.shape, res2.shape"
   ],
   "metadata": {
    "collapsed": false,
    "ExecuteTime": {
     "end_time": "2024-05-18T11:00:00.152374Z",
     "start_time": "2024-05-18T11:00:00.075910300Z"
    }
   },
   "id": "140f1eaf4a294ae7"
  },
  {
   "cell_type": "code",
   "execution_count": 28,
   "outputs": [],
   "source": [
    "class MNIST_SHIFT(datasets.MNIST):\n",
    "    # MNIST will look at dir classname\n",
    "    def download(self) -> None:\n",
    "        if self._check_exists():\n",
    "            return\n",
    "        print('Downloading MNIST_SHIFT')\n",
    "\n",
    "        self.shift_mnist()\n",
    "\n",
    "    def shift_mnist(self):\n",
    "        # Directory for the shifted dataset\n",
    "        shifted_dir = f'{self.root}/{self.__class__.__name__}/raw'\n",
    "        os.makedirs(shifted_dir, exist_ok=True)\n",
    "\n",
    "        # Define the transform and load the original MNIST dataset\n",
    "        transform = transforms.Compose([\n",
    "            transforms.ToTensor(),\n",
    "        ])\n",
    "\n",
    "        trainset = datasets.MNIST(root=self.root, train=True, download=True, transform=transform)\n",
    "        testset = datasets.MNIST(root=self.root, train=False, transform=transform)\n",
    "\n",
    "        train_loader = DataLoader(trainset, batch_size=len(trainset), drop_last=True, shuffle=False)\n",
    "        test_loader = DataLoader(testset, batch_size=len(testset), drop_last=False, shuffle=False)\n",
    "\n",
    "        # Create the shifted training and test datasets\n",
    "        MNIST_SHIFT.create_shifted_dataset(\n",
    "            train_loader,\n",
    "            os.path.join(shifted_dir, 'train-images-idx3-ubyte'),\n",
    "            os.path.join(shifted_dir, 'train-labels-idx1-ubyte'))\n",
    "        MNIST_SHIFT.create_shifted_dataset(\n",
    "            test_loader,\n",
    "            os.path.join(shifted_dir, 't10k-images-idx3-ubyte'),\n",
    "            os.path.join(shifted_dir, 't10k-labels-idx1-ubyte'))\n",
    "\n",
    "        MNIST_SHIFT.compress_file(os.path.join(shifted_dir, 'train-images-idx3-ubyte'))\n",
    "        MNIST_SHIFT.compress_file(os.path.join(shifted_dir, 'train-labels-idx1-ubyte'))\n",
    "        MNIST_SHIFT.compress_file(os.path.join(shifted_dir, 't10k-images-idx3-ubyte'))\n",
    "        MNIST_SHIFT.compress_file(os.path.join(shifted_dir, 't10k-labels-idx1-ubyte'))\n",
    "\n",
    "    @staticmethod\n",
    "    def shift_image(image, shift_x, shift_y):\n",
    "        image_np = image.numpy()\n",
    "        shifted_image = shift(image_np, [shift_y, shift_x], mode='constant', cval=0)\n",
    "        return torch.tensor(shifted_image)\n",
    "\n",
    "    @staticmethod\n",
    "    def create_shifted_dataset(loader, output_images_file, output_labels_file):\n",
    "        images = []\n",
    "        labels = []\n",
    "        max_shift = 28 // 3  # = 9\n",
    "\n",
    "        for data, target in loader:\n",
    "            for i in range(data.shape[0]):\n",
    "                shift_x = random.randint(-max_shift, max_shift)\n",
    "                shift_y = random.randint(-max_shift, max_shift)\n",
    "                shifted_img = MNIST_SHIFT.shift_image(data[i, 0], shift_x, shift_y)\n",
    "                temp = shifted_img.numpy().reshape(28, 28)\n",
    "                # Scale the image back to the range [0, 255]\n",
    "                temp = temp * 255\n",
    "                images.append(temp.flatten())\n",
    "                labels.append(target[i].item())\n",
    "\n",
    "        images = np.array(images, dtype=np.uint8)\n",
    "        labels = np.array(labels, dtype=np.uint8)\n",
    "\n",
    "        # Save the images\n",
    "        with open(output_images_file, 'wb') as img_file:\n",
    "            img_file.write(b'\\x00\\x00\\x08\\x03')\n",
    "            img_file.write(len(images).to_bytes(4, byteorder='big'))\n",
    "            img_file.write((28).to_bytes(4, byteorder='big'))\n",
    "            img_file.write((28).to_bytes(4, byteorder='big'))\n",
    "            img_file.write(images.tobytes())\n",
    "\n",
    "        # Save the labels\n",
    "        with open(output_labels_file, 'wb') as lbl_file:\n",
    "            lbl_file.write(b'\\x00\\x00\\x08\\x01')\n",
    "            lbl_file.write(len(labels).to_bytes(4, byteorder='big'))\n",
    "            lbl_file.write(labels.tobytes())\n",
    "\n",
    "    @staticmethod\n",
    "    def compress_file(file_path):  # Optionally, compress the files \n",
    "        with open(file_path, 'rb') as f_in:\n",
    "            with gzip.open(file_path + '.gz', 'wb') as f_out:\n",
    "                shutil.copyfileobj(f_in, f_out)"
   ],
   "metadata": {
    "collapsed": false,
    "ExecuteTime": {
     "end_time": "2024-05-18T11:00:00.161890100Z",
     "start_time": "2024-05-18T11:00:00.114147800Z"
    }
   },
   "id": "8eb6d5226a5f635"
  },
  {
   "cell_type": "code",
   "execution_count": 29,
   "outputs": [],
   "source": [
    "device = torch.device('cuda')\n",
    "\n",
    "transform = transforms.Compose([\n",
    "    transforms.ToTensor(),\n",
    "    transforms.Normalize((0.1307,), (0.3081,))\n",
    "])\n",
    "\n",
    "if h['dataset'] == 'MNIST':\n",
    "    trainset = datasets.MNIST(root='../data', train=True, download=True, transform=transform)\n",
    "    testset = datasets.MNIST(root='../data', train=False, transform=transform)\n",
    "elif h['dataset'] == 'MNIST_SHIFT':\n",
    "    trainset = MNIST_SHIFT(root='../data', train=True, download=True, transform=transform)\n",
    "    testset = MNIST_SHIFT(root='../data', train=False, transform=transform)\n",
    "else:\n",
    "    raise ValueError(f\"Unknown dataset: {h['dataset']}\")\n",
    "\n",
    "train_loader = DataLoader(trainset, h['batch_size'], drop_last=True, shuffle=True)\n",
    "test_loader = DataLoader(testset, h['batch_size'], drop_last=False, shuffle=True)"
   ],
   "metadata": {
    "collapsed": false,
    "ExecuteTime": {
     "end_time": "2024-05-18T11:00:00.219911300Z",
     "start_time": "2024-05-18T11:00:00.123656300Z"
    }
   },
   "id": "39e7deae86e70d1d"
  },
  {
   "cell_type": "code",
   "execution_count": 30,
   "outputs": [
    {
     "data": {
      "text/plain": "<Figure size 400x400 with 16 Axes>",
      "image/png": "[encoded data removed]"
     },
     "metadata": {},
     "output_type": "display_data"
    }
   ],
   "source": [
    "# Display a few images\n",
    "images, labels = next(iter(train_loader))\n",
    "first_img = images[0].squeeze()\n",
    "fig, axs = plt.subplots(4, 4, figsize=(4, 4), sharex=True, sharey=True)\n",
    "for i in range(16):\n",
    "    axs[i // 4, i % 4].imshow(images[i].squeeze(), cmap='gray')\n",
    "    axs[i // 4, i % 4].set_title(labels[i].item())\n",
    "    axs[i // 4, i % 4].axis('off')\n",
    "plt.show()"
   ],
   "metadata": {
    "collapsed": false,
    "ExecuteTime": {
     "end_time": "2024-05-18T11:00:00.699885700Z",
     "start_time": "2024-05-18T11:00:00.219911300Z"
    }
   },
   "id": "f984d4fbc7b6bcd5"
  },
  {
   "cell_type": "code",
   "execution_count": 31,
   "outputs": [],
   "source": [
    "class CustomCallbacks(pl.Callback):\n",
    "    def __init__(self, plot_every_n_epoch, num_pieces, wandb_logger: WandbLogger):\n",
    "        super().__init__()\n",
    "        self.plot_every_n_epoch = plot_every_n_epoch\n",
    "        self.num_pieces = num_pieces\n",
    "        self.wandb_logger = wandb_logger\n",
    "\n",
    "    def assemble_image(self, pieces):\n",
    "        # pieces: [num_pieces, channels, height // num_pieces, width // num_pieces]\n",
    "        num_pieces, channels, piece_height, piece_width = pieces.shape\n",
    "        num_pieces_side = int(num_pieces ** 0.5)\n",
    "\n",
    "        # Reshape to [num_pieces_side, num_pieces_side, channels, piece_height, piece_width]\n",
    "        pieces = pieces.view(num_pieces_side, num_pieces_side, channels, piece_height, piece_width)\n",
    "\n",
    "        # Permute to [channels, num_pieces_side, piece_height, num_pieces_side, piece_width]\n",
    "        pieces = pieces.permute(2, 0, 3, 1, 4)\n",
    "\n",
    "        # Reshape to [channels, height, width]\n",
    "        image = pieces.contiguous().view(channels, num_pieces_side * piece_height, num_pieces_side * piece_width)\n",
    "\n",
    "        return image\n",
    "\n",
    "    def log_images(self, trainer, pl_module, loader, prefix):\n",
    "        if (trainer.current_epoch % self.plot_every_n_epoch == 0) or (trainer.current_epoch == h['epochs'] - 1):\n",
    "            pl_module.eval()\n",
    "            image_batch, label_batch = next(iter(loader))\n",
    "            pieces, random_pieces, _ = batch_chunk_image(image_batch, self.num_pieces)\n",
    "            pieces, random_pieces = pieces.to(pl_module.device), random_pieces.to(pl_module.device)\n",
    "\n",
    "            ordered_pieces, permutation_matrices = pl_module(random_pieces)\n",
    "            # Assemble the pieces into a single image before logging\n",
    "            nb_ims = min(ordered_pieces.shape[0], 10)\n",
    "            for i in range(nb_ims):\n",
    "                initial_image = self.assemble_image(random_pieces[i])\n",
    "                ordered_image = self.assemble_image(ordered_pieces[i])\n",
    "                ground_truth_image = self.assemble_image(pieces[i])\n",
    "\n",
    "                # log to wandb\n",
    "                self.wandb_logger.experiment.log(\n",
    "                    {f\"{prefix}_predicted_image/img_{i}\": wandb.Image(ordered_image.cpu().squeeze(),\n",
    "                                                                      caption=f\"Label {label_batch[i]}\"),\n",
    "                     f\"{prefix}_ground_truth/img_{i}\": wandb.Image(ground_truth_image.cpu().squeeze(),\n",
    "                                                                   caption=f\"Label {label_batch[i]}\"),\n",
    "                     f\"{prefix}_input/img_{i}\": wandb.Image(initial_image.cpu().squeeze(),\n",
    "                                                            caption=f\"Label {label_batch[i]}\")},\n",
    "                    step=trainer.global_step)\n",
    "\n",
    "            pl_module.train()\n",
    "\n",
    "    def on_train_epoch_end(self, trainer: pl.Trainer, pl_module: SinkhornConvNet):\n",
    "        self.log_images(trainer, pl_module, train_loader, \"TRAIN\")\n",
    "\n",
    "    def on_validation_epoch_end(self, trainer: pl.Trainer, pl_module: SinkhornConvNet):\n",
    "        self.log_images(trainer, pl_module, test_loader, \"TEST\")\n",
    "\n",
    "    def on_train_end(self, trainer, pl_module):\n",
    "        pass"
   ],
   "metadata": {
    "collapsed": false,
    "ExecuteTime": {
     "end_time": "2024-05-18T11:00:00.716009900Z",
     "start_time": "2024-05-18T11:00:00.705891500Z"
    }
   },
   "id": "72ca7ac9073ef3ea"
  },
  {
   "cell_type": "code",
   "execution_count": 32,
   "outputs": [
    {
     "data": {
      "text/plain": "<IPython.core.display.HTML object>",
      "text/html": "Tracking run with wandb version 0.17.0"
     },
     "metadata": {},
     "output_type": "display_data"
    },
    {
     "data": {
      "text/plain": "<IPython.core.display.HTML object>",
      "text/html": "Run data is saved locally in <code>C:\\GitHub\\Research-Experiments\\sinkhorn\\wandb\\run-20240518_130000-350o9px2</code>"
     },
     "metadata": {},
     "output_type": "display_data"
    },
    {
     "data": {
      "text/plain": "<IPython.core.display.HTML object>",
      "text/html": "Syncing run <strong><a href='https://wandb.ai/oboii/sinkhorn_netw/runs/350o9px2' target=\"_blank\">MNIST_SHIFT_8_pieces_20240518-130000</a></strong> to <a href='https://wandb.ai/oboii/sinkhorn_netw' target=\"_blank\">Weights & Biases</a> (<a href='https://wandb.me/run' target=\"_blank\">docs</a>)<br/>"
     },
     "metadata": {},
     "output_type": "display_data"
    },
    {
     "data": {
      "text/plain": "<IPython.core.display.HTML object>",
      "text/html": " View project at <a href='https://wandb.ai/oboii/sinkhorn_netw' target=\"_blank\">https://wandb.ai/oboii/sinkhorn_netw</a>"
     },
     "metadata": {},
     "output_type": "display_data"
    },
    {
     "data": {
      "text/plain": "<IPython.core.display.HTML object>",
      "text/html": " View run at <a href='https://wandb.ai/oboii/sinkhorn_netw/runs/350o9px2' target=\"_blank\">https://wandb.ai/oboii/sinkhorn_netw/runs/350o9px2</a>"
     },
     "metadata": {},
     "output_type": "display_data"
    },
    {
     "name": "stderr",
     "output_type": "stream",
     "text": [
      "GPU available: True (cuda), used: True\n",
      "TPU available: False, using: 0 TPU cores\n",
      "IPU available: False, using: 0 IPUs\n",
      "HPU available: False, using: 0 HPUs\n",
      "LOCAL_RANK: 0 - CUDA_VISIBLE_DEVICES: [0]\n",
      "\n",
      "  | Name | Type       | Params\n",
      "------------------------------------\n",
      "0 | g_1  | Sequential | 896   \n",
      "1 | g_2  | Linear     | 2.0 K \n",
      "------------------------------------\n",
      "2.9 K     Trainable params\n",
      "0         Non-trainable params\n",
      "2.9 K     Total params\n",
      "0.012     Total estimated model params size (MB)\n"
     ]
    },
    {
     "data": {
      "text/plain": "Sanity Checking: |          | 0/? [00:00<?, ?it/s]",
      "application/vnd.jupyter.widget-view+json": {
       "version_major": 2,
       "version_minor": 0,
       "model_id": "9aa5fb50e17d401cb0b719bb9b6211b3"
      }
     },
     "metadata": {},
     "output_type": "display_data"
    },
    {
     "data": {
      "text/plain": "Training: |          | 0/? [00:00<?, ?it/s]",
      "application/vnd.jupyter.widget-view+json": {
       "version_major": 2,
       "version_minor": 0,
       "model_id": "43cab38c1e574b11af0772849569b833"
      }
     },
     "metadata": {},
     "output_type": "display_data"
    },
    {
     "data": {
      "text/plain": "Validation: |          | 0/? [00:00<?, ?it/s]",
      "application/vnd.jupyter.widget-view+json": {
       "version_major": 2,
       "version_minor": 0,
       "model_id": "19a2333d2c0d45a0a67fedee6782a7a8"
      }
     },
     "metadata": {},
     "output_type": "display_data"
    },
    {
     "data": {
      "text/plain": "Validation: |          | 0/? [00:00<?, ?it/s]",
      "application/vnd.jupyter.widget-view+json": {
       "version_major": 2,
       "version_minor": 0,
       "model_id": "0c129a2530f54a85815bbb593c9ca5eb"
      }
     },
     "metadata": {},
     "output_type": "display_data"
    },
    {
     "data": {
      "text/plain": "Validation: |          | 0/? [00:00<?, ?it/s]",
      "application/vnd.jupyter.widget-view+json": {
       "version_major": 2,
       "version_minor": 0,
       "model_id": "f1eab6b838cd41ec83553e57c5844c29"
      }
     },
     "metadata": {},
     "output_type": "display_data"
    },
    {
     "data": {
      "text/plain": "Validation: |          | 0/? [00:00<?, ?it/s]",
      "application/vnd.jupyter.widget-view+json": {
       "version_major": 2,
       "version_minor": 0,
       "model_id": "e24bac9dd43b494eba3de184813cf380"
      }
     },
     "metadata": {},
     "output_type": "display_data"
    },
    {
     "data": {
      "text/plain": "Validation: |          | 0/? [00:00<?, ?it/s]",
      "application/vnd.jupyter.widget-view+json": {
       "version_major": 2,
       "version_minor": 0,
       "model_id": "7c10a0d3d05040b1a81cfe1fda665ac4"
      }
     },
     "metadata": {},
     "output_type": "display_data"
    },
    {
     "name": "stderr",
     "output_type": "stream",
     "text": [
      "`Trainer.fit` stopped: `max_epochs=5` reached.\n"
     ]
    },
    {
     "data": {
      "text/plain": "VBox(children=(Label(value='0.166 MB of 0.180 MB uploaded (0.005 MB deduped)\\r'), FloatProgress(value=0.919981…",
      "application/vnd.jupyter.widget-view+json": {
       "version_major": 2,
       "version_minor": 0,
       "model_id": "bd04b188ff424d76ad0de7877a7608fd"
      }
     },
     "metadata": {},
     "output_type": "display_data"
    },
    {
     "data": {
      "text/plain": "<IPython.core.display.HTML object>",
      "text/html": "W&B sync reduced upload amount by 2.5%             "
     },
     "metadata": {},
     "output_type": "display_data"
    },
    {
     "data": {
      "text/plain": "<IPython.core.display.HTML object>",
      "text/html": "<style>\n    table.wandb td:nth-child(1) { padding: 0 10px; text-align: left ; width: auto;} td:nth-child(2) {text-align: left ; width: 100%}\n    .wandb-row { display: flex; flex-direction: row; flex-wrap: wrap; justify-content: flex-start; width: 100% }\n    .wandb-col { display: flex; flex-direction: column; flex-basis: 100%; flex: 1; padding: 10px; }\n    </style>\n<div class=\"wandb-row\"><div class=\"wandb-col\"><h3>Run history:</h3><br/><table class=\"wandb\"><tr><td>epoch</td><td>▁▁▃▃▃▅▅▅▆▆▆███</td></tr><tr><td>train_loss</td><td>█▇▁▇▂▃▃▆▃</td></tr><tr><td>trainer/global_step</td><td>▁▂▂▃▃▄▄▅▅▆▆▇██</td></tr><tr><td>val_loss</td><td>█▅▃▃▁</td></tr></table><br/></div><div class=\"wandb-col\"><h3>Run summary:</h3><br/><table class=\"wandb\"><tr><td>epoch</td><td>4</td></tr><tr><td>train_loss</td><td>61456.66016</td></tr><tr><td>trainer/global_step</td><td>464</td></tr><tr><td>val_loss</td><td>66596.66406</td></tr></table><br/></div></div>"
     },
     "metadata": {},
     "output_type": "display_data"
    },
    {
     "data": {
      "text/plain": "<IPython.core.display.HTML object>",
      "text/html": " View run <strong style=\"color:#cdcd00\">MNIST_SHIFT_8_pieces_20240518-130000</strong> at: <a href='https://wandb.ai/oboii/sinkhorn_netw/runs/350o9px2' target=\"_blank\">https://wandb.ai/oboii/sinkhorn_netw/runs/350o9px2</a><br/> View project at: <a href='https://wandb.ai/oboii/sinkhorn_netw' target=\"_blank\">https://wandb.ai/oboii/sinkhorn_netw</a><br/>Synced 5 W&B file(s), 330 media file(s), 2 artifact file(s) and 0 other file(s)"
     },
     "metadata": {},
     "output_type": "display_data"
    },
    {
     "data": {
      "text/plain": "<IPython.core.display.HTML object>",
      "text/html": "Find logs at: <code>.\\wandb\\run-20240518_130000-350o9px2\\logs</code>"
     },
     "metadata": {},
     "output_type": "display_data"
    },
    {
     "data": {
      "text/plain": "<IPython.core.display.HTML object>",
      "text/html": "Step only supports monotonically increasing values, use define_metric to set a custom x axis. For details see: https://wandb.me/define-metric"
     },
     "metadata": {},
     "output_type": "display_data"
    },
    {
     "data": {
      "text/plain": "<IPython.core.display.HTML object>",
      "text/html": "(User provided step: 93 is less than current step: 94. Dropping entry: {'TRAIN_predicted_image/img_0': {'_type': 'image-file', 'sha256': '2a0d884332c070df54eeefbb8fff1cc109dc27ef792d8da14eecb65bea991312', 'size': 445, 'path': 'media/images/TRAIN_predicted_image/img_0_94_2a0d884332c070df54ee.png', 'format': 'png', 'width': 24, 'height': 24, 'caption': 'Label 7'}, 'TRAIN_ground_truth/img_0': {'_type': 'image-file', 'sha256': '7f5699dace2ed24ed1f1e14dea6815168abaca93eead0f3b76a2413ae4c62250', 'size': 412, 'path': 'media/images/TRAIN_ground_truth/img_0_94_7f5699dace2ed24ed1f1.png', 'format': 'png', 'width': 24, 'height': 24, 'caption': 'Label 7'}, 'TRAIN_input/img_0': {'_type': 'image-file', 'sha256': 'e212fbadaf7564fdc20004bef46c48ce48b427fafce8ed581dcc9a4f7a96d9c4', 'size': 450, 'path': 'media/images/TRAIN_input/img_0_94_e212fbadaf7564fdc200.png', 'format': 'png', 'width': 24, 'height': 24, 'caption': 'Label 7'}, '_timestamp': 1716030014.4377387})."
     },
     "metadata": {},
     "output_type": "display_data"
    },
    {
     "data": {
      "text/plain": "<IPython.core.display.HTML object>",
      "text/html": "(User provided step: 93 is less than current step: 94. Dropping entry: {'TRAIN_predicted_image/img_1': {'_type': 'image-file', 'sha256': 'bfd71ec43919572a1db5559db52db0cd2740af19bf32b5a94df20f8659dc2605', 'size': 355, 'path': 'media/images/TRAIN_predicted_image/img_1_94_bfd71ec43919572a1db5.png', 'format': 'png', 'width': 24, 'height': 24, 'caption': 'Label 4'}, 'TRAIN_ground_truth/img_1': {'_type': 'image-file', 'sha256': '2bd37f6e5a393b67fb11f6124ae857d30a77d49ee93165f2470bbc909c110c4a', 'size': 347, 'path': 'media/images/TRAIN_ground_truth/img_1_94_2bd37f6e5a393b67fb11.png', 'format': 'png', 'width': 24, 'height': 24, 'caption': 'Label 4'}, 'TRAIN_input/img_1': {'_type': 'image-file', 'sha256': 'd1a4c9fb3900e96f44ddb320845fb89e886ef811cb42ce0e5a9362bc98b21de0', 'size': 379, 'path': 'media/images/TRAIN_input/img_1_94_d1a4c9fb3900e96f44dd.png', 'format': 'png', 'width': 24, 'height': 24, 'caption': 'Label 4'}, '_timestamp': 1716030014.4820352})."
     },
     "metadata": {},
     "output_type": "display_data"
    },
    {
     "data": {
      "text/plain": "<IPython.core.display.HTML object>",
      "text/html": "(User provided step: 93 is less than current step: 94. Dropping entry: {'TRAIN_predicted_image/img_2': {'_type': 'image-file', 'sha256': '663031bf0ac56fab358fbf1daf366457912abd02873b156db48bf2245076ad5b', 'size': 459, 'path': 'media/images/TRAIN_predicted_image/img_2_94_663031bf0ac56fab358f.png', 'format': 'png', 'width': 24, 'height': 24, 'caption': 'Label 0'}, 'TRAIN_ground_truth/img_2': {'_type': 'image-file', 'sha256': 'a6882c49680c3d51354dc1a61730957ba7b5aa301557a47f738624b613c0e2bb', 'size': 395, 'path': 'media/images/TRAIN_ground_truth/img_2_94_a6882c49680c3d51354d.png', 'format': 'png', 'width': 24, 'height': 24, 'caption': 'Label 0'}, 'TRAIN_input/img_2': {'_type': 'image-file', 'sha256': '96a9943130fbe17380dee33cd390929509d854dc58eec0a64f230d8ddaee6a70', 'size': 451, 'path': 'media/images/TRAIN_input/img_2_94_96a9943130fbe17380de.png', 'format': 'png', 'width': 24, 'height': 24, 'caption': 'Label 0'}, '_timestamp': 1716030014.520143})."
     },
     "metadata": {},
     "output_type": "display_data"
    },
    {
     "data": {
      "text/plain": "<IPython.core.display.HTML object>",
      "text/html": "(User provided step: 93 is less than current step: 94. Dropping entry: {'TRAIN_predicted_image/img_3': {'_type': 'image-file', 'sha256': 'c354b69356389e8a242db929e093586d390171e96ca28b7df995a332addedede', 'size': 478, 'path': 'media/images/TRAIN_predicted_image/img_3_94_c354b69356389e8a242d.png', 'format': 'png', 'width': 24, 'height': 24, 'caption': 'Label 8'}, 'TRAIN_ground_truth/img_3': {'_type': 'image-file', 'sha256': 'f5b0b2428410421f9e2a49f051523b4bfa1d83b6c83bf9aa0cc0c5bf4dc54060', 'size': 435, 'path': 'media/images/TRAIN_ground_truth/img_3_94_f5b0b2428410421f9e2a.png', 'format': 'png', 'width': 24, 'height': 24, 'caption': 'Label 8'}, 'TRAIN_input/img_3': {'_type': 'image-file', 'sha256': '9a35c2e1681e94e52b01b6223e1080d5ba0af14265e6d7bf92b466cf6325affa', 'size': 487, 'path': 'media/images/TRAIN_input/img_3_94_9a35c2e1681e94e52b01.png', 'format': 'png', 'width': 24, 'height': 24, 'caption': 'Label 8'}, '_timestamp': 1716030014.560248})."
     },
     "metadata": {},
     "output_type": "display_data"
    },
    {
     "data": {
      "text/plain": "<IPython.core.display.HTML object>",
      "text/html": "(User provided step: 93 is less than current step: 94. Dropping entry: {'TRAIN_predicted_image/img_4': {'_type': 'image-file', 'sha256': '4ddb0cdc8e0ccdc1612ccda4e690a0c4960b9db0e5697d501370c9c28b52b5b7', 'size': 508, 'path': 'media/images/TRAIN_predicted_image/img_4_94_4ddb0cdc8e0ccdc1612c.png', 'format': 'png', 'width': 24, 'height': 24, 'caption': 'Label 6'}, 'TRAIN_ground_truth/img_4': {'_type': 'image-file', 'sha256': '92fc51767d15f57f08a882d75d1db306f94ed6901d04d7dfc459fc0a619067a3', 'size': 436, 'path': 'media/images/TRAIN_ground_truth/img_4_94_92fc51767d15f57f08a8.png', 'format': 'png', 'width': 24, 'height': 24, 'caption': 'Label 6'}, 'TRAIN_input/img_4': {'_type': 'image-file', 'sha256': 'a5134e908d4fe18450df2fdc7dc169d2e5ac141dca66e9d3ec84df0b2ae210c7', 'size': 501, 'path': 'media/images/TRAIN_input/img_4_94_a5134e908d4fe18450df.png', 'format': 'png', 'width': 24, 'height': 24, 'caption': 'Label 6'}, '_timestamp': 1716030014.5979676})."
     },
     "metadata": {},
     "output_type": "display_data"
    },
    {
     "data": {
      "text/plain": "<IPython.core.display.HTML object>",
      "text/html": "(User provided step: 93 is less than current step: 94. Dropping entry: {'TRAIN_predicted_image/img_5': {'_type': 'image-file', 'sha256': '494244d91f0510978ff94b8697a8b35cef35ec48af2a2222e895628130ec96d6', 'size': 243, 'path': 'media/images/TRAIN_predicted_image/img_5_94_494244d91f0510978ff9.png', 'format': 'png', 'width': 24, 'height': 24, 'caption': 'Label 6'}, 'TRAIN_ground_truth/img_5': {'_type': 'image-file', 'sha256': '493305937ce50418f12df9b2d18a046806dc37a89fd0efa79983b8354b9309d4', 'size': 205, 'path': 'media/images/TRAIN_ground_truth/img_5_94_493305937ce50418f12d.png', 'format': 'png', 'width': 24, 'height': 24, 'caption': 'Label 6'}, 'TRAIN_input/img_5': {'_type': 'image-file', 'sha256': '04004321f054240dcd4c87ad50b01dbc6ea5a65ee92dbe29195873e8c44e0254', 'size': 251, 'path': 'media/images/TRAIN_input/img_5_94_04004321f054240dcd4c.png', 'format': 'png', 'width': 24, 'height': 24, 'caption': 'Label 6'}, '_timestamp': 1716030014.6249459})."
     },
     "metadata": {},
     "output_type": "display_data"
    },
    {
     "data": {
      "text/plain": "<IPython.core.display.HTML object>",
      "text/html": "(User provided step: 93 is less than current step: 94. Dropping entry: {'TRAIN_predicted_image/img_6': {'_type': 'image-file', 'sha256': '426dc49149eb7922e029c40bb1ec1a5e9baf55e5831a29a7e4d71901b93e9efc', 'size': 269, 'path': 'media/images/TRAIN_predicted_image/img_6_94_426dc49149eb7922e029.png', 'format': 'png', 'width': 24, 'height': 24, 'caption': 'Label 1'}, 'TRAIN_ground_truth/img_6': {'_type': 'image-file', 'sha256': '01ab84ba91ba7bf6b9b4109eebf2e51d14ab1490e5d061d26306987824a4776e', 'size': 230, 'path': 'media/images/TRAIN_ground_truth/img_6_94_01ab84ba91ba7bf6b9b4.png', 'format': 'png', 'width': 24, 'height': 24, 'caption': 'Label 1'}, 'TRAIN_input/img_6': {'_type': 'image-file', 'sha256': '875ba70e54e9df11b93f01406b982e49e6ad5e2b0497caeb586c7e95f6ea3527', 'size': 285, 'path': 'media/images/TRAIN_input/img_6_94_875ba70e54e9df11b93f.png', 'format': 'png', 'width': 24, 'height': 24, 'caption': 'Label 1'}, '_timestamp': 1716030014.6459723})."
     },
     "metadata": {},
     "output_type": "display_data"
    },
    {
     "data": {
      "text/plain": "<IPython.core.display.HTML object>",
      "text/html": "(User provided step: 93 is less than current step: 94. Dropping entry: {'TRAIN_predicted_image/img_7': {'_type': 'image-file', 'sha256': 'f2aaa923cd30816e67be10c7345a6ce2ec6184c206f3d9a4e14587fd9bbb30e4', 'size': 492, 'path': 'media/images/TRAIN_predicted_image/img_7_94_f2aaa923cd30816e67be.png', 'format': 'png', 'width': 24, 'height': 24, 'caption': 'Label 0'}, 'TRAIN_ground_truth/img_7': {'_type': 'image-file', 'sha256': '23be04f9510b6f7f6e239de42f7d502d1b9bc5db360a78eaa0a527cf87dea3cd', 'size': 454, 'path': 'media/images/TRAIN_ground_truth/img_7_94_23be04f9510b6f7f6e23.png', 'format': 'png', 'width': 24, 'height': 24, 'caption': 'Label 0'}, 'TRAIN_input/img_7': {'_type': 'image-file', 'sha256': 'fbd5fe9bec7f92600e7a566a65997d6e33e3bbb7d4104165666344195141921d', 'size': 532, 'path': 'media/images/TRAIN_input/img_7_94_fbd5fe9bec7f92600e7a.png', 'format': 'png', 'width': 24, 'height': 24, 'caption': 'Label 0'}, '_timestamp': 1716030014.6819396})."
     },
     "metadata": {},
     "output_type": "display_data"
    },
    {
     "data": {
      "text/plain": "<IPython.core.display.HTML object>",
      "text/html": "(User provided step: 93 is less than current step: 94. Dropping entry: {'TRAIN_predicted_image/img_8': {'_type': 'image-file', 'sha256': '9b26b953993cc7c633604af7883cce049634ed065df6619b4d77fadfdefb1b48', 'size': 339, 'path': 'media/images/TRAIN_predicted_image/img_8_94_9b26b953993cc7c63360.png', 'format': 'png', 'width': 24, 'height': 24, 'caption': 'Label 0'}, 'TRAIN_ground_truth/img_8': {'_type': 'image-file', 'sha256': '3c3d55f39c9e1d0c0b034c648b6e57dfd4f0ea4d09b9d7b7ae8d18f32cf01dfb', 'size': 307, 'path': 'media/images/TRAIN_ground_truth/img_8_94_3c3d55f39c9e1d0c0b03.png', 'format': 'png', 'width': 24, 'height': 24, 'caption': 'Label 0'}, 'TRAIN_input/img_8': {'_type': 'image-file', 'sha256': '21647bb1ff26ad8d8b19eb3fab7d20b6ccba6f89aa57df4286a88077fb6cdf2f', 'size': 337, 'path': 'media/images/TRAIN_input/img_8_94_21647bb1ff26ad8d8b19.png', 'format': 'png', 'width': 24, 'height': 24, 'caption': 'Label 0'}, '_timestamp': 1716030014.7099974})."
     },
     "metadata": {},
     "output_type": "display_data"
    },
    {
     "data": {
      "text/plain": "<IPython.core.display.HTML object>",
      "text/html": "(User provided step: 93 is less than current step: 94. Dropping entry: {'TRAIN_predicted_image/img_9': {'_type': 'image-file', 'sha256': '0639ad37eeeb60dd429f4498ca1eab4ccaa8812e7ac0c5358c6e84cabd70b747', 'size': 414, 'path': 'media/images/TRAIN_predicted_image/img_9_94_0639ad37eeeb60dd429f.png', 'format': 'png', 'width': 24, 'height': 24, 'caption': 'Label 1'}, 'TRAIN_ground_truth/img_9': {'_type': 'image-file', 'sha256': 'b80ac684263a1965f00f7960f0ff97509438fdee0004282de6fe3e7cc63226a6', 'size': 407, 'path': 'media/images/TRAIN_ground_truth/img_9_94_b80ac684263a1965f00f.png', 'format': 'png', 'width': 24, 'height': 24, 'caption': 'Label 1'}, 'TRAIN_input/img_9': {'_type': 'image-file', 'sha256': '8220c8e1cb056a9f13ba6876c99f913865b2461b951bd2041a2506982dc0f50f', 'size': 433, 'path': 'media/images/TRAIN_input/img_9_94_8220c8e1cb056a9f13ba.png', 'format': 'png', 'width': 24, 'height': 24, 'caption': 'Label 1'}, '_timestamp': 1716030014.743204})."
     },
     "metadata": {},
     "output_type": "display_data"
    },
    {
     "data": {
      "text/plain": "<IPython.core.display.HTML object>",
      "text/html": "(User provided step: 186 is less than current step: 187. Dropping entry: {'TRAIN_predicted_image/img_0': {'_type': 'image-file', 'sha256': '4ce82187735f8be78c2617bbd1028371210d6d06914186a38e7392a6ea99b34b', 'size': 241, 'path': 'media/images/TRAIN_predicted_image/img_0_187_4ce82187735f8be78c26.png', 'format': 'png', 'width': 24, 'height': 24, 'caption': 'Label 7'}, 'TRAIN_ground_truth/img_0': {'_type': 'image-file', 'sha256': '70bd4a83872ea5265aa888ab162bad34a7756663c45ceb60abc005036bf53f7d', 'size': 192, 'path': 'media/images/TRAIN_ground_truth/img_0_187_70bd4a83872ea5265aa8.png', 'format': 'png', 'width': 24, 'height': 24, 'caption': 'Label 7'}, 'TRAIN_input/img_0': {'_type': 'image-file', 'sha256': 'b9bb54b77252dde48ce1f75b187d54f79c8b6241c54ed303f3e9c91092806ee4', 'size': 239, 'path': 'media/images/TRAIN_input/img_0_187_b9bb54b77252dde48ce1.png', 'format': 'png', 'width': 24, 'height': 24, 'caption': 'Label 7'}, '_timestamp': 1716030032.0631702})."
     },
     "metadata": {},
     "output_type": "display_data"
    },
    {
     "data": {
      "text/plain": "<IPython.core.display.HTML object>",
      "text/html": "(User provided step: 186 is less than current step: 187. Dropping entry: {'TRAIN_predicted_image/img_1': {'_type': 'image-file', 'sha256': 'f846bb116d8e9819604ec1cb8420ca418a53d15f975f6b00b77bb098dd83fea7', 'size': 418, 'path': 'media/images/TRAIN_predicted_image/img_1_187_f846bb116d8e9819604e.png', 'format': 'png', 'width': 24, 'height': 24, 'caption': 'Label 6'}, 'TRAIN_ground_truth/img_1': {'_type': 'image-file', 'sha256': '3376b57a621c30fcdff4038eb02c10d66bb7df2bbf3a85486f32a14476a7f311', 'size': 378, 'path': 'media/images/TRAIN_ground_truth/img_1_187_3376b57a621c30fcdff4.png', 'format': 'png', 'width': 24, 'height': 24, 'caption': 'Label 6'}, 'TRAIN_input/img_1': {'_type': 'image-file', 'sha256': 'becb953cfe319e557b8ae44a06b77b6eb299768110cedb6c6e34bfa12261976e', 'size': 443, 'path': 'media/images/TRAIN_input/img_1_187_becb953cfe319e557b8a.png', 'format': 'png', 'width': 24, 'height': 24, 'caption': 'Label 6'}, '_timestamp': 1716030032.0974085})."
     },
     "metadata": {},
     "output_type": "display_data"
    },
    {
     "data": {
      "text/plain": "<IPython.core.display.HTML object>",
      "text/html": "(User provided step: 186 is less than current step: 187. Dropping entry: {'TRAIN_predicted_image/img_2': {'_type': 'image-file', 'sha256': '3bda83c5ffcfb14c8e9e2cba9e2380b6d80c22e904a948b20723bee7f989a03d', 'size': 339, 'path': 'media/images/TRAIN_predicted_image/img_2_187_3bda83c5ffcfb14c8e9e.png', 'format': 'png', 'width': 24, 'height': 24, 'caption': 'Label 7'}, 'TRAIN_ground_truth/img_2': {'_type': 'image-file', 'sha256': '0672f86511e941ab66a0749c40973319e0d1393426199d1935eeed87ed747066', 'size': 295, 'path': 'media/images/TRAIN_ground_truth/img_2_187_0672f86511e941ab66a0.png', 'format': 'png', 'width': 24, 'height': 24, 'caption': 'Label 7'}, 'TRAIN_input/img_2': {'_type': 'image-file', 'sha256': 'd21324514a2249fd08c786ad1f9a86d28d77932ced4ec466a1ca2ea4c661eaf7', 'size': 351, 'path': 'media/images/TRAIN_input/img_2_187_d21324514a2249fd08c7.png', 'format': 'png', 'width': 24, 'height': 24, 'caption': 'Label 7'}, '_timestamp': 1716030032.1360059})."
     },
     "metadata": {},
     "output_type": "display_data"
    },
    {
     "data": {
      "text/plain": "<IPython.core.display.HTML object>",
      "text/html": "(User provided step: 186 is less than current step: 187. Dropping entry: {'TRAIN_predicted_image/img_3': {'_type': 'image-file', 'sha256': '064a0dd47c7a3c2b93861137fa1300184faf9fc91badf08fc2b2289ee7a7edc4', 'size': 341, 'path': 'media/images/TRAIN_predicted_image/img_3_187_064a0dd47c7a3c2b9386.png', 'format': 'png', 'width': 24, 'height': 24, 'caption': 'Label 1'}, 'TRAIN_ground_truth/img_3': {'_type': 'image-file', 'sha256': 'bd1ba2784c0b7d9b2d8acb852404c95ed30aa3e4e04ec0ed103c7ac9b4e46c7e', 'size': 304, 'path': 'media/images/TRAIN_ground_truth/img_3_187_bd1ba2784c0b7d9b2d8a.png', 'format': 'png', 'width': 24, 'height': 24, 'caption': 'Label 1'}, 'TRAIN_input/img_3': {'_type': 'image-file', 'sha256': 'eadd41a7f9959bac785d59b96be190a7c00d597e1e9bfd85913a4e912fd96189', 'size': 334, 'path': 'media/images/TRAIN_input/img_3_187_eadd41a7f9959bac785d.png', 'format': 'png', 'width': 24, 'height': 24, 'caption': 'Label 1'}, '_timestamp': 1716030032.1660361})."
     },
     "metadata": {},
     "output_type": "display_data"
    },
    {
     "data": {
      "text/plain": "<IPython.core.display.HTML object>",
      "text/html": "(User provided step: 186 is less than current step: 187. Dropping entry: {'TRAIN_predicted_image/img_4': {'_type': 'image-file', 'sha256': '385e4ace0a727bc4084367062e4221ea5ed26d0b52d679a608b7fa64465ba056', 'size': 428, 'path': 'media/images/TRAIN_predicted_image/img_4_187_385e4ace0a727bc40843.png', 'format': 'png', 'width': 24, 'height': 24, 'caption': 'Label 4'}, 'TRAIN_ground_truth/img_4': {'_type': 'image-file', 'sha256': '89ecb3997e84c98fefbeae94c79f36e9aa0f99197544a0878b6ef75a6c79c318', 'size': 383, 'path': 'media/images/TRAIN_ground_truth/img_4_187_89ecb3997e84c98fefbe.png', 'format': 'png', 'width': 24, 'height': 24, 'caption': 'Label 4'}, 'TRAIN_input/img_4': {'_type': 'image-file', 'sha256': '572033c9c3503909306186a1b9c2aca86922e79fa02b7d4f53b46a86f1b7c976', 'size': 427, 'path': 'media/images/TRAIN_input/img_4_187_572033c9c35039093061.png', 'format': 'png', 'width': 24, 'height': 24, 'caption': 'Label 4'}, '_timestamp': 1716030032.1963446})."
     },
     "metadata": {},
     "output_type": "display_data"
    },
    {
     "data": {
      "text/plain": "<IPython.core.display.HTML object>",
      "text/html": "(User provided step: 186 is less than current step: 187. Dropping entry: {'TRAIN_predicted_image/img_5': {'_type': 'image-file', 'sha256': 'e3ac44154ab5958d0c3e2430a46e14725ba0a06da1f71ef62919c913161c7fc9', 'size': 518, 'path': 'media/images/TRAIN_predicted_image/img_5_187_e3ac44154ab5958d0c3e.png', 'format': 'png', 'width': 24, 'height': 24, 'caption': 'Label 2'}, 'TRAIN_ground_truth/img_5': {'_type': 'image-file', 'sha256': 'ef10e006ea1908dd9b8be08d2aded127cb0277d09ac8a305f0f79fd123770ded', 'size': 479, 'path': 'media/images/TRAIN_ground_truth/img_5_187_ef10e006ea1908dd9b8b.png', 'format': 'png', 'width': 24, 'height': 24, 'caption': 'Label 2'}, 'TRAIN_input/img_5': {'_type': 'image-file', 'sha256': '7d942c0e363e8987a58576df042fdc6d1d96c55a2a39854bda757dea99c20da8', 'size': 514, 'path': 'media/images/TRAIN_input/img_5_187_7d942c0e363e8987a585.png', 'format': 'png', 'width': 24, 'height': 24, 'caption': 'Label 2'}, '_timestamp': 1716030032.229675})."
     },
     "metadata": {},
     "output_type": "display_data"
    },
    {
     "data": {
      "text/plain": "<IPython.core.display.HTML object>",
      "text/html": "(User provided step: 186 is less than current step: 187. Dropping entry: {'TRAIN_predicted_image/img_6': {'_type': 'image-file', 'sha256': 'df72bd19ecea961ef8b8f7b7f579571b0bf066f95a9e89ab3c3de4f93a6cde0b', 'size': 424, 'path': 'media/images/TRAIN_predicted_image/img_6_187_df72bd19ecea961ef8b8.png', 'format': 'png', 'width': 24, 'height': 24, 'caption': 'Label 2'}, 'TRAIN_ground_truth/img_6': {'_type': 'image-file', 'sha256': '5ab2eb8304238ca4e6f9f9b78be0120f1b35b0f7a9b06d6c0ac776ed16e1b5be', 'size': 362, 'path': 'media/images/TRAIN_ground_truth/img_6_187_5ab2eb8304238ca4e6f9.png', 'format': 'png', 'width': 24, 'height': 24, 'caption': 'Label 2'}, 'TRAIN_input/img_6': {'_type': 'image-file', 'sha256': '4ff59f86273c2aa6d7755488465d15ce7defd26830444c03fc7a86324820b04d', 'size': 428, 'path': 'media/images/TRAIN_input/img_6_187_4ff59f86273c2aa6d775.png', 'format': 'png', 'width': 24, 'height': 24, 'caption': 'Label 2'}, '_timestamp': 1716030032.2594292})."
     },
     "metadata": {},
     "output_type": "display_data"
    },
    {
     "data": {
      "text/plain": "<IPython.core.display.HTML object>",
      "text/html": "(User provided step: 186 is less than current step: 187. Dropping entry: {'TRAIN_predicted_image/img_7': {'_type': 'image-file', 'sha256': 'c2f37ec0d65a4f7085efae0efa8d88ee808cd978ab0fe35e6e25b0feee3a68c9', 'size': 403, 'path': 'media/images/TRAIN_predicted_image/img_7_187_c2f37ec0d65a4f7085ef.png', 'format': 'png', 'width': 24, 'height': 24, 'caption': 'Label 4'}, 'TRAIN_ground_truth/img_7': {'_type': 'image-file', 'sha256': 'df4a5fe7005970df20c9422012265b33db8d6aedf35de6cf5b67c02842385d0e', 'size': 363, 'path': 'media/images/TRAIN_ground_truth/img_7_187_df4a5fe7005970df20c9.png', 'format': 'png', 'width': 24, 'height': 24, 'caption': 'Label 4'}, 'TRAIN_input/img_7': {'_type': 'image-file', 'sha256': '000e354404c97243a9d7a155f03ace22145ebc60a7ea2ca395da1de795b45873', 'size': 412, 'path': 'media/images/TRAIN_input/img_7_187_000e354404c97243a9d7.png', 'format': 'png', 'width': 24, 'height': 24, 'caption': 'Label 4'}, '_timestamp': 1716030032.2983565})."
     },
     "metadata": {},
     "output_type": "display_data"
    },
    {
     "data": {
      "text/plain": "<IPython.core.display.HTML object>",
      "text/html": "(User provided step: 186 is less than current step: 187. Dropping entry: {'TRAIN_predicted_image/img_8': {'_type': 'image-file', 'sha256': '0c04b4d0d94df73e57aa83da849cd39086c69a87338daca72676763b89841b3b', 'size': 446, 'path': 'media/images/TRAIN_predicted_image/img_8_187_0c04b4d0d94df73e57aa.png', 'format': 'png', 'width': 24, 'height': 24, 'caption': 'Label 5'}, 'TRAIN_ground_truth/img_8': {'_type': 'image-file', 'sha256': '7e3e70daa949849cb23abb4e2f57896ae161045f0a00f2306422a45ee4d55db1', 'size': 422, 'path': 'media/images/TRAIN_ground_truth/img_8_187_7e3e70daa949849cb23a.png', 'format': 'png', 'width': 24, 'height': 24, 'caption': 'Label 5'}, 'TRAIN_input/img_8': {'_type': 'image-file', 'sha256': '33ef8235af2151ce69e44cc0834c6db52f257395b226b67548cc344300e3491f', 'size': 458, 'path': 'media/images/TRAIN_input/img_8_187_33ef8235af2151ce69e4.png', 'format': 'png', 'width': 24, 'height': 24, 'caption': 'Label 5'}, '_timestamp': 1716030032.3316913})."
     },
     "metadata": {},
     "output_type": "display_data"
    },
    {
     "data": {
      "text/plain": "<IPython.core.display.HTML object>",
      "text/html": "(User provided step: 186 is less than current step: 187. Dropping entry: {'TRAIN_predicted_image/img_9': {'_type': 'image-file', 'sha256': '90f10e2b1a2be15c2b7317209900475323c0bcab667f7ea36560cec933a0e5a1', 'size': 338, 'path': 'media/images/TRAIN_predicted_image/img_9_187_90f10e2b1a2be15c2b73.png', 'format': 'png', 'width': 24, 'height': 24, 'caption': 'Label 2'}, 'TRAIN_ground_truth/img_9': {'_type': 'image-file', 'sha256': '09771ee3da88f0f34063c6e4a700962fc58d34ef4f69fa2c582f1976a1f8122a', 'size': 268, 'path': 'media/images/TRAIN_ground_truth/img_9_187_09771ee3da88f0f34063.png', 'format': 'png', 'width': 24, 'height': 24, 'caption': 'Label 2'}, 'TRAIN_input/img_9': {'_type': 'image-file', 'sha256': '6b774115cac7648afbd0aa93fbef864dc96a05a2e51b15413e29ac63c3b56a48', 'size': 328, 'path': 'media/images/TRAIN_input/img_9_187_6b774115cac7648afbd0.png', 'format': 'png', 'width': 24, 'height': 24, 'caption': 'Label 2'}, '_timestamp': 1716030032.3643959})."
     },
     "metadata": {},
     "output_type": "display_data"
    },
    {
     "data": {
      "text/plain": "<IPython.core.display.HTML object>",
      "text/html": "(User provided step: 279 is less than current step: 280. Dropping entry: {'TRAIN_predicted_image/img_0': {'_type': 'image-file', 'sha256': 'f9cdc5d5871c3f0b12037a7642fad8e295f7ed292e00f548aa0b230c4d532309', 'size': 293, 'path': 'media/images/TRAIN_predicted_image/img_0_280_f9cdc5d5871c3f0b1203.png', 'format': 'png', 'width': 24, 'height': 24, 'caption': 'Label 1'}, 'TRAIN_ground_truth/img_0': {'_type': 'image-file', 'sha256': '2634ebf1649dfba45c70213aff07c03008c2c17d4e3d89815f6941b5063618e6', 'size': 250, 'path': 'media/images/TRAIN_ground_truth/img_0_280_2634ebf1649dfba45c70.png', 'format': 'png', 'width': 24, 'height': 24, 'caption': 'Label 1'}, 'TRAIN_input/img_0': {'_type': 'image-file', 'sha256': 'e1b5723bacebd96eb1652bed5610550d697484c2e53c0887c621df32c73c6f26', 'size': 297, 'path': 'media/images/TRAIN_input/img_0_280_e1b5723bacebd96eb165.png', 'format': 'png', 'width': 24, 'height': 24, 'caption': 'Label 1'}, '_timestamp': 1716030049.9081385})."
     },
     "metadata": {},
     "output_type": "display_data"
    },
    {
     "data": {
      "text/plain": "<IPython.core.display.HTML object>",
      "text/html": "(User provided step: 279 is less than current step: 280. Dropping entry: {'TRAIN_predicted_image/img_1': {'_type': 'image-file', 'sha256': '598110e0ac3d3cd1ef6b2c02216e9dadd51a18b4be14b43a38fa37b48a4b1928', 'size': 380, 'path': 'media/images/TRAIN_predicted_image/img_1_280_598110e0ac3d3cd1ef6b.png', 'format': 'png', 'width': 24, 'height': 24, 'caption': 'Label 9'}, 'TRAIN_ground_truth/img_1': {'_type': 'image-file', 'sha256': '01d7acd3f6afe80d357fc541abd196be26d0a297d1f4e3118aa8866801bea343', 'size': 357, 'path': 'media/images/TRAIN_ground_truth/img_1_280_01d7acd3f6afe80d357f.png', 'format': 'png', 'width': 24, 'height': 24, 'caption': 'Label 9'}, 'TRAIN_input/img_1': {'_type': 'image-file', 'sha256': '4e7ad685fbd5cf02be389394f49e32e179e54767662f4bc20b6681745dccff67', 'size': 396, 'path': 'media/images/TRAIN_input/img_1_280_4e7ad685fbd5cf02be38.png', 'format': 'png', 'width': 24, 'height': 24, 'caption': 'Label 9'}, '_timestamp': 1716030049.9485474})."
     },
     "metadata": {},
     "output_type": "display_data"
    },
    {
     "data": {
      "text/plain": "<IPython.core.display.HTML object>",
      "text/html": "(User provided step: 279 is less than current step: 280. Dropping entry: {'TRAIN_predicted_image/img_2': {'_type': 'image-file', 'sha256': '6fc8910eab8db50892c7c5449c8e01aa6b6310d310e139e7e409722ced98c30a', 'size': 401, 'path': 'media/images/TRAIN_predicted_image/img_2_280_6fc8910eab8db50892c7.png', 'format': 'png', 'width': 24, 'height': 24, 'caption': 'Label 0'}, 'TRAIN_ground_truth/img_2': {'_type': 'image-file', 'sha256': 'd7fd6c230c62bc61379ee8191d311e7810565f6f06d648a19280c6fc0042e31f', 'size': 358, 'path': 'media/images/TRAIN_ground_truth/img_2_280_d7fd6c230c62bc61379e.png', 'format': 'png', 'width': 24, 'height': 24, 'caption': 'Label 0'}, 'TRAIN_input/img_2': {'_type': 'image-file', 'sha256': '1b4ddcc1f5930c11629db20ed5b203b9272c69f8ae110bf7214df97ad2e88fb5', 'size': 400, 'path': 'media/images/TRAIN_input/img_2_280_1b4ddcc1f5930c11629d.png', 'format': 'png', 'width': 24, 'height': 24, 'caption': 'Label 0'}, '_timestamp': 1716030049.9824655})."
     },
     "metadata": {},
     "output_type": "display_data"
    },
    {
     "data": {
      "text/plain": "<IPython.core.display.HTML object>",
      "text/html": "(User provided step: 279 is less than current step: 280. Dropping entry: {'TRAIN_predicted_image/img_3': {'_type': 'image-file', 'sha256': '1367efe52a5f2d21a550b11e38135d0b36bbbd988f2f64cc94be28270613e86a', 'size': 249, 'path': 'media/images/TRAIN_predicted_image/img_3_280_1367efe52a5f2d21a550.png', 'format': 'png', 'width': 24, 'height': 24, 'caption': 'Label 3'}, 'TRAIN_ground_truth/img_3': {'_type': 'image-file', 'sha256': '4f768c04827f101e906c11da0398e1593671f8a62b53ffeaee1455c9cf466b3b', 'size': 234, 'path': 'media/images/TRAIN_ground_truth/img_3_280_4f768c04827f101e906c.png', 'format': 'png', 'width': 24, 'height': 24, 'caption': 'Label 3'}, 'TRAIN_input/img_3': {'_type': 'image-file', 'sha256': 'd5f8904fdf8a733f964ac9cf435e6ca9ae1f17e66aaec79ff8b02cd9cc88641b', 'size': 247, 'path': 'media/images/TRAIN_input/img_3_280_d5f8904fdf8a733f964a.png', 'format': 'png', 'width': 24, 'height': 24, 'caption': 'Label 3'}, '_timestamp': 1716030050.013124})."
     },
     "metadata": {},
     "output_type": "display_data"
    },
    {
     "data": {
      "text/plain": "<IPython.core.display.HTML object>",
      "text/html": "(User provided step: 279 is less than current step: 280. Dropping entry: {'TRAIN_predicted_image/img_4': {'_type': 'image-file', 'sha256': '47db46180c46c30e645f7c5326e171cb29d9f398b00569278ba0ae0af62f7921', 'size': 248, 'path': 'media/images/TRAIN_predicted_image/img_4_280_47db46180c46c30e645f.png', 'format': 'png', 'width': 24, 'height': 24, 'caption': 'Label 6'}, 'TRAIN_ground_truth/img_4': {'_type': 'image-file', 'sha256': 'e9ab67d3b4f47a71070e5c6d75e0a9a1e0b075beca087ea9aaf2f5bdb541ba50', 'size': 232, 'path': 'media/images/TRAIN_ground_truth/img_4_280_e9ab67d3b4f47a71070e.png', 'format': 'png', 'width': 24, 'height': 24, 'caption': 'Label 6'}, 'TRAIN_input/img_4': {'_type': 'image-file', 'sha256': '85666907316655f40d6db7835108d502ec66ad4ca9dd38eec104e88d3a88278a', 'size': 280, 'path': 'media/images/TRAIN_input/img_4_280_85666907316655f40d6d.png', 'format': 'png', 'width': 24, 'height': 24, 'caption': 'Label 6'}, '_timestamp': 1716030050.0514383})."
     },
     "metadata": {},
     "output_type": "display_data"
    },
    {
     "data": {
      "text/plain": "<IPython.core.display.HTML object>",
      "text/html": "(User provided step: 279 is less than current step: 280. Dropping entry: {'TRAIN_predicted_image/img_5': {'_type': 'image-file', 'sha256': 'd995f3196ffc4af8e809035cd9db7fb0ea65dc17e208c7d6e903a144acb36f74', 'size': 366, 'path': 'media/images/TRAIN_predicted_image/img_5_280_d995f3196ffc4af8e809.png', 'format': 'png', 'width': 24, 'height': 24, 'caption': 'Label 3'}, 'TRAIN_ground_truth/img_5': {'_type': 'image-file', 'sha256': 'e24abea08d4a8a4ff9da62759ba1b34cc2f025a8e04f5356bc9dd99eb713092e', 'size': 333, 'path': 'media/images/TRAIN_ground_truth/img_5_280_e24abea08d4a8a4ff9da.png', 'format': 'png', 'width': 24, 'height': 24, 'caption': 'Label 3'}, 'TRAIN_input/img_5': {'_type': 'image-file', 'sha256': '61fd43e6acd2ebef13de16c8777158702ce620c2e76d851014bcf238d5d0c6d1', 'size': 362, 'path': 'media/images/TRAIN_input/img_5_280_61fd43e6acd2ebef13de.png', 'format': 'png', 'width': 24, 'height': 24, 'caption': 'Label 3'}, '_timestamp': 1716030050.086193})."
     },
     "metadata": {},
     "output_type": "display_data"
    },
    {
     "data": {
      "text/plain": "<IPython.core.display.HTML object>",
      "text/html": "(User provided step: 279 is less than current step: 280. Dropping entry: {'TRAIN_predicted_image/img_6': {'_type': 'image-file', 'sha256': '840cb458737980b73f28a111ff94d77f726e053103c4581793e6835090f78acc', 'size': 272, 'path': 'media/images/TRAIN_predicted_image/img_6_280_840cb458737980b73f28.png', 'format': 'png', 'width': 24, 'height': 24, 'caption': 'Label 7'}, 'TRAIN_ground_truth/img_6': {'_type': 'image-file', 'sha256': 'ed5003d88d7c353eb59999b907ddafdcda4a7139eeb0e19796869505e6910bab', 'size': 235, 'path': 'media/images/TRAIN_ground_truth/img_6_280_ed5003d88d7c353eb599.png', 'format': 'png', 'width': 24, 'height': 24, 'caption': 'Label 7'}, 'TRAIN_input/img_6': {'_type': 'image-file', 'sha256': '58436272f007d496a18d60d851c7f632a9d382d19dd2986b15ca03c72d3e81a9', 'size': 261, 'path': 'media/images/TRAIN_input/img_6_280_58436272f007d496a18d.png', 'format': 'png', 'width': 24, 'height': 24, 'caption': 'Label 7'}, '_timestamp': 1716030050.1248257})."
     },
     "metadata": {},
     "output_type": "display_data"
    },
    {
     "data": {
      "text/plain": "<IPython.core.display.HTML object>",
      "text/html": "(User provided step: 279 is less than current step: 280. Dropping entry: {'TRAIN_predicted_image/img_7': {'_type': 'image-file', 'sha256': '64961465c9321995b7b0317a4ecd826dc95c83a73d16f0f67cc6f88a3cc8dd09', 'size': 219, 'path': 'media/images/TRAIN_predicted_image/img_7_280_64961465c9321995b7b0.png', 'format': 'png', 'width': 24, 'height': 24, 'caption': 'Label 1'}, 'TRAIN_ground_truth/img_7': {'_type': 'image-file', 'sha256': '3722507a4c68153c8f3c14905763f24b24bfaca39da99bc9afcf583b6c8a3f5f', 'size': 210, 'path': 'media/images/TRAIN_ground_truth/img_7_280_3722507a4c68153c8f3c.png', 'format': 'png', 'width': 24, 'height': 24, 'caption': 'Label 1'}, 'TRAIN_input/img_7': {'_type': 'image-file', 'sha256': '7cd8e6bbdb313b8dc08d8597d9d2f08dc520c2b3824ac67023ca966215c8d81a', 'size': 240, 'path': 'media/images/TRAIN_input/img_7_280_7cd8e6bbdb313b8dc08d.png', 'format': 'png', 'width': 24, 'height': 24, 'caption': 'Label 1'}, '_timestamp': 1716030050.1560857})."
     },
     "metadata": {},
     "output_type": "display_data"
    },
    {
     "data": {
      "text/plain": "<IPython.core.display.HTML object>",
      "text/html": "(User provided step: 279 is less than current step: 280. Dropping entry: {'TRAIN_predicted_image/img_8': {'_type': 'image-file', 'sha256': '5432ffc93c26a9954f907a58e318a10dc6c9aae6402fac5a62751ea822ca5237', 'size': 278, 'path': 'media/images/TRAIN_predicted_image/img_8_280_5432ffc93c26a9954f90.png', 'format': 'png', 'width': 24, 'height': 24, 'caption': 'Label 1'}, 'TRAIN_ground_truth/img_8': {'_type': 'image-file', 'sha256': 'adcc1ebd007c00939a6d7345d16bad2d96a47d98e4d08c5aaa04f539cadf6aea', 'size': 261, 'path': 'media/images/TRAIN_ground_truth/img_8_280_adcc1ebd007c00939a6d.png', 'format': 'png', 'width': 24, 'height': 24, 'caption': 'Label 1'}, 'TRAIN_input/img_8': {'_type': 'image-file', 'sha256': '38fc7ce475d19df6f634bd87ba4cfe3c6b311a360d396901d997bb13f07108c3', 'size': 283, 'path': 'media/images/TRAIN_input/img_8_280_38fc7ce475d19df6f634.png', 'format': 'png', 'width': 24, 'height': 24, 'caption': 'Label 1'}, '_timestamp': 1716030050.1889856})."
     },
     "metadata": {},
     "output_type": "display_data"
    },
    {
     "data": {
      "text/plain": "<IPython.core.display.HTML object>",
      "text/html": "(User provided step: 279 is less than current step: 280. Dropping entry: {'TRAIN_predicted_image/img_9': {'_type': 'image-file', 'sha256': 'a4f717e7dc0ab028bd2cb8a7a0c5036b89d1d046a7ea6b499d69858b00ca025b', 'size': 412, 'path': 'media/images/TRAIN_predicted_image/img_9_280_a4f717e7dc0ab028bd2c.png', 'format': 'png', 'width': 24, 'height': 24, 'caption': 'Label 2'}, 'TRAIN_ground_truth/img_9': {'_type': 'image-file', 'sha256': '8e3369161334e177dafb931b47932361a0250b4ff88c7e563a2d7d75afd8b62d', 'size': 366, 'path': 'media/images/TRAIN_ground_truth/img_9_280_8e3369161334e177dafb.png', 'format': 'png', 'width': 24, 'height': 24, 'caption': 'Label 2'}, 'TRAIN_input/img_9': {'_type': 'image-file', 'sha256': 'f7d90f9040a7ec36930e03a7aff166155fb4478f4ce0a25563ad98f5aa31fa68', 'size': 427, 'path': 'media/images/TRAIN_input/img_9_280_f7d90f9040a7ec36930e.png', 'format': 'png', 'width': 24, 'height': 24, 'caption': 'Label 2'}, '_timestamp': 1716030050.228348})."
     },
     "metadata": {},
     "output_type": "display_data"
    },
    {
     "data": {
      "text/plain": "<IPython.core.display.HTML object>",
      "text/html": "(User provided step: 372 is less than current step: 373. Dropping entry: {'TRAIN_predicted_image/img_0': {'_type': 'image-file', 'sha256': '915defd7ef2ff143089c0eb8dc85bb0ddba8944e964e01f85466b65f38be4151', 'size': 518, 'path': 'media/images/TRAIN_predicted_image/img_0_373_915defd7ef2ff143089c.png', 'format': 'png', 'width': 24, 'height': 24, 'caption': 'Label 3'}, 'TRAIN_ground_truth/img_0': {'_type': 'image-file', 'sha256': '6028a7983431fdd4fadf700dc09e71ec85afa1e5e973c19ba15cf449a2288c0f', 'size': 491, 'path': 'media/images/TRAIN_ground_truth/img_0_373_6028a7983431fdd4fadf.png', 'format': 'png', 'width': 24, 'height': 24, 'caption': 'Label 3'}, 'TRAIN_input/img_0': {'_type': 'image-file', 'sha256': 'aee1bdedb5c6faecd46369937f2c57ca7c9a263e4162833910a8846b6d647fd2', 'size': 543, 'path': 'media/images/TRAIN_input/img_0_373_aee1bdedb5c6faecd463.png', 'format': 'png', 'width': 24, 'height': 24, 'caption': 'Label 3'}, '_timestamp': 1716030067.7463355})."
     },
     "metadata": {},
     "output_type": "display_data"
    },
    {
     "data": {
      "text/plain": "<IPython.core.display.HTML object>",
      "text/html": "(User provided step: 372 is less than current step: 373. Dropping entry: {'TRAIN_predicted_image/img_1': {'_type': 'image-file', 'sha256': '960bb13c5fb7c79f4d02c2402ca0f9342cdd0c9174835886e21ce3cb303d78ee', 'size': 433, 'path': 'media/images/TRAIN_predicted_image/img_1_373_960bb13c5fb7c79f4d02.png', 'format': 'png', 'width': 24, 'height': 24, 'caption': 'Label 6'}, 'TRAIN_ground_truth/img_1': {'_type': 'image-file', 'sha256': 'ac7c8b7615edcf75f84e1265943676888a4f2fd3a708fe4a642757a875ec4ee5', 'size': 409, 'path': 'media/images/TRAIN_ground_truth/img_1_373_ac7c8b7615edcf75f84e.png', 'format': 'png', 'width': 24, 'height': 24, 'caption': 'Label 6'}, 'TRAIN_input/img_1': {'_type': 'image-file', 'sha256': '82ae49f742488e9a3b4bb1467a58385ec724cfae4afcf577c8d44a54a4ab6890', 'size': 459, 'path': 'media/images/TRAIN_input/img_1_373_82ae49f742488e9a3b4b.png', 'format': 'png', 'width': 24, 'height': 24, 'caption': 'Label 6'}, '_timestamp': 1716030067.7797165})."
     },
     "metadata": {},
     "output_type": "display_data"
    },
    {
     "data": {
      "text/plain": "<IPython.core.display.HTML object>",
      "text/html": "(User provided step: 372 is less than current step: 373. Dropping entry: {'TRAIN_predicted_image/img_2': {'_type': 'image-file', 'sha256': '0f7d9e5c00275851258a33e05017ddae2ed400e29b511f0fcb1447dc4386ab6f', 'size': 378, 'path': 'media/images/TRAIN_predicted_image/img_2_373_0f7d9e5c00275851258a.png', 'format': 'png', 'width': 24, 'height': 24, 'caption': 'Label 5'}, 'TRAIN_ground_truth/img_2': {'_type': 'image-file', 'sha256': '03669766bd5ba69732197d30f4a0648b6a80fcb5e46f0f4d882a35828fe0b242', 'size': 359, 'path': 'media/images/TRAIN_ground_truth/img_2_373_03669766bd5ba6973219.png', 'format': 'png', 'width': 24, 'height': 24, 'caption': 'Label 5'}, 'TRAIN_input/img_2': {'_type': 'image-file', 'sha256': '81799930d19d7217f9f1a3f363b65a6cc562027f6de35fb1faa9b7d184e7641a', 'size': 417, 'path': 'media/images/TRAIN_input/img_2_373_81799930d19d7217f9f1.png', 'format': 'png', 'width': 24, 'height': 24, 'caption': 'Label 5'}, '_timestamp': 1716030067.8109741})."
     },
     "metadata": {},
     "output_type": "display_data"
    },
    {
     "data": {
      "text/plain": "<IPython.core.display.HTML object>",
      "text/html": "(User provided step: 372 is less than current step: 373. Dropping entry: {'TRAIN_predicted_image/img_3': {'_type': 'image-file', 'sha256': 'c59dcdc5532335539c7b21cf72a122a2d477a76a53d40c5644002cf7ee87d4b3', 'size': 559, 'path': 'media/images/TRAIN_predicted_image/img_3_373_c59dcdc5532335539c7b.png', 'format': 'png', 'width': 24, 'height': 24, 'caption': 'Label 0'}, 'TRAIN_ground_truth/img_3': {'_type': 'image-file', 'sha256': '9f01e53f638eefb3a6847b5de3ab29ef6e9ed96e0181ce683cd2316e8e08fc81', 'size': 509, 'path': 'media/images/TRAIN_ground_truth/img_3_373_9f01e53f638eefb3a684.png', 'format': 'png', 'width': 24, 'height': 24, 'caption': 'Label 0'}, 'TRAIN_input/img_3': {'_type': 'image-file', 'sha256': '3eff80869591be375aaefaae5b330f7ca504d9f6a4db0ec8ec2c88077587bb8e', 'size': 577, 'path': 'media/images/TRAIN_input/img_3_373_3eff80869591be375aae.png', 'format': 'png', 'width': 24, 'height': 24, 'caption': 'Label 0'}, '_timestamp': 1716030067.8426483})."
     },
     "metadata": {},
     "output_type": "display_data"
    },
    {
     "data": {
      "text/plain": "<IPython.core.display.HTML object>",
      "text/html": "(User provided step: 372 is less than current step: 373. Dropping entry: {'TRAIN_predicted_image/img_4': {'_type': 'image-file', 'sha256': '65b5d8b160dd0f2bb0d571084f25905d373aa5b0a6c0128b192d674b8b118801', 'size': 369, 'path': 'media/images/TRAIN_predicted_image/img_4_373_65b5d8b160dd0f2bb0d5.png', 'format': 'png', 'width': 24, 'height': 24, 'caption': 'Label 5'}, 'TRAIN_ground_truth/img_4': {'_type': 'image-file', 'sha256': '6a1eee726ab3ed163498a8636506f9ccb1e43b06219e48dd1cdad5659d9e05f1', 'size': 336, 'path': 'media/images/TRAIN_ground_truth/img_4_373_6a1eee726ab3ed163498.png', 'format': 'png', 'width': 24, 'height': 24, 'caption': 'Label 5'}, 'TRAIN_input/img_4': {'_type': 'image-file', 'sha256': '29d7c7bd47563f5e3ad22b1651daad7150a147240942b10ca97cced5f0c9a87a', 'size': 365, 'path': 'media/images/TRAIN_input/img_4_373_29d7c7bd47563f5e3ad2.png', 'format': 'png', 'width': 24, 'height': 24, 'caption': 'Label 5'}, '_timestamp': 1716030067.8719206})."
     },
     "metadata": {},
     "output_type": "display_data"
    },
    {
     "data": {
      "text/plain": "<IPython.core.display.HTML object>",
      "text/html": "(User provided step: 372 is less than current step: 373. Dropping entry: {'TRAIN_predicted_image/img_5': {'_type': 'image-file', 'sha256': 'b21dcd852ca928126b92f35d2f6d048e855c18f7f8d4e05f8c24fc5f940c2a21', 'size': 243, 'path': 'media/images/TRAIN_predicted_image/img_5_373_b21dcd852ca928126b92.png', 'format': 'png', 'width': 24, 'height': 24, 'caption': 'Label 2'}, 'TRAIN_ground_truth/img_5': {'_type': 'image-file', 'sha256': '3843a611df0844f3f0a558a284d3a689a77643f2c0b31a3fcbff793b76face7c', 'size': 222, 'path': 'media/images/TRAIN_ground_truth/img_5_373_3843a611df0844f3f0a5.png', 'format': 'png', 'width': 24, 'height': 24, 'caption': 'Label 2'}, 'TRAIN_input/img_5': {'_type': 'image-file', 'sha256': '73b084cf0d8aba659738ec4efef0c7b609478a57dfd2e8142ed02b9aeca82223', 'size': 249, 'path': 'media/images/TRAIN_input/img_5_373_73b084cf0d8aba659738.png', 'format': 'png', 'width': 24, 'height': 24, 'caption': 'Label 2'}, '_timestamp': 1716030067.9068737})."
     },
     "metadata": {},
     "output_type": "display_data"
    },
    {
     "data": {
      "text/plain": "<IPython.core.display.HTML object>",
      "text/html": "(User provided step: 372 is less than current step: 373. Dropping entry: {'TRAIN_predicted_image/img_6': {'_type': 'image-file', 'sha256': '21e9413e268f09cc79a41cc3239070e32d88b73b74b377c8d20471ea15dc970d', 'size': 281, 'path': 'media/images/TRAIN_predicted_image/img_6_373_21e9413e268f09cc79a4.png', 'format': 'png', 'width': 24, 'height': 24, 'caption': 'Label 1'}, 'TRAIN_ground_truth/img_6': {'_type': 'image-file', 'sha256': '20d8fcb5da058941b1244402f08355556e568c89ac4c52d096492efe1b9e660e', 'size': 243, 'path': 'media/images/TRAIN_ground_truth/img_6_373_20d8fcb5da058941b124.png', 'format': 'png', 'width': 24, 'height': 24, 'caption': 'Label 1'}, 'TRAIN_input/img_6': {'_type': 'image-file', 'sha256': '9093b15cadb6d0599e05a81565864563b4c255d3fa8112797e576b05f2666b49', 'size': 270, 'path': 'media/images/TRAIN_input/img_6_373_9093b15cadb6d0599e05.png', 'format': 'png', 'width': 24, 'height': 24, 'caption': 'Label 1'}, '_timestamp': 1716030067.9382246})."
     },
     "metadata": {},
     "output_type": "display_data"
    },
    {
     "data": {
      "text/plain": "<IPython.core.display.HTML object>",
      "text/html": "(User provided step: 372 is less than current step: 373. Dropping entry: {'TRAIN_predicted_image/img_7': {'_type': 'image-file', 'sha256': 'b4b07442a22bb50339ce2b18edeca527fbf9cf42f4d2516a56bb84a3aa1464c0', 'size': 387, 'path': 'media/images/TRAIN_predicted_image/img_7_373_b4b07442a22bb50339ce.png', 'format': 'png', 'width': 24, 'height': 24, 'caption': 'Label 7'}, 'TRAIN_ground_truth/img_7': {'_type': 'image-file', 'sha256': '441a6f49aa9263999d6861f0ff0e6fe3f9d63b70b700ae840ff592f9abc318bc', 'size': 337, 'path': 'media/images/TRAIN_ground_truth/img_7_373_441a6f49aa9263999d68.png', 'format': 'png', 'width': 24, 'height': 24, 'caption': 'Label 7'}, 'TRAIN_input/img_7': {'_type': 'image-file', 'sha256': 'bea72646df73d9ddd11d5798369889cf484c46b66e4fb4f986054e105e15a3ff', 'size': 416, 'path': 'media/images/TRAIN_input/img_7_373_bea72646df73d9ddd11d.png', 'format': 'png', 'width': 24, 'height': 24, 'caption': 'Label 7'}, '_timestamp': 1716030067.9678926})."
     },
     "metadata": {},
     "output_type": "display_data"
    },
    {
     "data": {
      "text/plain": "<IPython.core.display.HTML object>",
      "text/html": "(User provided step: 372 is less than current step: 373. Dropping entry: {'TRAIN_predicted_image/img_8': {'_type': 'image-file', 'sha256': '35a209f1544becadb0b0e8fcceb7fbf6cd025f10e8df6353f22c06f7bf491907', 'size': 519, 'path': 'media/images/TRAIN_predicted_image/img_8_373_35a209f1544becadb0b0.png', 'format': 'png', 'width': 24, 'height': 24, 'caption': 'Label 4'}, 'TRAIN_ground_truth/img_8': {'_type': 'image-file', 'sha256': 'd2f85fdcdeda3285b3d5fe141b31571aaddaa10b21b9a739bc9adf3fde166d1e', 'size': 509, 'path': 'media/images/TRAIN_ground_truth/img_8_373_d2f85fdcdeda3285b3d5.png', 'format': 'png', 'width': 24, 'height': 24, 'caption': 'Label 4'}, 'TRAIN_input/img_8': {'_type': 'image-file', 'sha256': '2b89df973dd51340cf84c16097d9ade9b84e474e36bec3ef54fa93650232b9c3', 'size': 534, 'path': 'media/images/TRAIN_input/img_8_373_2b89df973dd51340cf84.png', 'format': 'png', 'width': 24, 'height': 24, 'caption': 'Label 4'}, '_timestamp': 1716030068.0071347})."
     },
     "metadata": {},
     "output_type": "display_data"
    },
    {
     "data": {
      "text/plain": "<IPython.core.display.HTML object>",
      "text/html": "(User provided step: 372 is less than current step: 373. Dropping entry: {'TRAIN_predicted_image/img_9': {'_type': 'image-file', 'sha256': '80f1cc72b3af9c6428033577715683e1f71ca8929a1f941054ac4d3c8ae9d907', 'size': 534, 'path': 'media/images/TRAIN_predicted_image/img_9_373_80f1cc72b3af9c642803.png', 'format': 'png', 'width': 24, 'height': 24, 'caption': 'Label 0'}, 'TRAIN_ground_truth/img_9': {'_type': 'image-file', 'sha256': '2fe69b92ca2f415950da8a5791f2f4a9e338d936a3ec63000338f97e2858b3a2', 'size': 532, 'path': 'media/images/TRAIN_ground_truth/img_9_373_2fe69b92ca2f415950da.png', 'format': 'png', 'width': 24, 'height': 24, 'caption': 'Label 0'}, 'TRAIN_input/img_9': {'_type': 'image-file', 'sha256': '6531d7c536c41793b7d74c2e8f61275ac6019b9d7e61b98dd4f0f170403db439', 'size': 564, 'path': 'media/images/TRAIN_input/img_9_373_6531d7c536c41793b7d7.png', 'format': 'png', 'width': 24, 'height': 24, 'caption': 'Label 0'}, '_timestamp': 1716030068.046353})."
     },
     "metadata": {},
     "output_type": "display_data"
    },
    {
     "data": {
      "text/plain": "<IPython.core.display.HTML object>",
      "text/html": "(User provided step: 465 is less than current step: 466. Dropping entry: {'TRAIN_predicted_image/img_0': {'_type': 'image-file', 'sha256': '8fabd6666ffedfb910a886770c3b93b8e2e143969e85c4601c62c1bdcaf5273a', 'size': 438, 'path': 'media/images/TRAIN_predicted_image/img_0_466_8fabd6666ffedfb910a8.png', 'format': 'png', 'width': 24, 'height': 24, 'caption': 'Label 4'}, 'TRAIN_ground_truth/img_0': {'_type': 'image-file', 'sha256': 'e5177a2ed1fba1b00b42757474730842982709efd19450a63af669e255f860e8', 'size': 398, 'path': 'media/images/TRAIN_ground_truth/img_0_466_e5177a2ed1fba1b00b42.png', 'format': 'png', 'width': 24, 'height': 24, 'caption': 'Label 4'}, 'TRAIN_input/img_0': {'_type': 'image-file', 'sha256': 'bdb4eb40988eaddc4463293e46bf6d2bc4ff10313912356d58c48330dff74199', 'size': 447, 'path': 'media/images/TRAIN_input/img_0_466_bdb4eb40988eaddc4463.png', 'format': 'png', 'width': 24, 'height': 24, 'caption': 'Label 4'}, '_timestamp': 1716030079.830045})."
     },
     "metadata": {},
     "output_type": "display_data"
    },
    {
     "data": {
      "text/plain": "<IPython.core.display.HTML object>",
      "text/html": "(User provided step: 465 is less than current step: 466. Dropping entry: {'TRAIN_predicted_image/img_1': {'_type': 'image-file', 'sha256': '6ba11886a9b9d21ea25985f7bf6a9a3762401dbdbbefa439099567f93ce5f6ab', 'size': 327, 'path': 'media/images/TRAIN_predicted_image/img_1_466_6ba11886a9b9d21ea259.png', 'format': 'png', 'width': 24, 'height': 24, 'caption': 'Label 7'}, 'TRAIN_ground_truth/img_1': {'_type': 'image-file', 'sha256': 'cb38cf3fa8bcea116809bc6788ba29472b33928e3d006bae7cc09704a88b9fa3', 'size': 306, 'path': 'media/images/TRAIN_ground_truth/img_1_466_cb38cf3fa8bcea116809.png', 'format': 'png', 'width': 24, 'height': 24, 'caption': 'Label 7'}, 'TRAIN_input/img_1': {'_type': 'image-file', 'sha256': '5d6a41f3e4b4c07a2b1c123007343a363003abd3c89ec110564466789f07b52f', 'size': 341, 'path': 'media/images/TRAIN_input/img_1_466_5d6a41f3e4b4c07a2b1c.png', 'format': 'png', 'width': 24, 'height': 24, 'caption': 'Label 7'}, '_timestamp': 1716030079.8627741})."
     },
     "metadata": {},
     "output_type": "display_data"
    },
    {
     "data": {
      "text/plain": "<IPython.core.display.HTML object>",
      "text/html": "(User provided step: 465 is less than current step: 466. Dropping entry: {'TRAIN_predicted_image/img_2': {'_type': 'image-file', 'sha256': '04988c97840c306a7632c7c6ad5835e1d0c7bd52976d3b28ec79c85dd9e477cd', 'size': 532, 'path': 'media/images/TRAIN_predicted_image/img_2_466_04988c97840c306a7632.png', 'format': 'png', 'width': 24, 'height': 24, 'caption': 'Label 0'}, 'TRAIN_ground_truth/img_2': {'_type': 'image-file', 'sha256': 'e26bae9de20fed995f5bdd3ea5d76e93082edb3d1183fdd1e4b3bc85c02daa50', 'size': 525, 'path': 'media/images/TRAIN_ground_truth/img_2_466_e26bae9de20fed995f5b.png', 'format': 'png', 'width': 24, 'height': 24, 'caption': 'Label 0'}, 'TRAIN_input/img_2': {'_type': 'image-file', 'sha256': '28b4532811935ac893790338f09f60c585f1197eb60e3c06b14928594f8af342', 'size': 571, 'path': 'media/images/TRAIN_input/img_2_466_28b4532811935ac89379.png', 'format': 'png', 'width': 24, 'height': 24, 'caption': 'Label 0'}, '_timestamp': 1716030079.8828819})."
     },
     "metadata": {},
     "output_type": "display_data"
    },
    {
     "data": {
      "text/plain": "<IPython.core.display.HTML object>",
      "text/html": "(User provided step: 465 is less than current step: 466. Dropping entry: {'TRAIN_predicted_image/img_3': {'_type': 'image-file', 'sha256': '294f7d12659c12995d45854329fceaef954d2181d83027a7e5a84325ebf4d108', 'size': 319, 'path': 'media/images/TRAIN_predicted_image/img_3_466_294f7d12659c12995d45.png', 'format': 'png', 'width': 24, 'height': 24, 'caption': 'Label 2'}, 'TRAIN_ground_truth/img_3': {'_type': 'image-file', 'sha256': '5872cdd3237746f39d1493e56745792661fdb83015537855544537e550b5e762', 'size': 285, 'path': 'media/images/TRAIN_ground_truth/img_3_466_5872cdd3237746f39d14.png', 'format': 'png', 'width': 24, 'height': 24, 'caption': 'Label 2'}, 'TRAIN_input/img_3': {'_type': 'image-file', 'sha256': 'b356bd1467ce8064c296103438c40045f4be0e1842c07578ec04c749ce76e29a', 'size': 343, 'path': 'media/images/TRAIN_input/img_3_466_b356bd1467ce8064c296.png', 'format': 'png', 'width': 24, 'height': 24, 'caption': 'Label 2'}, '_timestamp': 1716030079.9061182})."
     },
     "metadata": {},
     "output_type": "display_data"
    },
    {
     "data": {
      "text/plain": "<IPython.core.display.HTML object>",
      "text/html": "(User provided step: 465 is less than current step: 466. Dropping entry: {'TRAIN_predicted_image/img_4': {'_type': 'image-file', 'sha256': 'ed51014d170185952e6ffcb4a0b0db964b2127c09233837f606dde85793425c1', 'size': 382, 'path': 'media/images/TRAIN_predicted_image/img_4_466_ed51014d170185952e6f.png', 'format': 'png', 'width': 24, 'height': 24, 'caption': 'Label 2'}, 'TRAIN_ground_truth/img_4': {'_type': 'image-file', 'sha256': '1fbba1460a6636465518679ac4bde5dec4605f6ba96e7cf995880bbc2097e453', 'size': 357, 'path': 'media/images/TRAIN_ground_truth/img_4_466_1fbba1460a6636465518.png', 'format': 'png', 'width': 24, 'height': 24, 'caption': 'Label 2'}, 'TRAIN_input/img_4': {'_type': 'image-file', 'sha256': 'ac318e306109f726a341a175676dd550784c028df7cd6fad2ca9753b05f2e4e5', 'size': 405, 'path': 'media/images/TRAIN_input/img_4_466_ac318e306109f726a341.png', 'format': 'png', 'width': 24, 'height': 24, 'caption': 'Label 2'}, '_timestamp': 1716030079.9261875})."
     },
     "metadata": {},
     "output_type": "display_data"
    },
    {
     "data": {
      "text/plain": "<IPython.core.display.HTML object>",
      "text/html": "(User provided step: 465 is less than current step: 466. Dropping entry: {'TRAIN_predicted_image/img_5': {'_type': 'image-file', 'sha256': '46f200ceb902522952258f41894dd3b0dc0b9e583a014a6340faf043508ff17c', 'size': 378, 'path': 'media/images/TRAIN_predicted_image/img_5_466_46f200ceb90252295225.png', 'format': 'png', 'width': 24, 'height': 24, 'caption': 'Label 2'}, 'TRAIN_ground_truth/img_5': {'_type': 'image-file', 'sha256': '962e3645c137b84df5e27be9c67ddbf280df1bb4ac97ede93cd6eaf84c8d79f0', 'size': 345, 'path': 'media/images/TRAIN_ground_truth/img_5_466_962e3645c137b84df5e2.png', 'format': 'png', 'width': 24, 'height': 24, 'caption': 'Label 2'}, 'TRAIN_input/img_5': {'_type': 'image-file', 'sha256': '36da154d39e4aeacb7ff8844b46f4c92dffd3f744a75e3b05a407d66529d6193', 'size': 381, 'path': 'media/images/TRAIN_input/img_5_466_36da154d39e4aeacb7ff.png', 'format': 'png', 'width': 24, 'height': 24, 'caption': 'Label 2'}, '_timestamp': 1716030079.9565496})."
     },
     "metadata": {},
     "output_type": "display_data"
    },
    {
     "data": {
      "text/plain": "<IPython.core.display.HTML object>",
      "text/html": "(User provided step: 465 is less than current step: 466. Dropping entry: {'TRAIN_predicted_image/img_6': {'_type': 'image-file', 'sha256': '08ef0047fe3fb5d13c66dc46c3dd46913409defa7dd60162cf2fccbbb65b25b1', 'size': 532, 'path': 'media/images/TRAIN_predicted_image/img_6_466_08ef0047fe3fb5d13c66.png', 'format': 'png', 'width': 24, 'height': 24, 'caption': 'Label 0'}, 'TRAIN_ground_truth/img_6': {'_type': 'image-file', 'sha256': 'ef71653789fe40913ca3024674957b4b863513b8b88246e5b940e68d7322a2cb', 'size': 528, 'path': 'media/images/TRAIN_ground_truth/img_6_466_ef71653789fe40913ca3.png', 'format': 'png', 'width': 24, 'height': 24, 'caption': 'Label 0'}, 'TRAIN_input/img_6': {'_type': 'image-file', 'sha256': '3de3fe5a5c10dcccfc96f727ee2005f733fc66932cba74db06b870a11b1d0be3', 'size': 596, 'path': 'media/images/TRAIN_input/img_6_466_3de3fe5a5c10dcccfc96.png', 'format': 'png', 'width': 24, 'height': 24, 'caption': 'Label 0'}, '_timestamp': 1716030079.9859447})."
     },
     "metadata": {},
     "output_type": "display_data"
    },
    {
     "data": {
      "text/plain": "<IPython.core.display.HTML object>",
      "text/html": "(User provided step: 465 is less than current step: 466. Dropping entry: {'TRAIN_predicted_image/img_7': {'_type': 'image-file', 'sha256': '4e9c8959df4e286acd7c5d10f9228491e3ebc2e3ecc64d4a22f454d84a0ef6b8', 'size': 263, 'path': 'media/images/TRAIN_predicted_image/img_7_466_4e9c8959df4e286acd7c.png', 'format': 'png', 'width': 24, 'height': 24, 'caption': 'Label 6'}, 'TRAIN_ground_truth/img_7': {'_type': 'image-file', 'sha256': 'ba6668034d37956cec8e93f423f9624d5dec50c5f0b60dc2a0bc274f327fc357', 'size': 269, 'path': 'media/images/TRAIN_ground_truth/img_7_466_ba6668034d37956cec8e.png', 'format': 'png', 'width': 24, 'height': 24, 'caption': 'Label 6'}, 'TRAIN_input/img_7': {'_type': 'image-file', 'sha256': '64d3ee16d262b2f8b8b0b09e95eec944f928635d02f38ed2cb5a452af0328732', 'size': 289, 'path': 'media/images/TRAIN_input/img_7_466_64d3ee16d262b2f8b8b0.png', 'format': 'png', 'width': 24, 'height': 24, 'caption': 'Label 6'}, '_timestamp': 1716030080.0112946})."
     },
     "metadata": {},
     "output_type": "display_data"
    },
    {
     "data": {
      "text/plain": "<IPython.core.display.HTML object>",
      "text/html": "(User provided step: 465 is less than current step: 466. Dropping entry: {'TRAIN_predicted_image/img_8': {'_type': 'image-file', 'sha256': 'e682f078089a52ab99b4089e307648864bef7b22d4bcf9ca6662a57875565774', 'size': 421, 'path': 'media/images/TRAIN_predicted_image/img_8_466_e682f078089a52ab99b4.png', 'format': 'png', 'width': 24, 'height': 24, 'caption': 'Label 4'}, 'TRAIN_ground_truth/img_8': {'_type': 'image-file', 'sha256': 'ba1af59a00746063fae5aea4f6b7d2c40fbac26a05c61a833e1d4ea6dc30a4fa', 'size': 400, 'path': 'media/images/TRAIN_ground_truth/img_8_466_ba1af59a00746063fae5.png', 'format': 'png', 'width': 24, 'height': 24, 'caption': 'Label 4'}, 'TRAIN_input/img_8': {'_type': 'image-file', 'sha256': '3e776147284bc3615ded1eeb1a5d560e6a925fe20e3219f0a18a63873a2e1bd0', 'size': 440, 'path': 'media/images/TRAIN_input/img_8_466_3e776147284bc3615ded.png', 'format': 'png', 'width': 24, 'height': 24, 'caption': 'Label 4'}, '_timestamp': 1716030080.0392973})."
     },
     "metadata": {},
     "output_type": "display_data"
    },
    {
     "data": {
      "text/plain": "<IPython.core.display.HTML object>",
      "text/html": "(User provided step: 465 is less than current step: 466. Dropping entry: {'TRAIN_predicted_image/img_9': {'_type': 'image-file', 'sha256': 'fe6ef7e99733b8b3a51acaa6ff9ed64b354898ce2c5031c751cffb0580b6a5c9', 'size': 384, 'path': 'media/images/TRAIN_predicted_image/img_9_466_fe6ef7e99733b8b3a51a.png', 'format': 'png', 'width': 24, 'height': 24, 'caption': 'Label 3'}, 'TRAIN_ground_truth/img_9': {'_type': 'image-file', 'sha256': 'f6b16b3dca428385c87d35a681fbea5b1e78ff3f5a160df3fa0b507cb02c68e1', 'size': 374, 'path': 'media/images/TRAIN_ground_truth/img_9_466_f6b16b3dca428385c87d.png', 'format': 'png', 'width': 24, 'height': 24, 'caption': 'Label 3'}, 'TRAIN_input/img_9': {'_type': 'image-file', 'sha256': '07244a29087d30b9eba6003ac50ed1d0b437515f5c961e1fbda5f39d72896ffb', 'size': 415, 'path': 'media/images/TRAIN_input/img_9_466_07244a29087d30b9eba6.png', 'format': 'png', 'width': 24, 'height': 24, 'caption': 'Label 3'}, '_timestamp': 1716030080.0662198})."
     },
     "metadata": {},
     "output_type": "display_data"
    }
   ],
   "source": [
    "# Initialize the model\n",
    "model = SinkhornConvNet(in_channels=h['in_channels'],\n",
    "                        num_pieces=h['num_pieces'],\n",
    "                        image_size=h['image_size'],\n",
    "                        hidden_channels=h['hidden_channels'],\n",
    "                        kernel_size=h['kernel_size'],\n",
    "                        tau=h['tau'],\n",
    "                        n_sink_iter=h['n_sink_iter'])\n",
    "\n",
    "if train:\n",
    "    if use_wandb:\n",
    "        date_identifier = datetime.datetime.now().strftime(\"%Y%m%d-%H%M%S\")\n",
    "        wandb_logger = WandbLogger()\n",
    "        wandb.init(project='sinkhorn_netw', config=h, entity='oboii',\n",
    "                   name=f'{h[\"dataset\"]}_{h[\"num_pieces\"]}_pieces_{date_identifier}')\n",
    "\n",
    "    trainer = pl.Trainer(\n",
    "        max_epochs=h['epochs'],\n",
    "        callbacks=[CustomCallbacks(plot_every_n_epoch=1, num_pieces=h['num_pieces'], wandb_logger=wandb_logger)],\n",
    "        logger=wandb_logger,\n",
    "        limit_train_batches=h['dataset_percent'],\n",
    "        limit_val_batches=h['dataset_percent'],\n",
    "        limit_test_batches=h['dataset_percent'])\n",
    "\n",
    "    # Train the model\n",
    "    trainer.fit(model, train_loader, val_dataloaders=test_loader)\n",
    "\n",
    "    # Save the model\n",
    "    torch.save(model.state_dict(), os.path.join(h['checkpoint_path'], 'model.pth'))\n",
    "\n",
    "    # Finish the run if we it was running\n",
    "    if wandb.run is not None:\n",
    "        wandb.finish()\n"
   ],
   "metadata": {
    "collapsed": false,
    "ExecuteTime": {
     "end_time": "2024-05-18T11:01:25.946909100Z",
     "start_time": "2024-05-18T11:00:00.716009900Z"
    }
   },
   "id": "9614d75c960f9ff8"
  },
  {
   "cell_type": "code",
   "execution_count": 33,
   "outputs": [
    {
     "data": {
      "text/plain": "<Figure size 400x400 with 64 Axes>",
      "image/png": "[encoded data removed]"
     },
     "metadata": {},
     "output_type": "display_data"
    },
    {
     "data": {
      "text/plain": "<Figure size 400x400 with 64 Axes>",
      "image/png": "[encoded data removed]"
     },
     "metadata": {},
     "output_type": "display_data"
    },
    {
     "data": {
      "text/plain": "<Figure size 400x400 with 64 Axes>",
      "image/png": "[encoded data removed]"
     },
     "metadata": {},
     "output_type": "display_data"
    }
   ],
   "source": [
    "model.load_state_dict(torch.load(f\"{h['checkpoint_path']}/model.pth\"))\n",
    "\n",
    "image_batch, _ = next(iter(test_loader))\n",
    "pieces, random_pieces, perm_list = batch_chunk_image(image_batch, h['num_pieces'])\n",
    "# pieces, random_pieces = pieces.to(device), random_pieces.to(device)\n",
    "\n",
    "# Make sure we are evaluating!\n",
    "model.eval()\n",
    "\n",
    "# Predict the correctly ordered pieces.\n",
    "predicted_pieces, _ = model(random_pieces)\n",
    "\n",
    "# Select an image from the batch.\n",
    "batch_idx = 3\n",
    "\n",
    "# Plot the original scrambed image.\n",
    "figs, axs = plt.subplots(h['num_pieces'], h['num_pieces'], figsize=(4, 4), sharex=True, sharey=True)\n",
    "# remove x, y ticks\n",
    "for ax in axs.flatten():\n",
    "    ax.set_xticks([])\n",
    "    ax.set_yticks([])\n",
    "for idx, piece in enumerate(random_pieces[batch_idx]):\n",
    "    axs[idx // h['num_pieces'], idx % h['num_pieces']].imshow(piece.cpu().squeeze())\n",
    "plt.subplots_adjust(wspace=0, hspace=0)\n",
    "plt.show()\n",
    "\n",
    "# Plot the predicted reconstructed image.\n",
    "figs, axs = plt.subplots(h['num_pieces'], h['num_pieces'], figsize=(4, 4), sharex=True, sharey=True)\n",
    "# remove x, y ticks\n",
    "for ax in axs.flatten():\n",
    "    ax.set_xticks([])\n",
    "    ax.set_yticks([])\n",
    "\n",
    "for idx, piece in enumerate(predicted_pieces[batch_idx]):\n",
    "    axs[idx // h['num_pieces'], idx % h['num_pieces']].imshow(piece.cpu().squeeze())\n",
    "plt.subplots_adjust(wspace=0, hspace=0)\n",
    "plt.show()\n",
    "\n",
    "# Plot the ground truth image.\n",
    "figs, axs = plt.subplots(h['num_pieces'], h['num_pieces'], figsize=(4, 4), sharex=True, sharey=True)\n",
    "# remove x, y ticks\n",
    "for ax in axs.flatten():\n",
    "    ax.set_xticks([])\n",
    "    ax.set_yticks([])\n",
    "\n",
    "for idx, piece in enumerate(pieces[batch_idx]):\n",
    "    axs[idx // h['num_pieces'], idx % h['num_pieces']].imshow(piece.cpu().squeeze())\n",
    "plt.subplots_adjust(wspace=0, hspace=0)\n",
    "plt.show()\n"
   ],
   "metadata": {
    "collapsed": false,
    "ExecuteTime": {
     "end_time": "2024-05-18T11:01:30.756231800Z",
     "start_time": "2024-05-18T11:01:25.944299500Z"
    }
   },
   "id": "40261faf2ede3575"
  },
  {
   "cell_type": "code",
   "execution_count": 33,
   "outputs": [],
   "source": [],
   "metadata": {
    "collapsed": false,
    "ExecuteTime": {
     "end_time": "2024-05-18T11:01:30.761130600Z",
     "start_time": "2024-05-18T11:01:30.755694100Z"
    }
   },
   "id": "628a377030e96d13"
  }
 ],
 "metadata": {
  "kernelspec": {
   "display_name": "Python 3",
   "language": "python",
   "name": "python3"
  },
  "language_info": {
   "codemirror_mode": {
    "name": "ipython",
    "version": 2
   },
   "file_extension": ".py",
   "mimetype": "text/x-python",
   "name": "python",
   "nbconvert_exporter": "python",
   "pygments_lexer": "ipython2",
   "version": "2.7.6"
  }
 },
 "nbformat": 4,
 "nbformat_minor": 5
}
