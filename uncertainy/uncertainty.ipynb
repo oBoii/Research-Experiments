{
 "cells": [
  {
   "cell_type": "code",
   "id": "initial_id",
   "metadata": {
    "collapsed": true,
    "jupyter": {
     "outputs_hidden": true,
     "is_executing": true
    }
   },
   "source": [
    "import argparse\n",
    "import datetime\n",
    "import os\n",
    "import sys\n",
    "\n",
    "import matplotlib.pyplot as plt\n",
    "import torch\n",
    "import wandb\n",
    "from pytorch_lightning.loggers import WandbLogger\n",
    "from torch import nn\n",
    "from typing import Tuple\n",
    "import lightning as L\n",
    "from uncertainy.radio import get_radio_data_loaders\n",
    "from shared.data_module import DataModule\n",
    "from uncertainy.toy_regression import get_toy_regression_data_loaders\n",
    "\n",
    "torch.set_float32_matmul_precision('medium')\n",
    "device = torch.device(\"cuda:0\") if torch.cuda.is_available() else torch.device(\"cpu\")"
   ],
   "outputs": [],
   "execution_count": null
  },
  {
   "metadata": {
    "ExecuteTime": {
     "end_time": "2024-07-30T13:28:05.273733Z",
     "start_time": "2024-07-30T13:28:05.257883Z"
    }
   },
   "cell_type": "code",
   "source": [
    "h = {  # hyperparameters\n",
    "    'dataset': 'TOY_REGRESSION',  #'TOY_REGRESSION', 'RADIO',\n",
    "    'dataset_path': '../data/',\n",
    "\n",
    "    'in_channels': 2,\n",
    "    'hidden_channels': 32,\n",
    "    'epochs': 2,\n",
    "    'learning_rate': 1e-4,\n",
    "    'checkpoint_path': './saved_models',\n",
    "    'batch_size': 32,\n",
    "    'num_workers': 4,\n",
    "\n",
    "    'limit_train_batches': 1.0,\n",
    "    'limit_val_batches': 1.0,\n",
    "    'limit_test_batches': 1.0,\n",
    "\n",
    "    'use_wandb': False,\n",
    "    'wandb_project': 'uncertainty',\n",
    "    'wandb_entity': 'oBoii',\n",
    "    'wandb_name': 'radio',\n",
    "\n",
    "    'train': True,  # Set this to false if you only want to evaluate the model\n",
    "    'fast_dev_run': True,\n",
    "    'overfit_batches': 0.0\n",
    "}"
   ],
   "id": "2872261e06ec0e70",
   "outputs": [],
   "execution_count": 2
  },
  {
   "metadata": {
    "ExecuteTime": {
     "end_time": "2024-07-30T13:28:05.289535Z",
     "start_time": "2024-07-30T13:28:05.273733Z"
    }
   },
   "cell_type": "code",
   "source": [
    "# Check if the script is being run in a Jupyter notebook\n",
    "if 'ipykernel' not in sys.modules:\n",
    "    # Parse command-line arguments\n",
    "    parser = argparse.ArgumentParser()\n",
    "    for key, value in h.items():\n",
    "        if isinstance(value, bool):\n",
    "            parser.add_argument(f'--{key}', type=bool, default=value)\n",
    "        elif isinstance(value, int):\n",
    "            parser.add_argument(f'--{key}', type=int, default=value)\n",
    "        elif isinstance(value, float):\n",
    "            parser.add_argument(f'--{key}', type=float, default=value)\n",
    "        else:  # for str and potentially other types\n",
    "            parser.add_argument(f'--{key}', type=type(value), default=value)\n",
    "    args = parser.parse_args()\n",
    "\n",
    "    # Overwrite the default hyperparameters with the command-line arguments\n",
    "    h.update(vars(args))\n",
    "\n",
    "# In terminal, run:\n",
    "# python main.py --model SinkhornConvNetV2 --epochs 30"
   ],
   "id": "782efec0071d7437",
   "outputs": [],
   "execution_count": 3
  },
  {
   "cell_type": "code",
   "source": [
    "# if h['model'] == 'Sink':\n",
    "#     SinkhornConvNet = SinkhornConvNetV1\n",
    "# elif h['model'] == 'SinkV2':\n",
    "#     SinkhornConvNet = SinkhornConvNetV2\n",
    "# elif h['model'] == 'SinkV3':\n",
    "#     SinkhornConvNet = SinkhornConvNetV3\n",
    "# else:\n",
    "#     raise ValueError(f\"Unknown model: {h['model']}\")\n",
    "\n",
    "\n",
    "class SimpleNet(L.LightningModule):\n",
    "    def __init__(self):\n",
    "        super(SimpleNet, self).__init__()\n",
    "        hidden_size = 64\n",
    "\n",
    "        self.fc1 = nn.Linear(1, hidden_size)\n",
    "        self.fc2 = nn.Linear(hidden_size, hidden_size)\n",
    "        self.mu = nn.Linear(hidden_size, 1)\n",
    "        self.var = nn.Linear(hidden_size, 1)\n",
    "\n",
    "        # negative log likelihood\n",
    "        self.NLL = torch.nn.GaussianNLLLoss(eps=1e-02)\n",
    "\n",
    "    def forward(self, x) -> Tuple[torch.Tensor, torch.Tensor]:\n",
    "        h = torch.relu(self.fc1(x))\n",
    "        h = torch.relu(self.fc2(h))\n",
    "        mu = self.mu(h)\n",
    "        var = torch.exp(self.var(h))\n",
    "        return mu, var\n",
    "\n",
    "    def training_step(self, batch, batch_idx):\n",
    "        x, y = batch\n",
    "        print(x.shape)\n",
    "        print(y.shape)\n",
    "        mu, var = self.forward(x)\n",
    "        loss = self.NLL(mu, y, var)  # strange order of arguments but it is what it is\n",
    "        return loss\n",
    "\n",
    "    def validation_step(self, batch, batch_idx):\n",
    "        x, y = batch\n",
    "        mu, var = self.forward(x)\n",
    "        loss = self.NLL(mu, y, var)\n",
    "        return loss\n",
    "\n",
    "    def test_step(self, batch, batch_idx):\n",
    "        x, y = batch\n",
    "        mu, var = self.forward(x)\n",
    "        loss = self.NLL(mu, y, var)\n",
    "        return loss\n",
    "\n",
    "    def configure_optimizers(self):\n",
    "        return torch.optim.Adam(self.parameters(), lr=1e-3)\n",
    "\n",
    "    def save(self) -> None:\n",
    "        os.makedirs(h['checkpoint_path'], exist_ok=True)\n",
    "        torch.save(self.state_dict(), os.path.join(h['checkpoint_path'], 'model.pth'))\n",
    "\n",
    "    def load(self) -> 'SimpleNet':\n",
    "        self.load_state_dict(torch.load(os.path.join(h['checkpoint_path'], 'model.pth')))\n",
    "        self.eval()\n",
    "        return self\n"
   ],
   "metadata": {
    "collapsed": false,
    "ExecuteTime": {
     "end_time": "2024-07-30T13:28:05.305480Z",
     "start_time": "2024-07-30T13:28:05.289535Z"
    }
   },
   "id": "b515de4dbeeb21c9",
   "outputs": [],
   "execution_count": 4
  },
  {
   "cell_type": "code",
   "id": "39e7deae86e70d1d",
   "metadata": {
    "collapsed": false,
    "ExecuteTime": {
     "end_time": "2024-07-30T13:28:07.106133Z",
     "start_time": "2024-07-30T13:28:05.306985Z"
    }
   },
   "source": [
    "if h['dataset'] == 'RADIO':\n",
    "    train_loader, val_loader, test_loader = get_radio_data_loaders(\n",
    "        all_datasets_path=h['dataset_path'],\n",
    "        batch_size=h['batch_size'],\n",
    "        num_workers=h['num_workers'])\n",
    "elif h['dataset'] == 'TOY_REGRESSION':\n",
    "    train_loader, val_loader, test_loader = get_toy_regression_data_loaders(\n",
    "        batch_size=h['batch_size'],\n",
    "        num_workers=h['num_workers'],\n",
    "        num_points=500)\n",
    "\n",
    "    x, y = next(iter(test_loader))\n",
    "    plt.scatter(x, y)\n",
    "    # x ticks\n",
    "    plt.xticks(fontsize=10)\n",
    "    plt.show()\n",
    "\n",
    "else:\n",
    "    raise ValueError(f\"Unknown dataset: {h['dataset']}\")\n",
    "\n",
    "datamodule = DataModule(train_loader, val_loader, test_loader)"
   ],
   "outputs": [
    {
     "name": "stdout",
     "output_type": "stream",
     "text": [
      "Train loader shape: 350\n",
      "Val loader shape: 75\n",
      "Test loader shape: 75\n"
     ]
    },
    {
     "data": {
      "text/plain": [
       "<Figure size 640x480 with 1 Axes>"
      ],
      "image/png": "[encoded data removed]"
     },
     "metadata": {},
     "output_type": "display_data"
    }
   ],
   "execution_count": 5
  },
  {
   "cell_type": "code",
   "id": "72ca7ac9073ef3ea",
   "metadata": {
    "collapsed": false,
    "ExecuteTime": {
     "end_time": "2024-07-30T13:28:07.116919Z",
     "start_time": "2024-07-30T13:28:07.106640Z"
    }
   },
   "source": [
    "class CustomCallbacks(L.Callback):\n",
    "    pass\n",
    "\n",
    "#     def __init__(self, plot_every_n_epoch, num_pieces, wandb_logger: WandbLogger):\n",
    "#         super().__init__()\n",
    "#         self.plot_every_n_epoch = plot_every_n_epoch\n",
    "#         self.num_pieces = num_pieces\n",
    "#         self.wandb_logger = wandb_logger\n",
    "# \n",
    "#     def assemble_image(self, pieces):\n",
    "#         # pieces: [num_pieces, channels, height // num_pieces, width // num_pieces]\n",
    "#         num_pieces, channels, piece_height, piece_width = pieces.shape\n",
    "#         num_pieces_side = int(num_pieces ** 0.5)\n",
    "# \n",
    "#         # Reshape to [num_pieces_side, num_pieces_side, channels, piece_height, piece_width]\n",
    "#         pieces = pieces.view(num_pieces_side, num_pieces_side, channels, piece_height, piece_width)\n",
    "# \n",
    "#         # Permute to [channels, num_pieces_side, piece_height, num_pieces_side, piece_width]\n",
    "#         pieces = pieces.permute(2, 0, 3, 1, 4)\n",
    "# \n",
    "#         # Reshape to [channels, height, width]\n",
    "#         image = pieces.contiguous().view(channels, num_pieces_side * piece_height, num_pieces_side * piece_width)\n",
    "# \n",
    "#         return image\n",
    "# \n",
    "#     def log_images(self, trainer, pl_module, loader, prefix):\n",
    "#         if (trainer.current_epoch % self.plot_every_n_epoch == 0) or (trainer.current_epoch == h['epochs'] - 1):\n",
    "#             pl_module.eval()\n",
    "#             image_batch, label_batch = next(iter(loader))\n",
    "#             pieces, random_pieces, _ = batch_chunk_image(image_batch, self.num_pieces)\n",
    "#             pieces, random_pieces = pieces.to(pl_module.device), random_pieces.to(pl_module.device)\n",
    "# \n",
    "#             ordered_pieces, permutation_matrices = pl_module(random_pieces)\n",
    "#             # Assemble the pieces into a single image before logging\n",
    "#             nb_ims = min(ordered_pieces.shape[0], 10)\n",
    "#             for i in range(nb_ims):\n",
    "#                 initial_image = self.assemble_image(random_pieces[i])\n",
    "#                 ordered_image = self.assemble_image(ordered_pieces[i])\n",
    "#                 ground_truth_image = self.assemble_image(pieces[i])\n",
    "# \n",
    "#                 # log to wandb\n",
    "#                 self.wandb_logger.experiment.log(\n",
    "#                     {f\"{prefix}_predicted_image/img_{i}\": wandb.Image(ordered_image.cpu().squeeze(),\n",
    "#                                                                       caption=f\"Label {label_batch[i]}\"),\n",
    "#                      f\"{prefix}_ground_truth/img_{i}\": wandb.Image(ground_truth_image.cpu().squeeze(),\n",
    "#                                                                    caption=f\"Label {label_batch[i]}\"),\n",
    "#                      f\"{prefix}_input/img_{i}\": wandb.Image(initial_image.cpu().squeeze(),\n",
    "#                                                             caption=f\"Label {label_batch[i]}\")},\n",
    "#                     step=trainer.global_step)\n",
    "# \n",
    "#             pl_module.train()\n",
    "# \n",
    "#     def on_train_epoch_end(self, trainer: pl.Trainer, pl_module: SinkhornConvNet):\n",
    "#         self.log_images(trainer, pl_module, train_loader, \"TRAIN\")\n",
    "# \n",
    "#     def on_validation_epoch_end(self, trainer: pl.Trainer, pl_module: SinkhornConvNet):\n",
    "#         pass\n",
    "# \n",
    "#     def on_train_end(self, trainer, pl_module):\n",
    "#         self.log_images(trainer, pl_module, test_loader, \"TEST_SET_train_end\")\n"
   ],
   "outputs": [],
   "execution_count": 6
  },
  {
   "cell_type": "code",
   "id": "9614d75c960f9ff8",
   "metadata": {
    "collapsed": false,
    "ExecuteTime": {
     "end_time": "2024-07-30T13:28:13.322455Z",
     "start_time": "2024-07-30T13:28:07.117908Z"
    }
   },
   "source": [
    "# Initialize the model\n",
    "model = SimpleNet()\n",
    "if h['train']:\n",
    "    if h['use_wandb']:\n",
    "        date_identifier = datetime.datetime.now().strftime(\"%Y%m%d-%H%M%S\")\n",
    "        wandb_logger = WandbLogger()\n",
    "        wandb.init(project=h['wandb_project'],\n",
    "                   config=h,\n",
    "                   entity=h['wandb_entity'],\n",
    "                   name=h['wandb_name'])\n",
    "\n",
    "    trainer = L.Trainer(\n",
    "        max_epochs=h['epochs'],\n",
    "        # callbacks=[CustomCallbacks(plot_every_n_epoch=1, num_pieces=h['num_pieces'],\n",
    "        #                            wandb_logger=wandb_logger)] if h['use_wandb'] else None,\n",
    "        # logger=wandb_logger if h['use_wandb'] else None,\n",
    "        limit_train_batches=h['limit_train_batches'],\n",
    "        limit_val_batches=h['limit_val_batches'],\n",
    "        limit_test_batches=h['limit_test_batches'],\n",
    "        fast_dev_run=h['fast_dev_run'],\n",
    "        overfit_batches=h['overfit_batches'])\n",
    "\n",
    "    # Train the model\n",
    "    trainer.fit(model, datamodule)\n",
    "    model.save()\n",
    "\n",
    "    # Evaluate the model\n",
    "    model = model.load()\n",
    "    trainer.test(model, datamodule)\n",
    "\n",
    "    # Finish the run if  it was running\n",
    "    if wandb.run is not None:\n",
    "        wandb.finish()\n"
   ],
   "outputs": [
    {
     "name": "stderr",
     "output_type": "stream",
     "text": [
      "GPU available: True (cuda), used: True\n",
      "TPU available: False, using: 0 TPU cores\n",
      "IPU available: False, using: 0 IPUs\n",
      "HPU available: False, using: 0 HPUs\n",
      "Running in `fast_dev_run` mode: will run the requested loop using 1 batch(es). Logging and checkpointing is suppressed.\n",
      "LOCAL_RANK: 0 - CUDA_VISIBLE_DEVICES: [0]\n",
      "\n",
      "  | Name | Type            | Params\n",
      "-----------------------------------------\n",
      "0 | fc1  | Linear          | 128   \n",
      "1 | fc2  | Linear          | 4.2 K \n",
      "2 | mu   | Linear          | 65    \n",
      "3 | var  | Linear          | 65    \n",
      "4 | NLL  | GaussianNLLLoss | 0     \n",
      "-----------------------------------------\n",
      "4.4 K     Trainable params\n",
      "0         Non-trainable params\n",
      "4.4 K     Total params\n",
      "0.018     Total estimated model params size (MB)\n",
      "C:\\Python\\Python39\\lib\\site-packages\\lightning\\pytorch\\trainer\\connectors\\data_connector.py:492: Your `val_dataloader`'s sampler has shuffling enabled, it is strongly recommended that you turn shuffling off for val/test dataloaders.\n"
     ]
    },
    {
     "data": {
      "text/plain": [
       "Training: |          | 0/? [00:00<?, ?it/s]"
      ],
      "application/vnd.jupyter.widget-view+json": {
       "version_major": 2,
       "version_minor": 0,
       "model_id": "25da5d67712e4fc4bfdf9ace192e0d93"
      }
     },
     "metadata": {},
     "output_type": "display_data"
    },
    {
     "name": "stdout",
     "output_type": "stream",
     "text": [
      "torch.Size([32, 1])\n",
      "torch.Size([32, 1])\n"
     ]
    },
    {
     "data": {
      "text/plain": [
       "Validation: |          | 0/? [00:00<?, ?it/s]"
      ],
      "application/vnd.jupyter.widget-view+json": {
       "version_major": 2,
       "version_minor": 0,
       "model_id": "ad97bc3e94d546db8305627d3cb46454"
      }
     },
     "metadata": {},
     "output_type": "display_data"
    },
    {
     "name": "stderr",
     "output_type": "stream",
     "text": [
      "`Trainer.fit` stopped: `max_steps=1` reached.\n",
      "LOCAL_RANK: 0 - CUDA_VISIBLE_DEVICES: [0]\n",
      "C:\\Python\\Python39\\lib\\site-packages\\lightning\\pytorch\\trainer\\connectors\\data_connector.py:492: Your `test_dataloader`'s sampler has shuffling enabled, it is strongly recommended that you turn shuffling off for val/test dataloaders.\n"
     ]
    },
    {
     "data": {
      "text/plain": [
       "Testing: |          | 0/? [00:00<?, ?it/s]"
      ],
      "application/vnd.jupyter.widget-view+json": {
       "version_major": 2,
       "version_minor": 0,
       "model_id": "c7849022842649e8b9a8caa8def5e16c"
      }
     },
     "metadata": {},
     "output_type": "display_data"
    }
   ],
   "execution_count": 7
  },
  {
   "metadata": {
    "ExecuteTime": {
     "end_time": "2024-07-30T13:28:13.332995Z",
     "start_time": "2024-07-30T13:28:13.322455Z"
    }
   },
   "cell_type": "code",
   "source": "",
   "id": "d8f7efe0350ece01",
   "outputs": [],
   "execution_count": 7
  }
 ],
 "metadata": {
  "kernelspec": {
   "display_name": "Python 3 (ipykernel)",
   "language": "python",
   "name": "python3"
  },
  "language_info": {
   "codemirror_mode": {
    "name": "ipython",
    "version": 3
   },
   "file_extension": ".py",
   "mimetype": "text/x-python",
   "name": "python",
   "nbconvert_exporter": "python",
   "pygments_lexer": "ipython3",
   "version": "3.9.13"
  }
 },
 "nbformat": 4,
 "nbformat_minor": 5
}
