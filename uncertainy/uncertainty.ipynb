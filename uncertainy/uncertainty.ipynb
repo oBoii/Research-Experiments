{
 "cells": [
  {
   "cell_type": "code",
   "id": "initial_id",
   "metadata": {
    "collapsed": true,
    "jupyter": {
     "outputs_hidden": true
    },
    "ExecuteTime": {
     "end_time": "2024-07-30T11:36:52.513563Z",
     "start_time": "2024-07-30T11:36:47.856868Z"
    }
   },
   "source": [
    "import argparse\n",
    "import datetime\n",
    "import os\n",
    "import sys\n",
    "\n",
    "import pytorch_lightning as pl\n",
    "import torch\n",
    "import wandb\n",
    "from pytorch_lightning.loggers import WandbLogger\n",
    "from uncertainy.radio import get_radio_data_loaders\n",
    "from torch import nn\n",
    "# Generate plot of the data\n",
    "import matplotlib.pyplot as plt\n",
    "\n",
    "torch.set_float32_matmul_precision('medium')\n",
    "device = torch.device(\"cuda:0\") if torch.cuda.is_available() else torch.device(\"cpu\")"
   ],
   "outputs": [],
   "execution_count": 1
  },
  {
   "cell_type": "code",
   "id": "2872261e06ec0e70",
   "metadata": {
    "collapsed": false,
    "ExecuteTime": {
     "end_time": "2024-07-30T11:36:52.529342Z",
     "start_time": "2024-07-30T11:36:52.513563Z"
    }
   },
   "source": [
    "h = {  # hyperparameters\n",
    "    'dataset': 'TOY_REGRESSION',  #'TOY_REGRESSION', 'RADIO',\n",
    "    'dataset_path': '../data/',\n",
    "\n",
    "    'in_channels': 2,\n",
    "    'hidden_channels': 32,\n",
    "    'epochs': 2,\n",
    "    'learning_rate': 1e-4,\n",
    "    'checkpoint_path': './saved_models',\n",
    "    'batch_size': 128,\n",
    "    'num_workers': 8,\n",
    "    'train': False,  # Set this to false if you only want to evaluate the model\n",
    "\n",
    "    'limit_train_batches': 1.0,\n",
    "    'limit_val_batches': 1.0,\n",
    "    'limit_test_batches': 1.0,\n",
    "\n",
    "    'use_wandb': False,\n",
    "    'wandb_project': 'uncertainty',\n",
    "    'wandb_entity': 'oBoii',\n",
    "    'wandb_name': 'radio',\n",
    "\n",
    "    'fast_dev_run': True,\n",
    "    'overfit_batches': None\n",
    "}"
   ],
   "outputs": [],
   "execution_count": 2
  },
  {
   "cell_type": "code",
   "source": [
    "# Check if the script is being run in a Jupyter notebook\n",
    "if 'ipykernel' not in sys.modules:\n",
    "    # Parse command-line arguments\n",
    "    parser = argparse.ArgumentParser()\n",
    "    for key, value in h.items():\n",
    "        if isinstance(value, bool):\n",
    "            parser.add_argument(f'--{key}', type=bool, default=value)\n",
    "        elif isinstance(value, int):\n",
    "            parser.add_argument(f'--{key}', type=int, default=value)\n",
    "        elif isinstance(value, float):\n",
    "            parser.add_argument(f'--{key}', type=float, default=value)\n",
    "        else:  # for str and potentially other types\n",
    "            parser.add_argument(f'--{key}', type=type(value), default=value)\n",
    "    args = parser.parse_args()\n",
    "\n",
    "    # Overwrite the default hyperparameters with the command-line arguments\n",
    "    h.update(vars(args))\n",
    "\n",
    "# In terminal, run:\n",
    "# python main.py --model SinkhornConvNetV2 --epochs 30"
   ],
   "metadata": {
    "collapsed": false,
    "ExecuteTime": {
     "end_time": "2024-07-30T11:36:52.545851Z",
     "start_time": "2024-07-30T11:36:52.530443Z"
    }
   },
   "id": "782efec0071d7437",
   "outputs": [],
   "execution_count": 3
  },
  {
   "cell_type": "code",
   "source": [
    "# if h['model'] == 'Sink':\n",
    "#     SinkhornConvNet = SinkhornConvNetV1\n",
    "# elif h['model'] == 'SinkV2':\n",
    "#     SinkhornConvNet = SinkhornConvNetV2\n",
    "# elif h['model'] == 'SinkV3':\n",
    "#     SinkhornConvNet = SinkhornConvNetV3\n",
    "# else:\n",
    "#     raise ValueError(f\"Unknown model: {h['model']}\")\n",
    "\n",
    "class SimpleNet(nn.Module):\n",
    "    def __init__(self):\n",
    "        super(SimpleNet, self).__init__()\n",
    "        hidden_size = 64\n",
    "\n",
    "        self.fc1 = nn.Linear(1, hidden_size)\n",
    "        self.fc2 = nn.Linear(hidden_size, hidden_size)\n",
    "        self.mu = nn.Linear(hidden_size, 1)\n",
    "        self.var = nn.Linear(hidden_size, 1)\n",
    "\n",
    "    def forward(self, x):\n",
    "        h = torch.relu(self.fc1(x))\n",
    "        h = torch.relu(self.fc2(h))\n",
    "        mu = self.mu(h)\n",
    "        var = torch.exp(self.var(h))\n",
    "        return mu, var"
   ],
   "metadata": {
    "collapsed": false,
    "ExecuteTime": {
     "end_time": "2024-07-30T11:36:52.561715Z",
     "start_time": "2024-07-30T11:36:52.545920Z"
    }
   },
   "id": "b515de4dbeeb21c9",
   "outputs": [],
   "execution_count": 4
  },
  {
   "cell_type": "code",
   "id": "39e7deae86e70d1d",
   "metadata": {
    "collapsed": false,
    "ExecuteTime": {
     "end_time": "2024-07-30T11:37:33.928010Z",
     "start_time": "2024-07-30T11:37:31.480770Z"
    }
   },
   "source": [
    "from uncertainy.toy_regression import get_toy_regression_data_loaders\n",
    "\n",
    "if h['dataset'] == 'RADIO':\n",
    "    train_loader, val_loader, test_loader = get_radio_data_loaders(\n",
    "        all_datasets_path=h['dataset_path'],\n",
    "        batch_size=h['batch_size'],\n",
    "        num_workers=h['num_workers'])\n",
    "elif h['dataset'] == 'TOY_REGRESSION':\n",
    "    train_loader, val_loader, test_loader = get_toy_regression_data_loaders(\n",
    "        batch_size=h['batch_size'],\n",
    "        num_workers=h['num_workers'],\n",
    "        num_points=1_000)\n",
    "\n",
    "    x, y = next(iter(val_loader))\n",
    "    plt.scatter(x, y)\n",
    "    plt.show()\n",
    "else:\n",
    "    raise ValueError(f\"Unknown dataset: {h['dataset']}\")"
   ],
   "outputs": [
    {
     "data": {
      "text/plain": [
       "<Figure size 640x480 with 1 Axes>"
      ],
      "image/png": "[encoded data removed]"
     },
     "metadata": {},
     "output_type": "display_data"
    },
    {
     "name": "stdout",
     "output_type": "stream",
     "text": [
      "torch.Size([128]) torch.Size([128])\n"
     ]
    }
   ],
   "execution_count": 8
  },
  {
   "cell_type": "code",
   "execution_count": 103,
   "id": "72ca7ac9073ef3ea",
   "metadata": {
    "collapsed": false,
    "ExecuteTime": {
     "end_time": "2024-05-22T09:11:00.804195600Z",
     "start_time": "2024-05-22T09:11:00.784408100Z"
    }
   },
   "outputs": [],
   "source": [
    "class CustomCallbacks(pl.Callback):\n",
    "    pass\n",
    "\n",
    "#     def __init__(self, plot_every_n_epoch, num_pieces, wandb_logger: WandbLogger):\n",
    "#         super().__init__()\n",
    "#         self.plot_every_n_epoch = plot_every_n_epoch\n",
    "#         self.num_pieces = num_pieces\n",
    "#         self.wandb_logger = wandb_logger\n",
    "# \n",
    "#     def assemble_image(self, pieces):\n",
    "#         # pieces: [num_pieces, channels, height // num_pieces, width // num_pieces]\n",
    "#         num_pieces, channels, piece_height, piece_width = pieces.shape\n",
    "#         num_pieces_side = int(num_pieces ** 0.5)\n",
    "# \n",
    "#         # Reshape to [num_pieces_side, num_pieces_side, channels, piece_height, piece_width]\n",
    "#         pieces = pieces.view(num_pieces_side, num_pieces_side, channels, piece_height, piece_width)\n",
    "# \n",
    "#         # Permute to [channels, num_pieces_side, piece_height, num_pieces_side, piece_width]\n",
    "#         pieces = pieces.permute(2, 0, 3, 1, 4)\n",
    "# \n",
    "#         # Reshape to [channels, height, width]\n",
    "#         image = pieces.contiguous().view(channels, num_pieces_side * piece_height, num_pieces_side * piece_width)\n",
    "# \n",
    "#         return image\n",
    "# \n",
    "#     def log_images(self, trainer, pl_module, loader, prefix):\n",
    "#         if (trainer.current_epoch % self.plot_every_n_epoch == 0) or (trainer.current_epoch == h['epochs'] - 1):\n",
    "#             pl_module.eval()\n",
    "#             image_batch, label_batch = next(iter(loader))\n",
    "#             pieces, random_pieces, _ = batch_chunk_image(image_batch, self.num_pieces)\n",
    "#             pieces, random_pieces = pieces.to(pl_module.device), random_pieces.to(pl_module.device)\n",
    "# \n",
    "#             ordered_pieces, permutation_matrices = pl_module(random_pieces)\n",
    "#             # Assemble the pieces into a single image before logging\n",
    "#             nb_ims = min(ordered_pieces.shape[0], 10)\n",
    "#             for i in range(nb_ims):\n",
    "#                 initial_image = self.assemble_image(random_pieces[i])\n",
    "#                 ordered_image = self.assemble_image(ordered_pieces[i])\n",
    "#                 ground_truth_image = self.assemble_image(pieces[i])\n",
    "# \n",
    "#                 # log to wandb\n",
    "#                 self.wandb_logger.experiment.log(\n",
    "#                     {f\"{prefix}_predicted_image/img_{i}\": wandb.Image(ordered_image.cpu().squeeze(),\n",
    "#                                                                       caption=f\"Label {label_batch[i]}\"),\n",
    "#                      f\"{prefix}_ground_truth/img_{i}\": wandb.Image(ground_truth_image.cpu().squeeze(),\n",
    "#                                                                    caption=f\"Label {label_batch[i]}\"),\n",
    "#                      f\"{prefix}_input/img_{i}\": wandb.Image(initial_image.cpu().squeeze(),\n",
    "#                                                             caption=f\"Label {label_batch[i]}\")},\n",
    "#                     step=trainer.global_step)\n",
    "# \n",
    "#             pl_module.train()\n",
    "# \n",
    "#     def on_train_epoch_end(self, trainer: pl.Trainer, pl_module: SinkhornConvNet):\n",
    "#         self.log_images(trainer, pl_module, train_loader, \"TRAIN\")\n",
    "# \n",
    "#     def on_validation_epoch_end(self, trainer: pl.Trainer, pl_module: SinkhornConvNet):\n",
    "#         pass\n",
    "# \n",
    "#     def on_train_end(self, trainer, pl_module):\n",
    "#         self.log_images(trainer, pl_module, test_loader, \"TEST_SET_train_end\")\n"
   ]
  },
  {
   "cell_type": "code",
   "execution_count": 104,
   "id": "9614d75c960f9ff8",
   "metadata": {
    "collapsed": false,
    "ExecuteTime": {
     "end_time": "2024-05-22T09:11:00.816801200Z",
     "start_time": "2024-05-22T09:11:00.804195600Z"
    }
   },
   "outputs": [],
   "source": [
    "# Initialize the model\n",
    "model = SimpleNet()\n",
    "if h['train']:\n",
    "    if h['use_wandb']:\n",
    "        date_identifier = datetime.datetime.now().strftime(\"%Y%m%d-%H%M%S\")\n",
    "        wandb_logger = WandbLogger()\n",
    "        wandb.init(project=h['wandb_project'],\n",
    "                   config=h,\n",
    "                   entity=h['wandb_entity'],\n",
    "                   name=h['wandb_name'])\n",
    "\n",
    "    trainer = pl.Trainer(\n",
    "        max_epochs=h['epochs'],\n",
    "        # callbacks=[CustomCallbacks(plot_every_n_epoch=1, num_pieces=h['num_pieces'],\n",
    "        #                            wandb_logger=wandb_logger)] if h['use_wandb'] else None,\n",
    "        # logger=wandb_logger if h['use_wandb'] else None,\n",
    "        limit_train_batches=h['limit_train_batches'],\n",
    "        limit_val_batches=h['limit_val_batches'],\n",
    "        limit_test_batches=h['limit_test_batches'],\n",
    "        fast_dev_run=h['fast_dev_run'],\n",
    "        overfit_batches=h['overfit_batches'])\n",
    "\n",
    "    # Train the model\n",
    "    trainer.fit(model, train_loader, val_dataloaders=test_loader)\n",
    "\n",
    "    # Save the model\n",
    "    torch.save(model.state_dict(), os.path.join(h['checkpoint_path'], 'model.pth'))\n",
    "\n",
    "    # Finish the run if we it was running\n",
    "    if wandb.run is not None:\n",
    "        wandb.finish()\n"
   ]
  },
  {
   "cell_type": "code",
   "execution_count": 105,
   "id": "628a377030e96d13",
   "metadata": {
    "collapsed": false,
    "ExecuteTime": {
     "end_time": "2024-05-22T09:11:04.384394500Z",
     "start_time": "2024-05-22T09:11:04.364224100Z"
    }
   },
   "outputs": [],
   "source": []
  }
 ],
 "metadata": {
  "kernelspec": {
   "display_name": "Python 3 (ipykernel)",
   "language": "python",
   "name": "python3"
  },
  "language_info": {
   "codemirror_mode": {
    "name": "ipython",
    "version": 3
   },
   "file_extension": ".py",
   "mimetype": "text/x-python",
   "name": "python",
   "nbconvert_exporter": "python",
   "pygments_lexer": "ipython3",
   "version": "3.9.13"
  }
 },
 "nbformat": 4,
 "nbformat_minor": 5
}
