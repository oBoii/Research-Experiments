{
 "cells": [
  {
   "cell_type": "code",
   "id": "initial_id",
   "metadata": {
    "collapsed": true,
    "jupyter": {
     "outputs_hidden": true
    },
    "ExecuteTime": {
     "end_time": "2024-07-30T13:35:26.978955Z",
     "start_time": "2024-07-30T13:35:26.956743Z"
    }
   },
   "source": [
    "import argparse\n",
    "import datetime\n",
    "import os\n",
    "import sys\n",
    "\n",
    "import matplotlib.pyplot as plt\n",
    "import torch\n",
    "import wandb\n",
    "from pytorch_lightning.loggers import WandbLogger\n",
    "from torch import nn\n",
    "from typing import Tuple\n",
    "import lightning as L\n",
    "from uncertainy.radio import get_radio_data_loaders\n",
    "from shared.data_module import DataModule\n",
    "from uncertainy.toy_regression import get_toy_regression_data_loaders\n",
    "\n",
    "torch.set_float32_matmul_precision('medium')\n",
    "device = torch.device(\"cuda:0\") if torch.cuda.is_available() else torch.device(\"cpu\")"
   ],
   "outputs": [],
   "execution_count": 8
  },
  {
   "metadata": {
    "ExecuteTime": {
     "end_time": "2024-07-30T13:35:26.994071Z",
     "start_time": "2024-07-30T13:35:26.978955Z"
    }
   },
   "cell_type": "code",
   "source": [
    "h = {  # hyperparameters\n",
    "    'ensemble_size': 3,\n",
    "    'dataset': 'TOY_REGRESSION',  #'TOY_REGRESSION', 'RADIO',\n",
    "    'dataset_path': '../data/',\n",
    "\n",
    "    'in_channels': 2,\n",
    "    'hidden_channels': 32,\n",
    "    'epochs': 2,\n",
    "    'learning_rate': 1e-4,\n",
    "    'checkpoint_path': './saved_models',\n",
    "    'batch_size': 32,\n",
    "    'num_workers': 4,\n",
    "\n",
    "    'limit_train_batches': 1.0,\n",
    "    'limit_val_batches': 1.0,\n",
    "    'limit_test_batches': 1.0,\n",
    "\n",
    "    'use_wandb': False,\n",
    "    'wandb_project': 'uncertainty',\n",
    "    'wandb_entity': 'oBoii',\n",
    "    'wandb_name': 'radio',\n",
    "\n",
    "    'train': True,  # Set this to false if you only want to evaluate the model\n",
    "    'fast_dev_run': True,\n",
    "    'overfit_batches': 0.0\n",
    "}"
   ],
   "id": "2872261e06ec0e70",
   "outputs": [],
   "execution_count": 9
  },
  {
   "metadata": {
    "ExecuteTime": {
     "end_time": "2024-07-30T13:35:27.010987Z",
     "start_time": "2024-07-30T13:35:26.995176Z"
    }
   },
   "cell_type": "code",
   "source": [
    "# Check if the script is being run in a Jupyter notebook\n",
    "if 'ipykernel' not in sys.modules:\n",
    "    # Parse command-line arguments\n",
    "    parser = argparse.ArgumentParser()\n",
    "    for key, value in h.items():\n",
    "        if isinstance(value, bool):\n",
    "            parser.add_argument(f'--{key}', type=bool, default=value)\n",
    "        elif isinstance(value, int):\n",
    "            parser.add_argument(f'--{key}', type=int, default=value)\n",
    "        elif isinstance(value, float):\n",
    "            parser.add_argument(f'--{key}', type=float, default=value)\n",
    "        else:  # for str and potentially other types\n",
    "            parser.add_argument(f'--{key}', type=type(value), default=value)\n",
    "    args = parser.parse_args()\n",
    "\n",
    "    # Overwrite the default hyperparameters with the command-line arguments\n",
    "    h.update(vars(args))\n",
    "\n",
    "# In terminal, run:\n",
    "# python main.py --model SinkhornConvNetV2 --epochs 30"
   ],
   "id": "782efec0071d7437",
   "outputs": [],
   "execution_count": 10
  },
  {
   "cell_type": "code",
   "source": [
    "class SimpleNet(L.LightningModule):\n",
    "    def __init__(self):\n",
    "        super(SimpleNet, self).__init__()\n",
    "        hidden_size = 64\n",
    "\n",
    "        self.fc1 = nn.Linear(1, hidden_size)\n",
    "        self.fc2 = nn.Linear(hidden_size, hidden_size)\n",
    "        self.mu = nn.Linear(hidden_size, 1)\n",
    "        self.var = nn.Linear(hidden_size, 1)\n",
    "\n",
    "        # negative log likelihood\n",
    "        self.NLL = torch.nn.GaussianNLLLoss(eps=1e-02)\n",
    "\n",
    "    def forward(self, x) -> Tuple[torch.Tensor, torch.Tensor]:\n",
    "        h = torch.relu(self.fc1(x))\n",
    "        h = torch.relu(self.fc2(h))\n",
    "        mu = self.mu(h)\n",
    "        var = torch.exp(self.var(h))\n",
    "        return mu, var\n",
    "\n",
    "    def training_step(self, batch, batch_idx):\n",
    "        x, y = batch\n",
    "        print(x.shape)\n",
    "        print(y.shape)\n",
    "        mu, var = self.forward(x)\n",
    "        loss = self.NLL(mu, y, var)  # strange order of arguments but it is what it is\n",
    "        return loss\n",
    "\n",
    "    def validation_step(self, batch, batch_idx):\n",
    "        x, y = batch\n",
    "        mu, var = self.forward(x)\n",
    "        loss = self.NLL(mu, y, var)\n",
    "        return loss\n",
    "\n",
    "    def test_step(self, batch, batch_idx):\n",
    "        x, y = batch\n",
    "        mu, var = self.forward(x)\n",
    "        loss = self.NLL(mu, y, var)\n",
    "        return loss\n",
    "\n",
    "    def configure_optimizers(self):\n",
    "        return torch.optim.Adam(self.parameters(), lr=1e-3)\n",
    "\n",
    "    def save(self) -> None:\n",
    "        os.makedirs(h['checkpoint_path'], exist_ok=True)\n",
    "        torch.save(self.state_dict(), os.path.join(h['checkpoint_path'], 'model.pth'))\n",
    "\n",
    "    def load(self) -> 'SimpleNet':\n",
    "        self.load_state_dict(torch.load(os.path.join(h['checkpoint_path'], 'model.pth')))\n",
    "        self.eval()\n",
    "        return self\n",
    "\n",
    "\n",
    "class EnsembleNet(L.LightningModule):\n",
    "    def __init__(self, num_models: int):\n",
    "        super(EnsembleNet, self).__init__()\n",
    "        self.models = nn.ModuleList([SimpleNet() for _ in range(num_models)])\n",
    "        self.num_models = num_models\n",
    "\n",
    "    def forward(self, x) -> Tuple[torch.Tensor, torch.Tensor]:\n",
    "        mus, vars = [], []\n",
    "        for model in self.models:\n",
    "            mu, var = model(x)\n",
    "            mus.append(mu)\n",
    "            vars.append(var)\n",
    "        mus = torch.stack(mus, dim=0)\n",
    "        vars = torch.stack(vars, dim=0)\n",
    "        return mus.mean(dim=0), vars.mean(dim=0)\n",
    "\n",
    "    def training_step(self, batch, batch_idx):\n",
    "        x, y = batch\n",
    "        losses = []\n",
    "        for model in self.models:\n",
    "            mu, var = model(x)\n",
    "            loss = model.NLL(mu, y, var)\n",
    "            losses.append(loss)\n",
    "        return torch.stack(losses).mean()\n",
    "\n",
    "    def validation_step(self, batch, batch_idx):\n",
    "        x, y = batch\n",
    "        losses = []\n",
    "        for model in self.models:\n",
    "            mu, var = model(x)\n",
    "            loss = model.NLL(mu, y, var)\n",
    "            losses.append(loss)\n",
    "        return torch.stack(losses).mean()\n",
    "\n",
    "    def test_step(self, batch, batch_idx):\n",
    "        x, y = batch\n",
    "        losses = []\n",
    "        for model in self.models:\n",
    "            mu, var = model(x)\n",
    "            loss = model.NLL(mu, y, var)\n",
    "            losses.append(loss)\n",
    "        return torch.stack(losses).mean()\n",
    "\n",
    "    def configure_optimizers(self):\n",
    "        optimizers = [torch.optim.Adam(model.parameters(), lr=1e-3) for model in self.models]\n",
    "        return optimizers\n",
    "\n",
    "    def save(self) -> None:\n",
    "        os.makedirs(h['checkpoint_path'], exist_ok=True)\n",
    "        for i, model in enumerate(self.models):\n",
    "            torch.save(model.state_dict(), os.path.join(h['checkpoint_path'], f'model_{i}.pth'))\n",
    "\n",
    "    def load(self) -> 'EnsembleNet':\n",
    "        for i, model in enumerate(self.models):\n",
    "            model.load_state_dict(torch.load(os.path.join(h['checkpoint_path'], f'model_{i}.pth')))\n",
    "            model.eval()\n",
    "        return self\n"
   ],
   "metadata": {
    "collapsed": false,
    "ExecuteTime": {
     "end_time": "2024-07-30T13:35:27.149878Z",
     "start_time": "2024-07-30T13:35:27.012576Z"
    }
   },
   "id": "b515de4dbeeb21c9",
   "outputs": [],
   "execution_count": 11
  },
  {
   "cell_type": "code",
   "id": "39e7deae86e70d1d",
   "metadata": {
    "collapsed": false,
    "ExecuteTime": {
     "end_time": "2024-07-30T13:35:28.930367Z",
     "start_time": "2024-07-30T13:35:27.149878Z"
    }
   },
   "source": [
    "if h['dataset'] == 'RADIO':\n",
    "    train_loader, val_loader, test_loader = get_radio_data_loaders(\n",
    "        all_datasets_path=h['dataset_path'],\n",
    "        batch_size=h['batch_size'],\n",
    "        num_workers=h['num_workers'])\n",
    "elif h['dataset'] == 'TOY_REGRESSION':\n",
    "    train_loader, val_loader, test_loader = get_toy_regression_data_loaders(\n",
    "        batch_size=h['batch_size'],\n",
    "        num_workers=h['num_workers'],\n",
    "        num_points=500)\n",
    "\n",
    "    x, y = next(iter(test_loader))\n",
    "    plt.scatter(x, y)\n",
    "    # x ticks\n",
    "    plt.xticks(fontsize=10)\n",
    "    plt.show()\n",
    "else:\n",
    "    raise ValueError(f\"Unknown dataset: {h['dataset']}\")\n",
    "\n",
    "datamodule = DataModule(train_loader, val_loader, test_loader)"
   ],
   "outputs": [
    {
     "name": "stdout",
     "output_type": "stream",
     "text": [
      "Train loader shape: 350\n",
      "Val loader shape: 75\n",
      "Test loader shape: 75\n"
     ]
    },
    {
     "data": {
      "text/plain": [
       "<Figure size 640x480 with 1 Axes>"
      ],
      "image/png": "[encoded data removed]"
     },
     "metadata": {},
     "output_type": "display_data"
    }
   ],
   "execution_count": 12
  },
  {
   "cell_type": "code",
   "id": "72ca7ac9073ef3ea",
   "metadata": {
    "collapsed": false,
    "ExecuteTime": {
     "end_time": "2024-07-30T13:35:28.945931Z",
     "start_time": "2024-07-30T13:35:28.930367Z"
    }
   },
   "source": [
    "class CustomCallbacks(L.Callback):\n",
    "    pass\n",
    "\n",
    "#     def __init__(self, plot_every_n_epoch, num_pieces, wandb_logger: WandbLogger):\n",
    "#         super().__init__()\n",
    "#         self.plot_every_n_epoch = plot_every_n_epoch\n",
    "#         self.num_pieces = num_pieces\n",
    "#         self.wandb_logger = wandb_logger\n",
    "# \n",
    "#     def assemble_image(self, pieces):\n",
    "#         # pieces: [num_pieces, channels, height // num_pieces, width // num_pieces]\n",
    "#         num_pieces, channels, piece_height, piece_width = pieces.shape\n",
    "#         num_pieces_side = int(num_pieces ** 0.5)\n",
    "# \n",
    "#         # Reshape to [num_pieces_side, num_pieces_side, channels, piece_height, piece_width]\n",
    "#         pieces = pieces.view(num_pieces_side, num_pieces_side, channels, piece_height, piece_width)\n",
    "# \n",
    "#         # Permute to [channels, num_pieces_side, piece_height, num_pieces_side, piece_width]\n",
    "#         pieces = pieces.permute(2, 0, 3, 1, 4)\n",
    "# \n",
    "#         # Reshape to [channels, height, width]\n",
    "#         image = pieces.contiguous().view(channels, num_pieces_side * piece_height, num_pieces_side * piece_width)\n",
    "# \n",
    "#         return image\n",
    "# \n",
    "#     def log_images(self, trainer, pl_module, loader, prefix):\n",
    "#         if (trainer.current_epoch % self.plot_every_n_epoch == 0) or (trainer.current_epoch == h['epochs'] - 1):\n",
    "#             pl_module.eval()\n",
    "#             image_batch, label_batch = next(iter(loader))\n",
    "#             pieces, random_pieces, _ = batch_chunk_image(image_batch, self.num_pieces)\n",
    "#             pieces, random_pieces = pieces.to(pl_module.device), random_pieces.to(pl_module.device)\n",
    "# \n",
    "#             ordered_pieces, permutation_matrices = pl_module(random_pieces)\n",
    "#             # Assemble the pieces into a single image before logging\n",
    "#             nb_ims = min(ordered_pieces.shape[0], 10)\n",
    "#             for i in range(nb_ims):\n",
    "#                 initial_image = self.assemble_image(random_pieces[i])\n",
    "#                 ordered_image = self.assemble_image(ordered_pieces[i])\n",
    "#                 ground_truth_image = self.assemble_image(pieces[i])\n",
    "# \n",
    "#                 # log to wandb\n",
    "#                 self.wandb_logger.experiment.log(\n",
    "#                     {f\"{prefix}_predicted_image/img_{i}\": wandb.Image(ordered_image.cpu().squeeze(),\n",
    "#                                                                       caption=f\"Label {label_batch[i]}\"),\n",
    "#                      f\"{prefix}_ground_truth/img_{i}\": wandb.Image(ground_truth_image.cpu().squeeze(),\n",
    "#                                                                    caption=f\"Label {label_batch[i]}\"),\n",
    "#                      f\"{prefix}_input/img_{i}\": wandb.Image(initial_image.cpu().squeeze(),\n",
    "#                                                             caption=f\"Label {label_batch[i]}\")},\n",
    "#                     step=trainer.global_step)\n",
    "# \n",
    "#             pl_module.train()\n",
    "# \n",
    "#     def on_train_epoch_end(self, trainer: pl.Trainer, pl_module: SinkhornConvNet):\n",
    "#         self.log_images(trainer, pl_module, train_loader, \"TRAIN\")\n",
    "# \n",
    "#     def on_validation_epoch_end(self, trainer: pl.Trainer, pl_module: SinkhornConvNet):\n",
    "#         pass\n",
    "# \n",
    "#     def on_train_end(self, trainer, pl_module):\n",
    "#         self.log_images(trainer, pl_module, test_loader, \"TEST_SET_train_end\")\n"
   ],
   "outputs": [],
   "execution_count": 13
  },
  {
   "cell_type": "code",
   "id": "9614d75c960f9ff8",
   "metadata": {
    "collapsed": false,
    "ExecuteTime": {
     "end_time": "2024-07-30T13:35:29.385080Z",
     "start_time": "2024-07-30T13:35:28.946532Z"
    }
   },
   "source": [
    "# Initialize the model\n",
    "model = EnsembleNet(num_models=h['ensemble_size'])\n",
    "if h['train']:\n",
    "    if h['use_wandb']:\n",
    "        date_identifier = datetime.datetime.now().strftime(\"%Y%m%d-%H%M%S\")\n",
    "        wandb_logger = WandbLogger()\n",
    "        wandb.init(project=h['wandb_project'],\n",
    "                   config=h,\n",
    "                   entity=h['wandb_entity'],\n",
    "                   name=h['wandb_name'])\n",
    "\n",
    "    trainer = L.Trainer(\n",
    "        max_epochs=h['epochs'],\n",
    "        # callbacks=[CustomCallbacks(plot_every_n_epoch=1, num_pieces=h['num_pieces'],\n",
    "        #                            wandb_logger=wandb_logger)] if h['use_wandb'] else None,\n",
    "        # logger=wandb_logger if h['use_wandb'] else None,\n",
    "        limit_train_batches=h['limit_train_batches'],\n",
    "        limit_val_batches=h['limit_val_batches'],\n",
    "        limit_test_batches=h['limit_test_batches'],\n",
    "        fast_dev_run=h['fast_dev_run'],\n",
    "        overfit_batches=h['overfit_batches'])\n",
    "\n",
    "    # Train the model\n",
    "    trainer.fit(model, datamodule)\n",
    "    model.save()\n",
    "\n",
    "    # Evaluate the model\n",
    "    model = model.load()\n",
    "    trainer.test(model, datamodule)\n",
    "\n",
    "    # Finish the run if  it was running\n",
    "    if wandb.run is not None:\n",
    "        wandb.finish()\n"
   ],
   "outputs": [
    {
     "name": "stderr",
     "output_type": "stream",
     "text": [
      "GPU available: True (cuda), used: True\n",
      "TPU available: False, using: 0 TPU cores\n",
      "IPU available: False, using: 0 IPUs\n",
      "HPU available: False, using: 0 HPUs\n",
      "Running in `fast_dev_run` mode: will run the requested loop using 1 batch(es). Logging and checkpointing is suppressed.\n",
      "LOCAL_RANK: 0 - CUDA_VISIBLE_DEVICES: [0]\n"
     ]
    },
    {
     "ename": "RuntimeError",
     "evalue": "Training with multiple optimizers is only supported with manual optimization. Set `self.automatic_optimization = False`, then access your optimizers in `training_step` with `opt1, opt2, ... = self.optimizers()`.",
     "output_type": "error",
     "traceback": [
      "\u001B[1;31m---------------------------------------------------------------------------\u001B[0m",
      "\u001B[1;31mRuntimeError\u001B[0m                              Traceback (most recent call last)",
      "Cell \u001B[1;32mIn[14], line 24\u001B[0m\n\u001B[0;32m     12\u001B[0m trainer \u001B[38;5;241m=\u001B[39m L\u001B[38;5;241m.\u001B[39mTrainer(\n\u001B[0;32m     13\u001B[0m     max_epochs\u001B[38;5;241m=\u001B[39mh[\u001B[38;5;124m'\u001B[39m\u001B[38;5;124mepochs\u001B[39m\u001B[38;5;124m'\u001B[39m],\n\u001B[0;32m     14\u001B[0m     \u001B[38;5;66;03m# callbacks=[CustomCallbacks(plot_every_n_epoch=1, num_pieces=h['num_pieces'],\u001B[39;00m\n\u001B[1;32m   (...)\u001B[0m\n\u001B[0;32m     20\u001B[0m     fast_dev_run\u001B[38;5;241m=\u001B[39mh[\u001B[38;5;124m'\u001B[39m\u001B[38;5;124mfast_dev_run\u001B[39m\u001B[38;5;124m'\u001B[39m],\n\u001B[0;32m     21\u001B[0m     overfit_batches\u001B[38;5;241m=\u001B[39mh[\u001B[38;5;124m'\u001B[39m\u001B[38;5;124moverfit_batches\u001B[39m\u001B[38;5;124m'\u001B[39m])\n\u001B[0;32m     23\u001B[0m \u001B[38;5;66;03m# Train the model\u001B[39;00m\n\u001B[1;32m---> 24\u001B[0m \u001B[43mtrainer\u001B[49m\u001B[38;5;241;43m.\u001B[39;49m\u001B[43mfit\u001B[49m\u001B[43m(\u001B[49m\u001B[43mmodel\u001B[49m\u001B[43m,\u001B[49m\u001B[43m \u001B[49m\u001B[43mdatamodule\u001B[49m\u001B[43m)\u001B[49m\n\u001B[0;32m     25\u001B[0m model\u001B[38;5;241m.\u001B[39msave()\n\u001B[0;32m     27\u001B[0m \u001B[38;5;66;03m# Evaluate the model\u001B[39;00m\n",
      "File \u001B[1;32mC:\\Python\\Python39\\lib\\site-packages\\lightning\\pytorch\\trainer\\trainer.py:543\u001B[0m, in \u001B[0;36mTrainer.fit\u001B[1;34m(self, model, train_dataloaders, val_dataloaders, datamodule, ckpt_path)\u001B[0m\n\u001B[0;32m    541\u001B[0m \u001B[38;5;28mself\u001B[39m\u001B[38;5;241m.\u001B[39mstate\u001B[38;5;241m.\u001B[39mstatus \u001B[38;5;241m=\u001B[39m TrainerStatus\u001B[38;5;241m.\u001B[39mRUNNING\n\u001B[0;32m    542\u001B[0m \u001B[38;5;28mself\u001B[39m\u001B[38;5;241m.\u001B[39mtraining \u001B[38;5;241m=\u001B[39m \u001B[38;5;28;01mTrue\u001B[39;00m\n\u001B[1;32m--> 543\u001B[0m \u001B[43mcall\u001B[49m\u001B[38;5;241;43m.\u001B[39;49m\u001B[43m_call_and_handle_interrupt\u001B[49m\u001B[43m(\u001B[49m\n\u001B[0;32m    544\u001B[0m \u001B[43m    \u001B[49m\u001B[38;5;28;43mself\u001B[39;49m\u001B[43m,\u001B[49m\u001B[43m \u001B[49m\u001B[38;5;28;43mself\u001B[39;49m\u001B[38;5;241;43m.\u001B[39;49m\u001B[43m_fit_impl\u001B[49m\u001B[43m,\u001B[49m\u001B[43m \u001B[49m\u001B[43mmodel\u001B[49m\u001B[43m,\u001B[49m\u001B[43m \u001B[49m\u001B[43mtrain_dataloaders\u001B[49m\u001B[43m,\u001B[49m\u001B[43m \u001B[49m\u001B[43mval_dataloaders\u001B[49m\u001B[43m,\u001B[49m\u001B[43m \u001B[49m\u001B[43mdatamodule\u001B[49m\u001B[43m,\u001B[49m\u001B[43m \u001B[49m\u001B[43mckpt_path\u001B[49m\n\u001B[0;32m    545\u001B[0m \u001B[43m\u001B[49m\u001B[43m)\u001B[49m\n",
      "File \u001B[1;32mC:\\Python\\Python39\\lib\\site-packages\\lightning\\pytorch\\trainer\\call.py:44\u001B[0m, in \u001B[0;36m_call_and_handle_interrupt\u001B[1;34m(trainer, trainer_fn, *args, **kwargs)\u001B[0m\n\u001B[0;32m     42\u001B[0m     \u001B[38;5;28;01mif\u001B[39;00m trainer\u001B[38;5;241m.\u001B[39mstrategy\u001B[38;5;241m.\u001B[39mlauncher \u001B[38;5;129;01mis\u001B[39;00m \u001B[38;5;129;01mnot\u001B[39;00m \u001B[38;5;28;01mNone\u001B[39;00m:\n\u001B[0;32m     43\u001B[0m         \u001B[38;5;28;01mreturn\u001B[39;00m trainer\u001B[38;5;241m.\u001B[39mstrategy\u001B[38;5;241m.\u001B[39mlauncher\u001B[38;5;241m.\u001B[39mlaunch(trainer_fn, \u001B[38;5;241m*\u001B[39margs, trainer\u001B[38;5;241m=\u001B[39mtrainer, \u001B[38;5;241m*\u001B[39m\u001B[38;5;241m*\u001B[39mkwargs)\n\u001B[1;32m---> 44\u001B[0m     \u001B[38;5;28;01mreturn\u001B[39;00m trainer_fn(\u001B[38;5;241m*\u001B[39margs, \u001B[38;5;241m*\u001B[39m\u001B[38;5;241m*\u001B[39mkwargs)\n\u001B[0;32m     46\u001B[0m \u001B[38;5;28;01mexcept\u001B[39;00m _TunerExitException:\n\u001B[0;32m     47\u001B[0m     _call_teardown_hook(trainer)\n",
      "File \u001B[1;32mC:\\Python\\Python39\\lib\\site-packages\\lightning\\pytorch\\trainer\\trainer.py:579\u001B[0m, in \u001B[0;36mTrainer._fit_impl\u001B[1;34m(self, model, train_dataloaders, val_dataloaders, datamodule, ckpt_path)\u001B[0m\n\u001B[0;32m    572\u001B[0m \u001B[38;5;28;01massert\u001B[39;00m \u001B[38;5;28mself\u001B[39m\u001B[38;5;241m.\u001B[39mstate\u001B[38;5;241m.\u001B[39mfn \u001B[38;5;129;01mis\u001B[39;00m \u001B[38;5;129;01mnot\u001B[39;00m \u001B[38;5;28;01mNone\u001B[39;00m\n\u001B[0;32m    573\u001B[0m ckpt_path \u001B[38;5;241m=\u001B[39m \u001B[38;5;28mself\u001B[39m\u001B[38;5;241m.\u001B[39m_checkpoint_connector\u001B[38;5;241m.\u001B[39m_select_ckpt_path(\n\u001B[0;32m    574\u001B[0m     \u001B[38;5;28mself\u001B[39m\u001B[38;5;241m.\u001B[39mstate\u001B[38;5;241m.\u001B[39mfn,\n\u001B[0;32m    575\u001B[0m     ckpt_path,\n\u001B[0;32m    576\u001B[0m     model_provided\u001B[38;5;241m=\u001B[39m\u001B[38;5;28;01mTrue\u001B[39;00m,\n\u001B[0;32m    577\u001B[0m     model_connected\u001B[38;5;241m=\u001B[39m\u001B[38;5;28mself\u001B[39m\u001B[38;5;241m.\u001B[39mlightning_module \u001B[38;5;129;01mis\u001B[39;00m \u001B[38;5;129;01mnot\u001B[39;00m \u001B[38;5;28;01mNone\u001B[39;00m,\n\u001B[0;32m    578\u001B[0m )\n\u001B[1;32m--> 579\u001B[0m \u001B[38;5;28;43mself\u001B[39;49m\u001B[38;5;241;43m.\u001B[39;49m\u001B[43m_run\u001B[49m\u001B[43m(\u001B[49m\u001B[43mmodel\u001B[49m\u001B[43m,\u001B[49m\u001B[43m \u001B[49m\u001B[43mckpt_path\u001B[49m\u001B[38;5;241;43m=\u001B[39;49m\u001B[43mckpt_path\u001B[49m\u001B[43m)\u001B[49m\n\u001B[0;32m    581\u001B[0m \u001B[38;5;28;01massert\u001B[39;00m \u001B[38;5;28mself\u001B[39m\u001B[38;5;241m.\u001B[39mstate\u001B[38;5;241m.\u001B[39mstopped\n\u001B[0;32m    582\u001B[0m \u001B[38;5;28mself\u001B[39m\u001B[38;5;241m.\u001B[39mtraining \u001B[38;5;241m=\u001B[39m \u001B[38;5;28;01mFalse\u001B[39;00m\n",
      "File \u001B[1;32mC:\\Python\\Python39\\lib\\site-packages\\lightning\\pytorch\\trainer\\trainer.py:962\u001B[0m, in \u001B[0;36mTrainer._run\u001B[1;34m(self, model, ckpt_path)\u001B[0m\n\u001B[0;32m    959\u001B[0m \u001B[38;5;28mself\u001B[39m\u001B[38;5;241m.\u001B[39m_logger_connector\u001B[38;5;241m.\u001B[39mreset_metrics()\n\u001B[0;32m    961\u001B[0m \u001B[38;5;66;03m# strategy will configure model and move it to the device\u001B[39;00m\n\u001B[1;32m--> 962\u001B[0m \u001B[38;5;28;43mself\u001B[39;49m\u001B[38;5;241;43m.\u001B[39;49m\u001B[43mstrategy\u001B[49m\u001B[38;5;241;43m.\u001B[39;49m\u001B[43msetup\u001B[49m\u001B[43m(\u001B[49m\u001B[38;5;28;43mself\u001B[39;49m\u001B[43m)\u001B[49m\n\u001B[0;32m    964\u001B[0m \u001B[38;5;66;03m# hook\u001B[39;00m\n\u001B[0;32m    965\u001B[0m \u001B[38;5;28;01mif\u001B[39;00m \u001B[38;5;28mself\u001B[39m\u001B[38;5;241m.\u001B[39mstate\u001B[38;5;241m.\u001B[39mfn \u001B[38;5;241m==\u001B[39m TrainerFn\u001B[38;5;241m.\u001B[39mFITTING:\n",
      "File \u001B[1;32mC:\\Python\\Python39\\lib\\site-packages\\lightning\\pytorch\\strategies\\strategy.py:159\u001B[0m, in \u001B[0;36mStrategy.setup\u001B[1;34m(self, trainer)\u001B[0m\n\u001B[0;32m    156\u001B[0m \u001B[38;5;28mself\u001B[39m\u001B[38;5;241m.\u001B[39mmodel \u001B[38;5;241m=\u001B[39m \u001B[38;5;28mself\u001B[39m\u001B[38;5;241m.\u001B[39m_setup_model(\u001B[38;5;28mself\u001B[39m\u001B[38;5;241m.\u001B[39mmodel)\n\u001B[0;32m    158\u001B[0m \u001B[38;5;28;01mif\u001B[39;00m trainer\u001B[38;5;241m.\u001B[39mstate\u001B[38;5;241m.\u001B[39mfn \u001B[38;5;241m==\u001B[39m TrainerFn\u001B[38;5;241m.\u001B[39mFITTING:\n\u001B[1;32m--> 159\u001B[0m     \u001B[38;5;28;43mself\u001B[39;49m\u001B[38;5;241;43m.\u001B[39;49m\u001B[43msetup_optimizers\u001B[49m\u001B[43m(\u001B[49m\u001B[43mtrainer\u001B[49m\u001B[43m)\u001B[49m\n\u001B[0;32m    160\u001B[0m \u001B[38;5;28mself\u001B[39m\u001B[38;5;241m.\u001B[39msetup_precision_plugin()\n\u001B[0;32m    161\u001B[0m \u001B[38;5;28;01mif\u001B[39;00m trainer\u001B[38;5;241m.\u001B[39mstate\u001B[38;5;241m.\u001B[39mfn \u001B[38;5;241m==\u001B[39m TrainerFn\u001B[38;5;241m.\u001B[39mFITTING:\n",
      "File \u001B[1;32mC:\\Python\\Python39\\lib\\site-packages\\lightning\\pytorch\\strategies\\strategy.py:139\u001B[0m, in \u001B[0;36mStrategy.setup_optimizers\u001B[1;34m(self, trainer)\u001B[0m\n\u001B[0;32m    132\u001B[0m \u001B[38;5;250m\u001B[39m\u001B[38;5;124;03m\"\"\"Creates optimizers and schedulers.\u001B[39;00m\n\u001B[0;32m    133\u001B[0m \n\u001B[0;32m    134\u001B[0m \u001B[38;5;124;03mArgs:\u001B[39;00m\n\u001B[0;32m    135\u001B[0m \u001B[38;5;124;03m    trainer: the Trainer, these optimizers should be connected to\u001B[39;00m\n\u001B[0;32m    136\u001B[0m \n\u001B[0;32m    137\u001B[0m \u001B[38;5;124;03m\"\"\"\u001B[39;00m\n\u001B[0;32m    138\u001B[0m \u001B[38;5;28;01massert\u001B[39;00m \u001B[38;5;28mself\u001B[39m\u001B[38;5;241m.\u001B[39mlightning_module \u001B[38;5;129;01mis\u001B[39;00m \u001B[38;5;129;01mnot\u001B[39;00m \u001B[38;5;28;01mNone\u001B[39;00m\n\u001B[1;32m--> 139\u001B[0m \u001B[38;5;28mself\u001B[39m\u001B[38;5;241m.\u001B[39moptimizers, \u001B[38;5;28mself\u001B[39m\u001B[38;5;241m.\u001B[39mlr_scheduler_configs \u001B[38;5;241m=\u001B[39m \u001B[43m_init_optimizers_and_lr_schedulers\u001B[49m\u001B[43m(\u001B[49m\u001B[38;5;28;43mself\u001B[39;49m\u001B[38;5;241;43m.\u001B[39;49m\u001B[43mlightning_module\u001B[49m\u001B[43m)\u001B[49m\n",
      "File \u001B[1;32mC:\\Python\\Python39\\lib\\site-packages\\lightning\\pytorch\\core\\optimizer.py:192\u001B[0m, in \u001B[0;36m_init_optimizers_and_lr_schedulers\u001B[1;34m(model)\u001B[0m\n\u001B[0;32m    186\u001B[0m optimizers, lr_schedulers, monitor \u001B[38;5;241m=\u001B[39m _configure_optimizers(optim_conf)\n\u001B[0;32m    187\u001B[0m lr_scheduler_configs \u001B[38;5;241m=\u001B[39m (\n\u001B[0;32m    188\u001B[0m     _configure_schedulers_automatic_opt(lr_schedulers, monitor)\n\u001B[0;32m    189\u001B[0m     \u001B[38;5;28;01mif\u001B[39;00m model\u001B[38;5;241m.\u001B[39mautomatic_optimization\n\u001B[0;32m    190\u001B[0m     \u001B[38;5;28;01melse\u001B[39;00m _configure_schedulers_manual_opt(lr_schedulers)\n\u001B[0;32m    191\u001B[0m )\n\u001B[1;32m--> 192\u001B[0m \u001B[43m_validate_multiple_optimizers_support\u001B[49m\u001B[43m(\u001B[49m\u001B[43moptimizers\u001B[49m\u001B[43m,\u001B[49m\u001B[43m \u001B[49m\u001B[43mmodel\u001B[49m\u001B[43m)\u001B[49m\n\u001B[0;32m    193\u001B[0m _validate_optimizers_attached(optimizers, lr_scheduler_configs)\n\u001B[0;32m    194\u001B[0m _validate_scheduler_api(lr_scheduler_configs, model)\n",
      "File \u001B[1;32mC:\\Python\\Python39\\lib\\site-packages\\lightning\\pytorch\\core\\optimizer.py:357\u001B[0m, in \u001B[0;36m_validate_multiple_optimizers_support\u001B[1;34m(optimizers, model)\u001B[0m\n\u001B[0;32m    351\u001B[0m     \u001B[38;5;28;01mraise\u001B[39;00m \u001B[38;5;167;01mRuntimeError\u001B[39;00m(\n\u001B[0;32m    352\u001B[0m         \u001B[38;5;124m\"\u001B[39m\u001B[38;5;124mTraining with multiple optimizers is only supported with manual optimization. Remove the `optimizer_idx`\u001B[39m\u001B[38;5;124m\"\u001B[39m\n\u001B[0;32m    353\u001B[0m         \u001B[38;5;124m\"\u001B[39m\u001B[38;5;124m argument from `training_step`, set `self.automatic_optimization = False` and access your optimizers\u001B[39m\u001B[38;5;124m\"\u001B[39m\n\u001B[0;32m    354\u001B[0m         \u001B[38;5;124m\"\u001B[39m\u001B[38;5;124m in `training_step` with `opt1, opt2, ... = self.optimizers()`.\u001B[39m\u001B[38;5;124m\"\u001B[39m\n\u001B[0;32m    355\u001B[0m     )\n\u001B[0;32m    356\u001B[0m \u001B[38;5;28;01mif\u001B[39;00m model\u001B[38;5;241m.\u001B[39mautomatic_optimization \u001B[38;5;129;01mand\u001B[39;00m \u001B[38;5;28mlen\u001B[39m(optimizers) \u001B[38;5;241m>\u001B[39m \u001B[38;5;241m1\u001B[39m:\n\u001B[1;32m--> 357\u001B[0m     \u001B[38;5;28;01mraise\u001B[39;00m \u001B[38;5;167;01mRuntimeError\u001B[39;00m(\n\u001B[0;32m    358\u001B[0m         \u001B[38;5;124m\"\u001B[39m\u001B[38;5;124mTraining with multiple optimizers is only supported with manual optimization. Set\u001B[39m\u001B[38;5;124m\"\u001B[39m\n\u001B[0;32m    359\u001B[0m         \u001B[38;5;124m\"\u001B[39m\u001B[38;5;124m `self.automatic_optimization = False`, then access your optimizers in `training_step` with\u001B[39m\u001B[38;5;124m\"\u001B[39m\n\u001B[0;32m    360\u001B[0m         \u001B[38;5;124m\"\u001B[39m\u001B[38;5;124m `opt1, opt2, ... = self.optimizers()`.\u001B[39m\u001B[38;5;124m\"\u001B[39m\n\u001B[0;32m    361\u001B[0m     )\n",
      "\u001B[1;31mRuntimeError\u001B[0m: Training with multiple optimizers is only supported with manual optimization. Set `self.automatic_optimization = False`, then access your optimizers in `training_step` with `opt1, opt2, ... = self.optimizers()`."
     ]
    }
   ],
   "execution_count": 14
  },
  {
   "metadata": {},
   "cell_type": "code",
   "source": "",
   "id": "d8f7efe0350ece01",
   "outputs": [],
   "execution_count": null
  }
 ],
 "metadata": {
  "kernelspec": {
   "display_name": "Python 3 (ipykernel)",
   "language": "python",
   "name": "python3"
  },
  "language_info": {
   "codemirror_mode": {
    "name": "ipython",
    "version": 3
   },
   "file_extension": ".py",
   "mimetype": "text/x-python",
   "name": "python",
   "nbconvert_exporter": "python",
   "pygments_lexer": "ipython3",
   "version": "3.9.13"
  }
 },
 "nbformat": 4,
 "nbformat_minor": 5
}
